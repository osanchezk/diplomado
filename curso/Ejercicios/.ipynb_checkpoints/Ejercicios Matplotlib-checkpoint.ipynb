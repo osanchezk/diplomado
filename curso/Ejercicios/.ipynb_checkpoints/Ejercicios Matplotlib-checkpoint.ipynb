{
 "cells": [
  {
   "cell_type": "code",
   "execution_count": 184,
   "metadata": {
    "scrolled": false
   },
   "outputs": [
    {
     "data": {
      "text/plain": [
       "(array([0, 1, 2, 3, 4, 5, 6]), <a list of 7 Text xticklabel objects>)"
      ]
     },
     "execution_count": 184,
     "metadata": {},
     "output_type": "execute_result"
    },
    {
     "data": {
      "image/png": "[encoded data removed]",
      "text/plain": [
       "<Figure size 432x288 with 1 Axes>"
      ]
     },
     "metadata": {
      "needs_background": "light"
     },
     "output_type": "display_data"
    }
   ],
   "source": [
    "import pandas as pd\n",
    "import numpy as np\n",
    "import matplotlib.pyplot as plt\n",
    "import seaborn as sns\n",
    "\n",
    "countries = pd.read_csv(\"world_table_country.csv\")\n",
    "\n",
    "#getData1 = pd.ExcelFile(\"/home/oksm/python/Diplomado/Modulo2 - Pandas Numpy/dataMB/register.xlsx\")\n",
    "#Content Center\n",
    "# Articles: V2 Expert Opinion\n",
    "# media: V2 Podcast List Articles\n",
    "# News block\n",
    "#x = np.array([1,2,3,4,5,6,7])\n",
    "#y = x + 1\n",
    "\n",
    "#plt.title(\"Titulo\")\n",
    "#plt.xlabel(\"Test1\")\n",
    "#plt.ylabel(\"Test2\")\n",
    "#plt.plot(x,y)\n",
    "#plt.plot(y,x)\n",
    "#plt.show()\n",
    "\n",
    "centralAmerica = countries.loc[(countries['Continent']=='North America') & (countries['Region']=='Central America'),['Code', 'Name', 'SurfaceArea', 'Population', 'LifeExpectancy', 'GNP']]\n",
    "#Le asignamos el indice al nuevo dataframe\n",
    "centralAmerica.set_index('Code', inplace=True )\n",
    "\n",
    "#Ejemplo para MatPlotLib\n",
    "#fig, axs = plt.subplots(2,2,figsize=(10,8)) \n",
    "#axs[0,1].plot(centralAmerica['SurfaceArea']) \n",
    "#axs[0,1].set_title(\"Superficie territorial\") \n",
    "#axs[0,1].set_xlabel(\"Km cuadrados\") \n",
    "#centralAmerica\n",
    "\n",
    "#Ejemplo con Pandas\n",
    "#fig, axs = plt.subplots(2,2,figsize=(15,10))\n",
    "#plt.subplots_adjust(wspace=0.2, hspace=0.32) \n",
    "#centralAmerica.plot(x='Name', y='SurfaceArea', title=\"Superficie Territorial\" , ax=axs[0,1], rot=45)\n",
    "#centralAmerica.plot(subplots=True, layout=(3,3), figsize=(15,10), rot=0)\n",
    "#centralAmerica\n",
    "\n",
    "#Ejemplo con Seaborn\n",
    "#fig, axs = plt.subplots(2,2,figsize=(15,10)) \n",
    "#plt.subplots_adjust(wspace=0.2, hspace=0.32) \n",
    "#sns.lineplot(x=centralAmerica['Name'], y=centralAmerica['SurfaceArea'], ax=axs[0,1]); \n",
    "#axs[0,1].tick_params(axis='x', rotation=90)\n",
    "\n",
    "#entralAmerica.T\n",
    "\n",
    "\n",
    "#Hist\n",
    "#countries['LifeExpectancy']\n",
    "#plt.hist(countries['LifeExpectancy'])\n",
    "#plt.hist(countries['LifeExpectancy'], bins=[0,10,20,30,40,50,60,70,80,90,100])\n",
    "\n",
    "#sns.histplot(countries['LifeExpectancy'], bins=[0,10,20,30,40,50,60,70,80,90,100])\n",
    "#sns.countplot(countries['Continent'])\n",
    "#plt.xticks(rotation=90)\n",
    "\n",
    "#Box PLot\n",
    "#countries['LifeExpectancy'].mean()\n",
    "#plt.boxplot(countries['LifeExpectancy'].dropna(), labels=['LifeExpectancy'])\n",
    "#countries['LifeExpectancy'].quantile(.25)\n",
    "#countries['LifeExpectancy'].median()\n",
    "#countries['LifeExpectancy'].quantile(.75)\n",
    "\n",
    "#scatter Plot\n",
    "#plt.scatter(x=countries['SurfaceArea'], y=countries['Population'])\n",
    "#countries[['SurfaceArea', 'Population']]\n",
    "#plt.scatter(x=np.log(countries['SurfaceArea']), y=np.log(countries['Population']))\n",
    "#Pandas\n",
    "#countries.plot.scatter(x='SurfaceArea', y='Population', logx=True, logy=True)\n",
    "\n",
    "#sns.scatterplot(x=np.log(countries['SurfaceArea']), y=np.log(countries['Population']))\n",
    "#sns.scatterplot(x=np.log(countries['GNP']), y=np.log(countries['LifeExpectancy']))\n",
    "#countries['GNP'].corr(countries['LifeExpectancy'])\n",
    "\n",
    "#Scatter Plot Matrices\n",
    "#countries.drop(['IndepYear','Capital','GNPOld'], axis=1, inplace=True)\n",
    "#pd.plotting.scatter_matrix(countries, figsize=(10,10))\n",
    "\n",
    "#sns.pairplot(countries)\n",
    "#sns.heatmap(round(countries.corr(),2), annot=True)\n",
    "#=====\n",
    "#countries.shape\n",
    "#countries.columns\n",
    "#countries.index\n",
    "#countries.dtypes\n",
    "#countries.head(3)\n",
    "#countries.tail(3)\n",
    "#countries.nunique() #Valores únicos\n",
    "#countries['Continent'].value_counts() # CUantos registros tenemos\n",
    "#countries.isna().sum() #Cuantos valores hacen falta\n",
    "#countries.dropna(axis=0, subset=['Capital'], inplace=True) #Borrar los registros \n",
    "#countries.isna().sum() #Cuantos valores hacen falta\n",
    "\n",
    "#Estadisticas mean, min, max, median\n",
    "\n",
    "#countries.describe()\n",
    "#countries['Population'].mean() #Promedio\n",
    "#countries.columns\n",
    "#countries['LifeExpectancy'].std()\n",
    "#countries['IndepYear'].quantile(.75)\n",
    "#pd.options.display.float_format = '{:.1f}'.format\n",
    "#countries.describe()\n",
    "\n",
    "\n",
    "#Graficas\n",
    "\n",
    "sample = countries.head(6)[['Name', 'Population']]\n",
    "sample.set_index('Name', inplace=True)\n",
    "#Matplotlib\n",
    "#sample\n",
    "#plt.plot(sample['Name'], sample['Population']) # Incorrecto porque tiene que ser el primero index\n",
    "#plt.plot(sample.index, sample['Population'])\n",
    "\n",
    "#Pandas\n",
    "#sample.plot()\n",
    "\n",
    "#Seaborn\n",
    "#sns.lineplot(x=sample.index, y=sample['Population'])\n",
    "#plt.title(\"Population by country\")\n",
    "#plt.xlabel(\"Country\")\n",
    "#plt.ylabel(\"Population\")\n",
    "#plt.legend([\"Population\"]) #Se pone entre corchetes\n",
    "\n",
    "\n",
    "#sample.plot(title=\"Population by country\", grid=True, legend=False, xlabel='Country')\n",
    "\n",
    "#countries.columns\n",
    "sns.countplot(x=countries['Continent'])\n",
    "plt.xticks(rotation=45)\n"
   ]
  },
  {
   "cell_type": "code",
   "execution_count": null,
   "metadata": {},
   "outputs": [],
   "source": [
    "\n"
   ]
  },
  {
   "cell_type": "code",
   "execution_count": null,
   "metadata": {},
   "outputs": [],
   "source": []
  }
 ],
 "metadata": {
  "kernelspec": {
   "display_name": "Python 3",
   "language": "python",
   "name": "python3"
  },
  "language_info": {
   "codemirror_mode": {
    "name": "ipython",
    "version": 3
   },
   "file_extension": ".py",
   "mimetype": "text/x-python",
   "name": "python",
   "nbconvert_exporter": "python",
   "pygments_lexer": "ipython3",
   "version": "3.7.6"
  }
 },
 "nbformat": 4,
 "nbformat_minor": 4
}
