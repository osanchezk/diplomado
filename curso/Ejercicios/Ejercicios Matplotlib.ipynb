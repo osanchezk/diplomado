

import numpy as np
import matplotlib.pyplot as plt

#Box Plot 1
#edades = np.array([4,17,29,33,50,51,61,71,85,92,99])

#plt.yticks(np.arange(0,110,5))
#plt.grid(True)
#plt.boxplot(edades)
#plt.show()

#print(np.min(edades), np.quantile(edades, 0.25), np.median(edades), np.quantile(edades, 0.75), np.max(edades))

#Box Plot 2
edades = np.array([6,41,51,51,52,54,57,60,61,65,95,100])

plt.grid(True)
plt.yticks(np.arange(1,100,5))
plt.boxplot(edades)
plt.show()