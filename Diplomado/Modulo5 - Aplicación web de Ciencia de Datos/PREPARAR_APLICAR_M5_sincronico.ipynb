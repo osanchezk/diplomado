{
  "cells": [
    {
      "cell_type": "markdown",
      "metadata": {
        "id": "KW8yWdA-fmEH"
      },
      "source": [
        "**MÓDULO 5 - APLICACIÓN WEB DE CIENCIA DE DATOS**\n",
        "\n",
        "---\n",
        "PREPARAR PARA APLICAR\n"
      ]
    },
    {
      "cell_type": "markdown",
      "metadata": {
        "id": "zBjKM8nueb2b"
      },
      "source": [
        "# **PRACTICA 1. NYC**\n",
        "\n"
      ]
    },
    {
      "cell_type": "markdown",
      "metadata": {
        "id": "7XiTfsUzeeqa"
      },
      "source": [
        "Instalación de la librería streamlit\n",
        "\n",
        "\n",
        "\n",
        "```\n",
        "!pip install streamlit\n",
        "```\n",
        "\n"
      ]
    },
    {
      "cell_type": "code",
      "execution_count": 1,
      "metadata": {
        "colab": {
          "base_uri": "https://localhost:8080/"
        },
        "id": "d_rs6zj0emSd",
        "outputId": "2860c35f-c99e-4a96-f4d7-8ea31ac8b8d1"
      },
      "outputs": [
        {
          "output_type": "stream",
          "name": "stdout",
          "text": [
            "Looking in indexes: https://pypi.org/simple, https://us-python.pkg.dev/colab-wheels/public/simple/\n",
            "Collecting streamlit\n",
            "  Downloading streamlit-1.14.0-py2.py3-none-any.whl (9.2 MB)\n",
            "\u001b[K     |████████████████████████████████| 9.2 MB 31.7 MB/s \n",
            "\u001b[?25hCollecting pydeck>=0.1.dev5\n",
            "  Downloading pydeck-0.8.0b4-py2.py3-none-any.whl (4.7 MB)\n",
            "\u001b[K     |████████████████████████████████| 4.7 MB 59.6 MB/s \n",
            "\u001b[?25hRequirement already satisfied: pandas>=0.21.0 in /usr/local/lib/python3.7/dist-packages (from streamlit) (1.3.5)\n",
            "Collecting rich>=10.11.0\n",
            "  Downloading rich-12.6.0-py3-none-any.whl (237 kB)\n",
            "\u001b[K     |████████████████████████████████| 237 kB 62.3 MB/s \n",
            "\u001b[?25hRequirement already satisfied: tzlocal>=1.1 in /usr/local/lib/python3.7/dist-packages (from streamlit) (1.5.1)\n",
            "Requirement already satisfied: tornado>=5.0 in /usr/local/lib/python3.7/dist-packages (from streamlit) (5.1.1)\n",
            "Requirement already satisfied: pillow>=6.2.0 in /usr/local/lib/python3.7/dist-packages (from streamlit) (7.1.2)\n",
            "Collecting validators>=0.2\n",
            "  Downloading validators-0.20.0.tar.gz (30 kB)\n",
            "Requirement already satisfied: pyarrow>=4.0 in /usr/local/lib/python3.7/dist-packages (from streamlit) (6.0.1)\n",
            "Requirement already satisfied: python-dateutil in /usr/local/lib/python3.7/dist-packages (from streamlit) (2.8.2)\n",
            "Requirement already satisfied: cachetools>=4.0 in /usr/local/lib/python3.7/dist-packages (from streamlit) (4.2.4)\n",
            "Requirement already satisfied: numpy in /usr/local/lib/python3.7/dist-packages (from streamlit) (1.21.6)\n",
            "Requirement already satisfied: importlib-metadata>=1.4 in /usr/local/lib/python3.7/dist-packages (from streamlit) (4.13.0)\n",
            "Collecting pympler>=0.9\n",
            "  Downloading Pympler-1.0.1-py3-none-any.whl (164 kB)\n",
            "\u001b[K     |████████████████████████████████| 164 kB 70.9 MB/s \n",
            "\u001b[?25hCollecting blinker>=1.0.0\n",
            "  Downloading blinker-1.5-py2.py3-none-any.whl (12 kB)\n",
            "Collecting semver\n",
            "  Downloading semver-2.13.0-py2.py3-none-any.whl (12 kB)\n",
            "Requirement already satisfied: toml in /usr/local/lib/python3.7/dist-packages (from streamlit) (0.10.2)\n",
            "Requirement already satisfied: packaging>=14.1 in /usr/local/lib/python3.7/dist-packages (from streamlit) (21.3)\n",
            "Requirement already satisfied: altair>=3.2.0 in /usr/local/lib/python3.7/dist-packages (from streamlit) (4.2.0)\n",
            "Requirement already satisfied: typing-extensions>=3.10.0.0 in /usr/local/lib/python3.7/dist-packages (from streamlit) (4.1.1)\n",
            "Collecting watchdog\n",
            "  Downloading watchdog-2.1.9-py3-none-manylinux2014_x86_64.whl (78 kB)\n",
            "\u001b[K     |████████████████████████████████| 78 kB 9.5 MB/s \n",
            "\u001b[?25hRequirement already satisfied: click>=7.0 in /usr/local/lib/python3.7/dist-packages (from streamlit) (7.1.2)\n",
            "Requirement already satisfied: protobuf<4,>=3.12 in /usr/local/lib/python3.7/dist-packages (from streamlit) (3.17.3)\n",
            "Collecting gitpython!=3.1.19\n",
            "  Downloading GitPython-3.1.29-py3-none-any.whl (182 kB)\n",
            "\u001b[K     |████████████████████████████████| 182 kB 70.2 MB/s \n",
            "\u001b[?25hRequirement already satisfied: requests>=2.4 in /usr/local/lib/python3.7/dist-packages (from streamlit) (2.23.0)\n",
            "Requirement already satisfied: entrypoints in /usr/local/lib/python3.7/dist-packages (from altair>=3.2.0->streamlit) (0.4)\n",
            "Requirement already satisfied: jsonschema>=3.0 in /usr/local/lib/python3.7/dist-packages (from altair>=3.2.0->streamlit) (4.3.3)\n",
            "Requirement already satisfied: jinja2 in /usr/local/lib/python3.7/dist-packages (from altair>=3.2.0->streamlit) (2.11.3)\n",
            "Requirement already satisfied: toolz in /usr/local/lib/python3.7/dist-packages (from altair>=3.2.0->streamlit) (0.12.0)\n",
            "Collecting gitdb<5,>=4.0.1\n",
            "  Downloading gitdb-4.0.9-py3-none-any.whl (63 kB)\n",
            "\u001b[K     |████████████████████████████████| 63 kB 2.1 MB/s \n",
            "\u001b[?25hCollecting smmap<6,>=3.0.1\n",
            "  Downloading smmap-5.0.0-py3-none-any.whl (24 kB)\n",
            "Requirement already satisfied: zipp>=0.5 in /usr/local/lib/python3.7/dist-packages (from importlib-metadata>=1.4->streamlit) (3.10.0)\n",
            "Requirement already satisfied: pyrsistent!=0.17.0,!=0.17.1,!=0.17.2,>=0.14.0 in /usr/local/lib/python3.7/dist-packages (from jsonschema>=3.0->altair>=3.2.0->streamlit) (0.18.1)\n",
            "Requirement already satisfied: attrs>=17.4.0 in /usr/local/lib/python3.7/dist-packages (from jsonschema>=3.0->altair>=3.2.0->streamlit) (22.1.0)\n",
            "Requirement already satisfied: importlib-resources>=1.4.0 in /usr/local/lib/python3.7/dist-packages (from jsonschema>=3.0->altair>=3.2.0->streamlit) (5.10.0)\n",
            "Requirement already satisfied: pyparsing!=3.0.5,>=2.0.2 in /usr/local/lib/python3.7/dist-packages (from packaging>=14.1->streamlit) (3.0.9)\n",
            "Requirement already satisfied: pytz>=2017.3 in /usr/local/lib/python3.7/dist-packages (from pandas>=0.21.0->streamlit) (2022.5)\n",
            "Requirement already satisfied: six>=1.9 in /usr/local/lib/python3.7/dist-packages (from protobuf<4,>=3.12->streamlit) (1.15.0)\n",
            "Requirement already satisfied: MarkupSafe>=0.23 in /usr/local/lib/python3.7/dist-packages (from jinja2->altair>=3.2.0->streamlit) (2.0.1)\n",
            "Requirement already satisfied: idna<3,>=2.5 in /usr/local/lib/python3.7/dist-packages (from requests>=2.4->streamlit) (2.10)\n",
            "Requirement already satisfied: certifi>=2017.4.17 in /usr/local/lib/python3.7/dist-packages (from requests>=2.4->streamlit) (2022.9.24)\n",
            "Requirement already satisfied: urllib3!=1.25.0,!=1.25.1,<1.26,>=1.21.1 in /usr/local/lib/python3.7/dist-packages (from requests>=2.4->streamlit) (1.24.3)\n",
            "Requirement already satisfied: chardet<4,>=3.0.2 in /usr/local/lib/python3.7/dist-packages (from requests>=2.4->streamlit) (3.0.4)\n",
            "Requirement already satisfied: pygments<3.0.0,>=2.6.0 in /usr/local/lib/python3.7/dist-packages (from rich>=10.11.0->streamlit) (2.6.1)\n",
            "Collecting commonmark<0.10.0,>=0.9.0\n",
            "  Downloading commonmark-0.9.1-py2.py3-none-any.whl (51 kB)\n",
            "\u001b[K     |████████████████████████████████| 51 kB 8.7 MB/s \n",
            "\u001b[?25hRequirement already satisfied: decorator>=3.4.0 in /usr/local/lib/python3.7/dist-packages (from validators>=0.2->streamlit) (4.4.2)\n",
            "Building wheels for collected packages: validators\n",
            "  Building wheel for validators (setup.py) ... \u001b[?25l\u001b[?25hdone\n",
            "  Created wheel for validators: filename=validators-0.20.0-py3-none-any.whl size=19582 sha256=fa6890603bf9a1210ec20b69175a5605565a921d90a78bf0c23bb246f71fed16\n",
            "  Stored in directory: /root/.cache/pip/wheels/5f/55/ab/36a76989f7f88d9ca7b1f68da6d94252bb6a8d6ad4f18e04e9\n",
            "Successfully built validators\n",
            "Installing collected packages: smmap, gitdb, commonmark, watchdog, validators, semver, rich, pympler, pydeck, gitpython, blinker, streamlit\n",
            "Successfully installed blinker-1.5 commonmark-0.9.1 gitdb-4.0.9 gitpython-3.1.29 pydeck-0.8.0b4 pympler-1.0.1 rich-12.6.0 semver-2.13.0 smmap-5.0.0 streamlit-1.14.0 validators-0.20.0 watchdog-2.1.9\n"
          ]
        }
      ],
      "source": [
        "!pip install streamlit"
      ]
    },
    {
      "cell_type": "markdown",
      "metadata": {
        "id": "Ayu7agKJepHS"
      },
      "source": [
        "Vamos a cargar una máquina virtual que tenga instalado Ngrok\n",
        "\n",
        "\n",
        "```\n",
        "!wget https://bin.equinox.io/c/4VmDzA7iaHb/ngrok-stable-linux-amd64.zip\n",
        "```\n",
        "\n",
        "\n"
      ]
    },
    {
      "cell_type": "code",
      "execution_count": 2,
      "metadata": {
        "colab": {
          "base_uri": "https://localhost:8080/"
        },
        "id": "7q75iEO4esbN",
        "outputId": "8cf4196b-4cd9-44ae-8423-73b7a944443d"
      },
      "outputs": [
        {
          "output_type": "stream",
          "name": "stdout",
          "text": [
            "--2022-11-01 01:36:15--  https://bin.equinox.io/c/4VmDzA7iaHb/ngrok-stable-linux-amd64.zip\n",
            "Resolving bin.equinox.io (bin.equinox.io)... 18.205.222.128, 54.161.241.46, 52.202.168.65, ...\n",
            "Connecting to bin.equinox.io (bin.equinox.io)|18.205.222.128|:443... connected.\n",
            "HTTP request sent, awaiting response... 200 OK\n",
            "Length: 13832437 (13M) [application/octet-stream]\n",
            "Saving to: ‘ngrok-stable-linux-amd64.zip’\n",
            "\n",
            "\r          ngrok-sta   0%[                    ]       0  --.-KB/s               \rngrok-stable-linux- 100%[===================>]  13.19M  71.8MB/s    in 0.2s    \n",
            "\n",
            "2022-11-01 01:36:15 (71.8 MB/s) - ‘ngrok-stable-linux-amd64.zip’ saved [13832437/13832437]\n",
            "\n"
          ]
        }
      ],
      "source": [
        "!wget https://bin.equinox.io/c/4VmDzA7iaHb/ngrok-stable-linux-amd64.zip"
      ]
    },
    {
      "cell_type": "markdown",
      "metadata": {
        "id": "XYtxhuDGey_p"
      },
      "source": [
        "Ahora cargaremos esta máquina virtual en nuestro archivo de Google Colab\n",
        "\n",
        "\n",
        "```\n",
        "!unzip ngrok-stable-linux-amd64.zip\n",
        "```\n",
        "\n"
      ]
    },
    {
      "cell_type": "code",
      "execution_count": 3,
      "metadata": {
        "colab": {
          "base_uri": "https://localhost:8080/"
        },
        "id": "xmflJkuqezyN",
        "outputId": "236c9146-c2f2-494f-964c-b89b3367a1c5"
      },
      "outputs": [
        {
          "output_type": "stream",
          "name": "stdout",
          "text": [
            "Archive:  ngrok-stable-linux-amd64.zip\n",
            "  inflating: ngrok                   \n"
          ]
        }
      ],
      "source": [
        "!unzip ngrok-stable-linux-amd64.zip"
      ]
    },
    {
      "cell_type": "markdown",
      "metadata": {
        "id": "BPYfCgdie3qn"
      },
      "source": [
        "Posteriormente le indicaremos a Ngrok que estará utilizando el puerto 8501 para visualizar nuestra aplicación\n",
        "\n",
        "```\n",
        "get_ipython().system_raw('./ngrok http 8501 &')\n",
        "```\n"
      ]
    },
    {
      "cell_type": "code",
      "execution_count": 4,
      "metadata": {
        "id": "PnPi5neS5nBX"
      },
      "outputs": [],
      "source": [
        "get_ipython().system_raw('./ngrok authtoken 2GbX5vtbLksSzJmvraeyTFKScDE_4dDDVLgiXpS4dNYKtFPmN')"
      ]
    },
    {
      "cell_type": "code",
      "execution_count": 5,
      "metadata": {
        "id": "Y369lh1ne8c3"
      },
      "outputs": [],
      "source": [
        "get_ipython().system_raw('./ngrok http 8501 &')"
      ]
    },
    {
      "cell_type": "markdown",
      "metadata": {
        "id": "sSAwzJMje_nZ"
      },
      "source": [
        "Una vez inicializado el puerto, ahora vamos a crear el tunel para que pueda generarse un enlace que nos permita visualizar nuestra aplicación\n",
        "\n",
        "```\n",
        "!curl -s http://localhost:4040/api/tunnels | python3 -c \\\n",
        "    'import sys, json; print(\"Execute the next cell and the go to the following URL: \" +json.load(sys.stdin)[\"tunnels\"][0][\"public_url\"])'\n",
        "```\n",
        "\n",
        "  "
      ]
    },
    {
      "cell_type": "code",
      "execution_count": 6,
      "metadata": {
        "colab": {
          "base_uri": "https://localhost:8080/"
        },
        "id": "9YAaMb4JfEvE",
        "outputId": "e73f312b-d332-43aa-cc58-f1cad354d0de"
      },
      "outputs": [
        {
          "output_type": "stream",
          "name": "stdout",
          "text": [
            "Execute the next cell and the go to the following URL: https://1d25-35-245-246-115.ngrok.io\n"
          ]
        }
      ],
      "source": [
        "!curl -s http://localhost:4040/api/tunnels | python3 -c \\\n",
        "    'import sys, json; print(\"Execute the next cell and the go to the following URL: \" +json.load(sys.stdin)[\"tunnels\"][0][\"public_url\"])'"
      ]
    },
    {
      "cell_type": "markdown",
      "metadata": {
        "id": "VL95KORBfKH4"
      },
      "source": [
        "Una vez que ejecutaron la instrucción anterior, verán que aparece un URL que es el que vamos a dar clic para visualizar nuestra aplicación, pero primero tenemos que ejecutar nuestra aplicación"
      ]
    },
    {
      "cell_type": "code",
      "execution_count": null,
      "metadata": {
        "colab": {
          "base_uri": "https://localhost:8080/"
        },
        "id": "X0G7sSEdfOB5",
        "outputId": "550f4bbc-76c6-48be-fc52-68dd3934efc1"
      },
      "outputs": [
        {
          "output_type": "stream",
          "name": "stdout",
          "text": [
            "Writing nyc.py\n"
          ]
        }
      ],
      "source": [
        "%%writefile nyc.py\n",
        "import streamlit as st\n",
        "import pandas as pd\n",
        "import numpy as np\n",
        "\n",
        "st.title('Cicle Rides in NYC')\n",
        "\n",
        "DATE_COLUMN = 'started_at'\n",
        "DATA_URL = ('/content/citibike-tripdata.csv')\n",
        "\n",
        "@st.cache\n",
        "def load_data(nrows):\n",
        "    data = pd.read_csv(DATA_URL, nrows=nrows)\n",
        "    lowercase = lambda x: str(x).lower()\n",
        "    data.rename({'start_lat': 'lat', 'start_lng': 'lon'}, axis=1, inplace=True)\n",
        "    data[DATE_COLUMN] = pd.to_datetime(data[DATE_COLUMN])\n",
        "    return data\n",
        "\n",
        "data_load_state = st.text('Loading cicle nyc data...')\n",
        "data = load_data(1000)\n",
        "data_load_state.text(\"Done! (using st.cache)\")\n",
        "\n",
        "if st.sidebar.checkbox('Show raw data'):\n",
        "    st.subheader('Raw data')\n",
        "    st.write(data)\n",
        "\n",
        "if st.sidebar.checkbox('Recorridos por hora'):\n",
        "    st.subheader('Numero de recorridos por hora')\n",
        "\n",
        "    hist_values = np.histogram(data[DATE_COLUMN].dt.hour, bins=24, range=(0,24))[0]\n",
        "    st.bar_chart(hist_values)\n",
        "\n",
        "\n",
        "# Some number in the range 0-23\n",
        "hour_to_filter = st.slider('hour', 0, 23, 17)\n",
        "filtered_data = data[data[DATE_COLUMN].dt.hour == hour_to_filter]\n",
        "\n",
        "st.subheader('Map of all pickups at %s:00' % hour_to_filter)\n",
        "st.map(filtered_data)"
      ]
    },
    {
      "cell_type": "markdown",
      "metadata": {
        "id": "95mqsUJyfOya"
      },
      "source": [
        "Una vez cargado y ejecutado el archivo ahora vamos a proceder a ejecutarlo con el comando streamlit para que se visualice el contenido del mismo.\n",
        "\n",
        "```\n",
        "!streamlit run /content/nyc.py\n",
        "```\n"
      ]
    },
    {
      "cell_type": "code",
      "execution_count": null,
      "metadata": {
        "colab": {
          "base_uri": "https://localhost:8080/"
        },
        "id": "cji2vdZRfSem",
        "outputId": "520ca313-0ed4-4a77-cc27-56c3b8a9046b"
      },
      "outputs": [
        {
          "output_type": "stream",
          "name": "stdout",
          "text": [
            "2022-09-06 00:59:56.565 INFO    numexpr.utils: NumExpr defaulting to 2 threads.\n",
            "\u001b[0m\n",
            "\u001b[34m\u001b[1m  You can now view your Streamlit app in your browser.\u001b[0m\n",
            "\u001b[0m\n",
            "\u001b[34m  Network URL: \u001b[0m\u001b[1mhttp://172.28.0.2:8501\u001b[0m\n",
            "\u001b[34m  External URL: \u001b[0m\u001b[1mhttp://34.91.165.19:8501\u001b[0m\n",
            "\u001b[0m\n",
            "\u001b[34m  Stopping...\u001b[0m\n",
            "^C\n"
          ]
        }
      ],
      "source": [
        "!streamlit run /content/nyc.py"
      ]
    },
    {
      "cell_type": "markdown",
      "metadata": {
        "id": "wTHwMLY561P7"
      },
      "source": []
    },
    {
      "cell_type": "markdown",
      "metadata": {
        "id": "bVzq39XXfnVu"
      },
      "source": [
        "# **PRACTICA 2. Netflix**"
      ]
    },
    {
      "cell_type": "markdown",
      "metadata": {
        "id": "ezdXoZrrEQxz"
      },
      "source": [
        "\n",
        "**Tema 2.1: Streamlit con dataframes de Pandas**\n",
        "\n",
        "\n"
      ]
    },
    {
      "cell_type": "markdown",
      "metadata": {
        "id": "5mIcPOMcgNog"
      },
      "source": [
        "Indicaremos a Ngrok que estará utilizando el puerto 8501 para visualizar nuestra aplicación\n",
        "\n",
        "```\n",
        "get_ipython().system_raw('./ngrok http 8501 &')\n",
        "```"
      ]
    },
    {
      "cell_type": "code",
      "execution_count": 7,
      "metadata": {
        "id": "HIgtgs59gUSB"
      },
      "outputs": [],
      "source": [
        "get_ipython().system_raw('./ngrok http 8501 &')"
      ]
    },
    {
      "cell_type": "markdown",
      "metadata": {
        "id": "U-6Ybk71gZEC"
      },
      "source": [
        "Una vez inicializado el puerto, ahora vamos a crear el tunel para que pueda generarse un enlace que nos permita visualizar nuestra aplicación\n",
        "\n",
        "```\n",
        "!curl -s http://localhost:4040/api/tunnels | python3 -c \\\n",
        "    'import sys, json; print(\"Execute the next cell and the go to the following URL: \" +json.load(sys.stdin)[\"tunnels\"][0][\"public_url\"])'\n",
        "```"
      ]
    },
    {
      "cell_type": "code",
      "execution_count": 8,
      "metadata": {
        "colab": {
          "base_uri": "https://localhost:8080/"
        },
        "id": "eEDpF_PpgeyN",
        "outputId": "1b337cf4-2bf0-4285-b809-d4f403b1f9e5"
      },
      "outputs": [
        {
          "output_type": "stream",
          "name": "stdout",
          "text": [
            "Execute the next cell and the go to the following URL: https://1d25-35-245-246-115.ngrok.io\n"
          ]
        }
      ],
      "source": [
        "!curl -s http://localhost:4040/api/tunnels | python3 -c \\\n",
        "    'import sys, json; print(\"Execute the next cell and the go to the following URL: \" +json.load(sys.stdin)[\"tunnels\"][0][\"public_url\"])'"
      ]
    },
    {
      "cell_type": "markdown",
      "metadata": {
        "id": "MV9PA4vXFIae"
      },
      "source": [
        "Cargamos nuestro **dataset.csv** a nuestro entorno de trabajo"
      ]
    },
    {
      "cell_type": "code",
      "execution_count": 9,
      "metadata": {
        "colab": {
          "base_uri": "https://localhost:8080/"
        },
        "id": "XnQQjssKgwcc",
        "outputId": "1a75b3de-c55d-4f2c-8cc2-146fcffc9952"
      },
      "outputs": [
        {
          "output_type": "stream",
          "name": "stdout",
          "text": [
            "Writing netflix.py\n"
          ]
        }
      ],
      "source": [
        "%%writefile netflix.py\n",
        "import streamlit as st\n",
        "import pandas as pd\n",
        "import numpy as np\n",
        "\n",
        "\n",
        "\n",
        "st.title('Netflix app')\n",
        "\n",
        "DATE_COLUMN = 'released'\n",
        "DATA_URL = ('movies.csv')\n",
        "\n",
        "import codecs\n",
        "\n",
        "@st.cache\n",
        "def load_data(nrows):\n",
        "    doc = codecs.open('/content/movies.csv','rU','latin1')\n",
        "    data = pd.read_csv(doc, nrows=nrows)\n",
        "    lowercase = lambda x: str(x).lower()\n",
        "    return data\n",
        "\n",
        "def filter_data_by_filme(filme):\n",
        "    filtered_data_filme = data[data['name'].str.upper().str.contains(filme)]\n",
        "    return filtered_data_filme\n",
        "\n",
        "def filter_data_by_director(director):\n",
        "    filtered_data_director = data[data['director'] == director]\n",
        "    return filtered_data_director\n",
        "\n",
        "\n",
        "data_load_state = st.text('Loading cicle nyc data...')\n",
        "data = load_data(1000)\n",
        "data_load_state.text(\"Done! (using st.cache)\")\n",
        "\n",
        "if st.sidebar.checkbox('Mostrar todos los filmes'):\n",
        "    st.subheader('Todos los filmes')\n",
        "    st.write(data)\n",
        "\n",
        "\n",
        "titulofilme = st.sidebar.text_input('Titulo del filme :')\n",
        "btnBuscar = st.sidebar.button('Buscar filmes')\n",
        "\n",
        "if (btnBuscar):\n",
        "   data_filme = filter_data_by_filme(titulofilme.upper())\n",
        "   count_row = data_filme.shape[0]  # Gives number of rows\n",
        "   st.write(f\"Total filmes mostrados : {count_row}\")\n",
        "   st.write(data_filme)\n",
        "\n",
        "\n",
        "\n",
        "selected_director = st.sidebar.selectbox(\"Seleccionar Director\", data['director'].unique())\n",
        "btnFilterbyDirector = st.sidebar.button('Filtrar director ')\n",
        "\n",
        "if (btnFilterbyDirector):\n",
        "   filterbydir = filter_data_by_director(selected_director)\n",
        "   count_row = filterbydir.shape[0]  # Gives number of rows\n",
        "   st.write(f\"Total filmes : {count_row}\")\n",
        "\n",
        "   st.dataframe(filterbydir)\n",
        "\n"
      ]
    },
    {
      "cell_type": "markdown",
      "metadata": {
        "id": "QAvnzUfggwxV"
      },
      "source": [
        "Una vez cargado y ejecutado el archivo ahora vamos a proceder a ejecutarlo con el comando streamlit para que se visualice el contenido del mismo."
      ]
    },
    {
      "cell_type": "code",
      "execution_count": null,
      "metadata": {
        "colab": {
          "background_save": true,
          "base_uri": "https://localhost:8080/"
        },
        "id": "MDO97_Edg1J4",
        "outputId": "199957ed-5ae4-475c-9cc3-76a0db761f01"
      },
      "outputs": [
        {
          "output_type": "stream",
          "name": "stdout",
          "text": [
            "\n",
            "Collecting usage statistics. To deactivate, set browser.gatherUsageStats to False.\n",
            "\u001b[0m\n",
            "\u001b[0m\n",
            "\u001b[34m\u001b[1m  You can now view your Streamlit app in your browser.\u001b[0m\n",
            "\u001b[0m\n",
            "\u001b[34m  Network URL: \u001b[0m\u001b[1mhttp://172.28.0.2:8501\u001b[0m\n",
            "\u001b[34m  External URL: \u001b[0m\u001b[1mhttp://35.245.246.115:8501\u001b[0m\n",
            "\u001b[0m\n"
          ]
        }
      ],
      "source": [
        "!streamlit run /content/netflix.py"
      ]
    }
  ],
  "metadata": {
    "colab": {
      "collapsed_sections": [],
      "provenance": []
    },
    "kernelspec": {
      "display_name": "Python 3",
      "name": "python3"
    },
    "language_info": {
      "name": "python"
    }
  },
  "nbformat": 4,
  "nbformat_minor": 0
}