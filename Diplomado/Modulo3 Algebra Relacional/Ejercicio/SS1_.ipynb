{
  "nbformat": 4,
  "nbformat_minor": 0,
  "metadata": {
    "colab": {
      "name": "SS1_2021_11.ipynb",
      "provenance": [],
      "collapsed_sections": []
    },
    "kernelspec": {
      "display_name": "Python 3",
      "name": "python3"
    },
    "language_info": {
      "name": "python"
    }
  },
  "cells": [
    {
      "cell_type": "markdown",
      "metadata": {
        "id": "Sqjp_EUepaks"
      },
      "source": [
        "Importamos pandas y creamos un dataFrame simple"
      ]
    },
    {
      "cell_type": "code",
      "metadata": {
        "id": "_pW3Xsb8n2JE"
      },
      "source": [
        "import pandas as pd\n",
        "\n",
        "df1 = pd.DataFrame(\n",
        "     {\n",
        "         \"Nombre\": [\"Ana\", \"Pepe\", \"Hugo\", \"Maria\"],\n",
        "         \"Apellido\": [\"Sanchez\", \"Lopez\", \"Hernandez\", \"Gonzalez\"],\n",
        "         \"edad\": [\"26\", \"31\", \"19\", \"22\"],\n",
        "         \"puesto\": [\"junior dev\", \"Senior dev\", \"Practicante\", \"PM\"],\n",
        "     },\n",
        "     #index=[0, 1, 2, 3],\n",
        " )\n"
      ],
      "execution_count": 25,
      "outputs": []
    },
    {
      "cell_type": "code",
      "metadata": {
        "colab": {
          "base_uri": "https://localhost:8080/",
          "height": 175
        },
        "id": "LcakVkB4o3oB",
        "outputId": "c9768ded-b516-4475-c191-e2f3b0a44c17"
      },
      "source": [
        "df1"
      ],
      "execution_count": 26,
      "outputs": [
        {
          "output_type": "execute_result",
          "data": {
            "text/html": [
              "<div>\n",
              "<style scoped>\n",
              "    .dataframe tbody tr th:only-of-type {\n",
              "        vertical-align: middle;\n",
              "    }\n",
              "\n",
              "    .dataframe tbody tr th {\n",
              "        vertical-align: top;\n",
              "    }\n",
              "\n",
              "    .dataframe thead th {\n",
              "        text-align: right;\n",
              "    }\n",
              "</style>\n",
              "<table border=\"1\" class=\"dataframe\">\n",
              "  <thead>\n",
              "    <tr style=\"text-align: right;\">\n",
              "      <th></th>\n",
              "      <th>Nombre</th>\n",
              "      <th>Apellido</th>\n",
              "      <th>edad</th>\n",
              "      <th>puesto</th>\n",
              "    </tr>\n",
              "  </thead>\n",
              "  <tbody>\n",
              "    <tr>\n",
              "      <th>0</th>\n",
              "      <td>Ana</td>\n",
              "      <td>Sanchez</td>\n",
              "      <td>26</td>\n",
              "      <td>junior dev</td>\n",
              "    </tr>\n",
              "    <tr>\n",
              "      <th>1</th>\n",
              "      <td>Pepe</td>\n",
              "      <td>Lopez</td>\n",
              "      <td>31</td>\n",
              "      <td>Senior dev</td>\n",
              "    </tr>\n",
              "    <tr>\n",
              "      <th>2</th>\n",
              "      <td>Hugo</td>\n",
              "      <td>Hernandez</td>\n",
              "      <td>19</td>\n",
              "      <td>Practicante</td>\n",
              "    </tr>\n",
              "    <tr>\n",
              "      <th>3</th>\n",
              "      <td>Maria</td>\n",
              "      <td>Gonzalez</td>\n",
              "      <td>22</td>\n",
              "      <td>PM</td>\n",
              "    </tr>\n",
              "  </tbody>\n",
              "</table>\n",
              "</div>"
            ],
            "text/plain": [
              "  Nombre   Apellido edad       puesto\n",
              "0    Ana    Sanchez   26   junior dev\n",
              "1   Pepe      Lopez   31   Senior dev\n",
              "2   Hugo  Hernandez   19  Practicante\n",
              "3  Maria   Gonzalez   22           PM"
            ]
          },
          "metadata": {},
          "execution_count": 26
        }
      ]
    },
    {
      "cell_type": "markdown",
      "metadata": {
        "id": "fg3fzcN2pg6-"
      },
      "source": [
        "Seleccionamos a la gente con más de 25 años"
      ]
    },
    {
      "cell_type": "code",
      "metadata": {
        "colab": {
          "base_uri": "https://localhost:8080/",
          "height": 112
        },
        "id": "ne-Gr-kZpl-7",
        "outputId": "09f687e5-fc2e-442a-c1dd-f28c0d8e5f2a"
      },
      "source": [
        "df1[df1['edad'] > '25' ]"
      ],
      "execution_count": 27,
      "outputs": [
        {
          "output_type": "execute_result",
          "data": {
            "text/html": [
              "<div>\n",
              "<style scoped>\n",
              "    .dataframe tbody tr th:only-of-type {\n",
              "        vertical-align: middle;\n",
              "    }\n",
              "\n",
              "    .dataframe tbody tr th {\n",
              "        vertical-align: top;\n",
              "    }\n",
              "\n",
              "    .dataframe thead th {\n",
              "        text-align: right;\n",
              "    }\n",
              "</style>\n",
              "<table border=\"1\" class=\"dataframe\">\n",
              "  <thead>\n",
              "    <tr style=\"text-align: right;\">\n",
              "      <th></th>\n",
              "      <th>Nombre</th>\n",
              "      <th>Apellido</th>\n",
              "      <th>edad</th>\n",
              "      <th>puesto</th>\n",
              "    </tr>\n",
              "  </thead>\n",
              "  <tbody>\n",
              "    <tr>\n",
              "      <th>0</th>\n",
              "      <td>Ana</td>\n",
              "      <td>Sanchez</td>\n",
              "      <td>26</td>\n",
              "      <td>junior dev</td>\n",
              "    </tr>\n",
              "    <tr>\n",
              "      <th>1</th>\n",
              "      <td>Pepe</td>\n",
              "      <td>Lopez</td>\n",
              "      <td>31</td>\n",
              "      <td>Senior dev</td>\n",
              "    </tr>\n",
              "  </tbody>\n",
              "</table>\n",
              "</div>"
            ],
            "text/plain": [
              "  Nombre Apellido edad      puesto\n",
              "0    Ana  Sanchez   26  junior dev\n",
              "1   Pepe    Lopez   31  Senior dev"
            ]
          },
          "metadata": {},
          "execution_count": 27
        }
      ]
    },
    {
      "cell_type": "markdown",
      "metadata": {
        "id": "RJep0wvxtcGX"
      },
      "source": [
        "Otra opción de lograr este resultado, es pasar la edad a dato numérico, luego hacer el filtrado y eliminar los NaNs\n"
      ]
    },
    {
      "cell_type": "code",
      "metadata": {
        "colab": {
          "base_uri": "https://localhost:8080/",
          "height": 112
        },
        "id": "K4_xWKGrs6qU",
        "outputId": "157cb2c3-ff55-477b-a77c-042878b43f86"
      },
      "source": [
        "df1['edad'] = pd.to_numeric(df1['edad'])\n",
        "df1.where(df1['edad'] > 25).dropna()"
      ],
      "execution_count": 28,
      "outputs": [
        {
          "output_type": "execute_result",
          "data": {
            "text/html": [
              "<div>\n",
              "<style scoped>\n",
              "    .dataframe tbody tr th:only-of-type {\n",
              "        vertical-align: middle;\n",
              "    }\n",
              "\n",
              "    .dataframe tbody tr th {\n",
              "        vertical-align: top;\n",
              "    }\n",
              "\n",
              "    .dataframe thead th {\n",
              "        text-align: right;\n",
              "    }\n",
              "</style>\n",
              "<table border=\"1\" class=\"dataframe\">\n",
              "  <thead>\n",
              "    <tr style=\"text-align: right;\">\n",
              "      <th></th>\n",
              "      <th>Nombre</th>\n",
              "      <th>Apellido</th>\n",
              "      <th>edad</th>\n",
              "      <th>puesto</th>\n",
              "    </tr>\n",
              "  </thead>\n",
              "  <tbody>\n",
              "    <tr>\n",
              "      <th>0</th>\n",
              "      <td>Ana</td>\n",
              "      <td>Sanchez</td>\n",
              "      <td>26.0</td>\n",
              "      <td>junior dev</td>\n",
              "    </tr>\n",
              "    <tr>\n",
              "      <th>1</th>\n",
              "      <td>Pepe</td>\n",
              "      <td>Lopez</td>\n",
              "      <td>31.0</td>\n",
              "      <td>Senior dev</td>\n",
              "    </tr>\n",
              "  </tbody>\n",
              "</table>\n",
              "</div>"
            ],
            "text/plain": [
              "  Nombre Apellido  edad      puesto\n",
              "0    Ana  Sanchez  26.0  junior dev\n",
              "1   Pepe    Lopez  31.0  Senior dev"
            ]
          },
          "metadata": {},
          "execution_count": 28
        }
      ]
    },
    {
      "cell_type": "code",
      "metadata": {
        "colab": {
          "base_uri": "https://localhost:8080/",
          "height": 175
        },
        "id": "E3Kxvfh0tGel",
        "outputId": "58bddabd-95bd-46e3-af26-ae5d7729d346"
      },
      "source": [
        "df1"
      ],
      "execution_count": 29,
      "outputs": [
        {
          "output_type": "execute_result",
          "data": {
            "text/html": [
              "<div>\n",
              "<style scoped>\n",
              "    .dataframe tbody tr th:only-of-type {\n",
              "        vertical-align: middle;\n",
              "    }\n",
              "\n",
              "    .dataframe tbody tr th {\n",
              "        vertical-align: top;\n",
              "    }\n",
              "\n",
              "    .dataframe thead th {\n",
              "        text-align: right;\n",
              "    }\n",
              "</style>\n",
              "<table border=\"1\" class=\"dataframe\">\n",
              "  <thead>\n",
              "    <tr style=\"text-align: right;\">\n",
              "      <th></th>\n",
              "      <th>Nombre</th>\n",
              "      <th>Apellido</th>\n",
              "      <th>edad</th>\n",
              "      <th>puesto</th>\n",
              "    </tr>\n",
              "  </thead>\n",
              "  <tbody>\n",
              "    <tr>\n",
              "      <th>0</th>\n",
              "      <td>Ana</td>\n",
              "      <td>Sanchez</td>\n",
              "      <td>26</td>\n",
              "      <td>junior dev</td>\n",
              "    </tr>\n",
              "    <tr>\n",
              "      <th>1</th>\n",
              "      <td>Pepe</td>\n",
              "      <td>Lopez</td>\n",
              "      <td>31</td>\n",
              "      <td>Senior dev</td>\n",
              "    </tr>\n",
              "    <tr>\n",
              "      <th>2</th>\n",
              "      <td>Hugo</td>\n",
              "      <td>Hernandez</td>\n",
              "      <td>19</td>\n",
              "      <td>Practicante</td>\n",
              "    </tr>\n",
              "    <tr>\n",
              "      <th>3</th>\n",
              "      <td>Maria</td>\n",
              "      <td>Gonzalez</td>\n",
              "      <td>22</td>\n",
              "      <td>PM</td>\n",
              "    </tr>\n",
              "  </tbody>\n",
              "</table>\n",
              "</div>"
            ],
            "text/plain": [
              "  Nombre   Apellido  edad       puesto\n",
              "0    Ana    Sanchez    26   junior dev\n",
              "1   Pepe      Lopez    31   Senior dev\n",
              "2   Hugo  Hernandez    19  Practicante\n",
              "3  Maria   Gonzalez    22           PM"
            ]
          },
          "metadata": {},
          "execution_count": 29
        }
      ]
    },
    {
      "cell_type": "code",
      "metadata": {
        "colab": {
          "base_uri": "https://localhost:8080/",
          "height": 175
        },
        "id": "Yi16JT9rULg5",
        "outputId": "cc7ca96f-0d29-47fe-b672-01e9bc4383f3"
      },
      "source": [
        "df2 = df1\n",
        "df2"
      ],
      "execution_count": 31,
      "outputs": [
        {
          "output_type": "execute_result",
          "data": {
            "text/html": [
              "<div>\n",
              "<style scoped>\n",
              "    .dataframe tbody tr th:only-of-type {\n",
              "        vertical-align: middle;\n",
              "    }\n",
              "\n",
              "    .dataframe tbody tr th {\n",
              "        vertical-align: top;\n",
              "    }\n",
              "\n",
              "    .dataframe thead th {\n",
              "        text-align: right;\n",
              "    }\n",
              "</style>\n",
              "<table border=\"1\" class=\"dataframe\">\n",
              "  <thead>\n",
              "    <tr style=\"text-align: right;\">\n",
              "      <th></th>\n",
              "      <th>Nombre</th>\n",
              "      <th>Apellido</th>\n",
              "      <th>edad</th>\n",
              "      <th>puesto</th>\n",
              "    </tr>\n",
              "  </thead>\n",
              "  <tbody>\n",
              "    <tr>\n",
              "      <th>0</th>\n",
              "      <td>Ana</td>\n",
              "      <td>Sanchez</td>\n",
              "      <td>26</td>\n",
              "      <td>junior dev</td>\n",
              "    </tr>\n",
              "    <tr>\n",
              "      <th>1</th>\n",
              "      <td>Pepe</td>\n",
              "      <td>Lopez</td>\n",
              "      <td>31</td>\n",
              "      <td>Senior dev</td>\n",
              "    </tr>\n",
              "    <tr>\n",
              "      <th>2</th>\n",
              "      <td>Hugo</td>\n",
              "      <td>Hernandez</td>\n",
              "      <td>19</td>\n",
              "      <td>Practicante</td>\n",
              "    </tr>\n",
              "    <tr>\n",
              "      <th>3</th>\n",
              "      <td>Maria</td>\n",
              "      <td>Gonzalez</td>\n",
              "      <td>22</td>\n",
              "      <td>PM</td>\n",
              "    </tr>\n",
              "  </tbody>\n",
              "</table>\n",
              "</div>"
            ],
            "text/plain": [
              "  Nombre   Apellido  edad       puesto\n",
              "0    Ana    Sanchez    26   junior dev\n",
              "1   Pepe      Lopez    31   Senior dev\n",
              "2   Hugo  Hernandez    19  Practicante\n",
              "3  Maria   Gonzalez    22           PM"
            ]
          },
          "metadata": {},
          "execution_count": 31
        }
      ]
    },
    {
      "cell_type": "code",
      "metadata": {
        "id": "F3j50rvNULWM"
      },
      "source": [
        ""
      ],
      "execution_count": 30,
      "outputs": []
    },
    {
      "cell_type": "markdown",
      "metadata": {
        "id": "NraLTZDRtyxv"
      },
      "source": [
        "Ahora la operación de proyección, (seleccionar solo algunas columnas)\n"
      ]
    },
    {
      "cell_type": "code",
      "metadata": {
        "colab": {
          "base_uri": "https://localhost:8080/",
          "height": 175
        },
        "id": "n2XLoVvwtyI0",
        "outputId": "e10b9682-292a-446b-f8ad-247e64741bf9"
      },
      "source": [
        "df1[['Nombre', 'edad']]"
      ],
      "execution_count": 32,
      "outputs": [
        {
          "output_type": "execute_result",
          "data": {
            "text/html": [
              "<div>\n",
              "<style scoped>\n",
              "    .dataframe tbody tr th:only-of-type {\n",
              "        vertical-align: middle;\n",
              "    }\n",
              "\n",
              "    .dataframe tbody tr th {\n",
              "        vertical-align: top;\n",
              "    }\n",
              "\n",
              "    .dataframe thead th {\n",
              "        text-align: right;\n",
              "    }\n",
              "</style>\n",
              "<table border=\"1\" class=\"dataframe\">\n",
              "  <thead>\n",
              "    <tr style=\"text-align: right;\">\n",
              "      <th></th>\n",
              "      <th>Nombre</th>\n",
              "      <th>edad</th>\n",
              "    </tr>\n",
              "  </thead>\n",
              "  <tbody>\n",
              "    <tr>\n",
              "      <th>0</th>\n",
              "      <td>Ana</td>\n",
              "      <td>26</td>\n",
              "    </tr>\n",
              "    <tr>\n",
              "      <th>1</th>\n",
              "      <td>Pepe</td>\n",
              "      <td>31</td>\n",
              "    </tr>\n",
              "    <tr>\n",
              "      <th>2</th>\n",
              "      <td>Hugo</td>\n",
              "      <td>19</td>\n",
              "    </tr>\n",
              "    <tr>\n",
              "      <th>3</th>\n",
              "      <td>Maria</td>\n",
              "      <td>22</td>\n",
              "    </tr>\n",
              "  </tbody>\n",
              "</table>\n",
              "</div>"
            ],
            "text/plain": [
              "  Nombre  edad\n",
              "0    Ana    26\n",
              "1   Pepe    31\n",
              "2   Hugo    19\n",
              "3  Maria    22"
            ]
          },
          "metadata": {},
          "execution_count": 32
        }
      ]
    },
    {
      "cell_type": "markdown",
      "metadata": {
        "id": "dPyc_lr_1jnP"
      },
      "source": [
        "Ahora, juntándo las operaciones, primero la gente con más de 25 años, y luego solo su nombre y edad de ese resultado: "
      ]
    },
    {
      "cell_type": "code",
      "metadata": {
        "colab": {
          "base_uri": "https://localhost:8080/",
          "height": 112
        },
        "id": "PKqTH1o7uWQh",
        "outputId": "894af04a-24f3-4dd7-a3c8-f71875094ea5"
      },
      "source": [
        "\n",
        "df1.where(df1['edad'] > 25).dropna()[['Nombre', 'edad']]"
      ],
      "execution_count": 33,
      "outputs": [
        {
          "output_type": "execute_result",
          "data": {
            "text/html": [
              "<div>\n",
              "<style scoped>\n",
              "    .dataframe tbody tr th:only-of-type {\n",
              "        vertical-align: middle;\n",
              "    }\n",
              "\n",
              "    .dataframe tbody tr th {\n",
              "        vertical-align: top;\n",
              "    }\n",
              "\n",
              "    .dataframe thead th {\n",
              "        text-align: right;\n",
              "    }\n",
              "</style>\n",
              "<table border=\"1\" class=\"dataframe\">\n",
              "  <thead>\n",
              "    <tr style=\"text-align: right;\">\n",
              "      <th></th>\n",
              "      <th>Nombre</th>\n",
              "      <th>edad</th>\n",
              "    </tr>\n",
              "  </thead>\n",
              "  <tbody>\n",
              "    <tr>\n",
              "      <th>0</th>\n",
              "      <td>Ana</td>\n",
              "      <td>26.0</td>\n",
              "    </tr>\n",
              "    <tr>\n",
              "      <th>1</th>\n",
              "      <td>Pepe</td>\n",
              "      <td>31.0</td>\n",
              "    </tr>\n",
              "  </tbody>\n",
              "</table>\n",
              "</div>"
            ],
            "text/plain": [
              "  Nombre  edad\n",
              "0    Ana  26.0\n",
              "1   Pepe  31.0"
            ]
          },
          "metadata": {},
          "execution_count": 33
        }
      ]
    },
    {
      "cell_type": "markdown",
      "metadata": {
        "id": "deOjWxjEHP2L"
      },
      "source": [
        "Para utilizar algunas funciones recientes de pandas, como el merge para hacer el producto, actualizamos pandas a la versión 1.2"
      ]
    },
    {
      "cell_type": "code",
      "metadata": {
        "colab": {
          "base_uri": "https://localhost:8080/"
        },
        "id": "UG1vU7l_zmOD",
        "outputId": "da3f157f-1217-4f16-ed01-0f73dd9b8c0d"
      },
      "source": [
        "!pip install pandas==1.2\n"
      ],
      "execution_count": 1,
      "outputs": [
        {
          "output_type": "stream",
          "name": "stdout",
          "text": [
            "Requirement already satisfied: pandas==1.2 in /usr/local/lib/python3.7/dist-packages (1.2.0)\n",
            "Requirement already satisfied: numpy>=1.16.5 in /usr/local/lib/python3.7/dist-packages (from pandas==1.2) (1.19.5)\n",
            "Requirement already satisfied: python-dateutil>=2.7.3 in /usr/local/lib/python3.7/dist-packages (from pandas==1.2) (2.8.2)\n",
            "Requirement already satisfied: pytz>=2017.3 in /usr/local/lib/python3.7/dist-packages (from pandas==1.2) (2018.9)\n",
            "Requirement already satisfied: six>=1.5 in /usr/local/lib/python3.7/dist-packages (from python-dateutil>=2.7.3->pandas==1.2) (1.15.0)\n"
          ]
        }
      ]
    },
    {
      "cell_type": "code",
      "metadata": {
        "colab": {
          "base_uri": "https://localhost:8080/",
          "height": 35
        },
        "id": "71p8I2Oi0_zg",
        "outputId": "024fe9a8-7e6a-41cb-a0bc-126b61450fe9"
      },
      "source": [
        "import pandas as pd \n",
        "\n",
        "pd.__version__"
      ],
      "execution_count": 2,
      "outputs": [
        {
          "output_type": "execute_result",
          "data": {
            "application/vnd.google.colaboratory.intrinsic+json": {
              "type": "string"
            },
            "text/plain": [
              "'1.2.0'"
            ]
          },
          "metadata": {},
          "execution_count": 2
        }
      ]
    },
    {
      "cell_type": "markdown",
      "metadata": {
        "id": "y1G2C5ZmICoU"
      },
      "source": [
        "Veamos un ejemplo de cómo hacer la operación de <h2>unión</h2> Utilizaremos la función concat de pandas para este fin.\n"
      ]
    },
    {
      "cell_type": "code",
      "metadata": {
        "id": "EQwrkK4oIRjc"
      },
      "source": [
        "df2 = pd.DataFrame(\n",
        "     {\n",
        "         \"Nombre\": [\"Raul\", \"Hector\", \"Hugo\", \"Maria\"],\n",
        "         \"Apellido\": [\"Alvarez\", \"Rojas\", \"Hernandez\", \"Gonzalez\"],\n",
        "         \"edad\": [\"41\", \"37\", \"19\", \"22\"],\n",
        "         \"puesto\": [\"Senior dev\", \"Senior dev\", \"Practicante\", \"PM\"],\n",
        "     },\n",
        "    \n",
        " )"
      ],
      "execution_count": 3,
      "outputs": []
    },
    {
      "cell_type": "code",
      "metadata": {
        "colab": {
          "base_uri": "https://localhost:8080/",
          "height": 175
        },
        "id": "bwii-9_YH_z3",
        "outputId": "50707633-3945-4682-a607-7b510e0eff7e"
      },
      "source": [
        "df1\n"
      ],
      "execution_count": 6,
      "outputs": [
        {
          "output_type": "execute_result",
          "data": {
            "text/html": [
              "<div>\n",
              "<style scoped>\n",
              "    .dataframe tbody tr th:only-of-type {\n",
              "        vertical-align: middle;\n",
              "    }\n",
              "\n",
              "    .dataframe tbody tr th {\n",
              "        vertical-align: top;\n",
              "    }\n",
              "\n",
              "    .dataframe thead th {\n",
              "        text-align: right;\n",
              "    }\n",
              "</style>\n",
              "<table border=\"1\" class=\"dataframe\">\n",
              "  <thead>\n",
              "    <tr style=\"text-align: right;\">\n",
              "      <th></th>\n",
              "      <th>Nombre</th>\n",
              "      <th>Apellido</th>\n",
              "      <th>edad</th>\n",
              "      <th>puesto</th>\n",
              "    </tr>\n",
              "  </thead>\n",
              "  <tbody>\n",
              "    <tr>\n",
              "      <th>0</th>\n",
              "      <td>Ana</td>\n",
              "      <td>Sanchez</td>\n",
              "      <td>26</td>\n",
              "      <td>junior dev</td>\n",
              "    </tr>\n",
              "    <tr>\n",
              "      <th>1</th>\n",
              "      <td>Pepe</td>\n",
              "      <td>Lopez</td>\n",
              "      <td>31</td>\n",
              "      <td>Senior dev</td>\n",
              "    </tr>\n",
              "    <tr>\n",
              "      <th>2</th>\n",
              "      <td>Hugo</td>\n",
              "      <td>Hernandez</td>\n",
              "      <td>19</td>\n",
              "      <td>Practicante</td>\n",
              "    </tr>\n",
              "    <tr>\n",
              "      <th>3</th>\n",
              "      <td>Maria</td>\n",
              "      <td>Gonzalez</td>\n",
              "      <td>22</td>\n",
              "      <td>PM</td>\n",
              "    </tr>\n",
              "  </tbody>\n",
              "</table>\n",
              "</div>"
            ],
            "text/plain": [
              "  Nombre   Apellido edad       puesto\n",
              "0    Ana    Sanchez   26   junior dev\n",
              "1   Pepe      Lopez   31   Senior dev\n",
              "2   Hugo  Hernandez   19  Practicante\n",
              "3  Maria   Gonzalez   22           PM"
            ]
          },
          "metadata": {},
          "execution_count": 6
        }
      ]
    },
    {
      "cell_type": "code",
      "metadata": {
        "colab": {
          "base_uri": "https://localhost:8080/",
          "height": 175
        },
        "id": "PB1kPW6sIjLa",
        "outputId": "cf620dfe-ea2f-4c42-a04f-4e93b3229d9e"
      },
      "source": [
        "df2\n"
      ],
      "execution_count": 7,
      "outputs": [
        {
          "output_type": "execute_result",
          "data": {
            "text/html": [
              "<div>\n",
              "<style scoped>\n",
              "    .dataframe tbody tr th:only-of-type {\n",
              "        vertical-align: middle;\n",
              "    }\n",
              "\n",
              "    .dataframe tbody tr th {\n",
              "        vertical-align: top;\n",
              "    }\n",
              "\n",
              "    .dataframe thead th {\n",
              "        text-align: right;\n",
              "    }\n",
              "</style>\n",
              "<table border=\"1\" class=\"dataframe\">\n",
              "  <thead>\n",
              "    <tr style=\"text-align: right;\">\n",
              "      <th></th>\n",
              "      <th>Nombre</th>\n",
              "      <th>Apellido</th>\n",
              "      <th>edad</th>\n",
              "      <th>puesto</th>\n",
              "    </tr>\n",
              "  </thead>\n",
              "  <tbody>\n",
              "    <tr>\n",
              "      <th>0</th>\n",
              "      <td>Raul</td>\n",
              "      <td>Alvarez</td>\n",
              "      <td>41</td>\n",
              "      <td>Senior dev</td>\n",
              "    </tr>\n",
              "    <tr>\n",
              "      <th>1</th>\n",
              "      <td>Hector</td>\n",
              "      <td>Rojas</td>\n",
              "      <td>37</td>\n",
              "      <td>Senior dev</td>\n",
              "    </tr>\n",
              "    <tr>\n",
              "      <th>2</th>\n",
              "      <td>Hugo</td>\n",
              "      <td>Hernandez</td>\n",
              "      <td>19</td>\n",
              "      <td>Practicante</td>\n",
              "    </tr>\n",
              "    <tr>\n",
              "      <th>3</th>\n",
              "      <td>Maria</td>\n",
              "      <td>Gonzalez</td>\n",
              "      <td>22</td>\n",
              "      <td>PM</td>\n",
              "    </tr>\n",
              "  </tbody>\n",
              "</table>\n",
              "</div>"
            ],
            "text/plain": [
              "   Nombre   Apellido edad       puesto\n",
              "0    Raul    Alvarez   41   Senior dev\n",
              "1  Hector      Rojas   37   Senior dev\n",
              "2    Hugo  Hernandez   19  Practicante\n",
              "3   Maria   Gonzalez   22           PM"
            ]
          },
          "metadata": {},
          "execution_count": 7
        }
      ]
    },
    {
      "cell_type": "code",
      "metadata": {
        "id": "ImY3PZOMVygB"
      },
      "source": [
        "df3 = pd.concat([df1, df2], ignore_index=True)"
      ],
      "execution_count": 8,
      "outputs": []
    },
    {
      "cell_type": "code",
      "metadata": {
        "colab": {
          "base_uri": "https://localhost:8080/",
          "height": 300
        },
        "id": "uEi--QCxV3J_",
        "outputId": "83cb2a11-5c7b-4529-b34a-8b6a161181b2"
      },
      "source": [
        "df3"
      ],
      "execution_count": 9,
      "outputs": [
        {
          "output_type": "execute_result",
          "data": {
            "text/html": [
              "<div>\n",
              "<style scoped>\n",
              "    .dataframe tbody tr th:only-of-type {\n",
              "        vertical-align: middle;\n",
              "    }\n",
              "\n",
              "    .dataframe tbody tr th {\n",
              "        vertical-align: top;\n",
              "    }\n",
              "\n",
              "    .dataframe thead th {\n",
              "        text-align: right;\n",
              "    }\n",
              "</style>\n",
              "<table border=\"1\" class=\"dataframe\">\n",
              "  <thead>\n",
              "    <tr style=\"text-align: right;\">\n",
              "      <th></th>\n",
              "      <th>Nombre</th>\n",
              "      <th>Apellido</th>\n",
              "      <th>edad</th>\n",
              "      <th>puesto</th>\n",
              "    </tr>\n",
              "  </thead>\n",
              "  <tbody>\n",
              "    <tr>\n",
              "      <th>0</th>\n",
              "      <td>Ana</td>\n",
              "      <td>Sanchez</td>\n",
              "      <td>26</td>\n",
              "      <td>junior dev</td>\n",
              "    </tr>\n",
              "    <tr>\n",
              "      <th>1</th>\n",
              "      <td>Pepe</td>\n",
              "      <td>Lopez</td>\n",
              "      <td>31</td>\n",
              "      <td>Senior dev</td>\n",
              "    </tr>\n",
              "    <tr>\n",
              "      <th>2</th>\n",
              "      <td>Hugo</td>\n",
              "      <td>Hernandez</td>\n",
              "      <td>19</td>\n",
              "      <td>Practicante</td>\n",
              "    </tr>\n",
              "    <tr>\n",
              "      <th>3</th>\n",
              "      <td>Maria</td>\n",
              "      <td>Gonzalez</td>\n",
              "      <td>22</td>\n",
              "      <td>PM</td>\n",
              "    </tr>\n",
              "    <tr>\n",
              "      <th>4</th>\n",
              "      <td>Raul</td>\n",
              "      <td>Alvarez</td>\n",
              "      <td>41</td>\n",
              "      <td>Senior dev</td>\n",
              "    </tr>\n",
              "    <tr>\n",
              "      <th>5</th>\n",
              "      <td>Hector</td>\n",
              "      <td>Rojas</td>\n",
              "      <td>37</td>\n",
              "      <td>Senior dev</td>\n",
              "    </tr>\n",
              "    <tr>\n",
              "      <th>6</th>\n",
              "      <td>Hugo</td>\n",
              "      <td>Hernandez</td>\n",
              "      <td>19</td>\n",
              "      <td>Practicante</td>\n",
              "    </tr>\n",
              "    <tr>\n",
              "      <th>7</th>\n",
              "      <td>Maria</td>\n",
              "      <td>Gonzalez</td>\n",
              "      <td>22</td>\n",
              "      <td>PM</td>\n",
              "    </tr>\n",
              "  </tbody>\n",
              "</table>\n",
              "</div>"
            ],
            "text/plain": [
              "   Nombre   Apellido edad       puesto\n",
              "0     Ana    Sanchez   26   junior dev\n",
              "1    Pepe      Lopez   31   Senior dev\n",
              "2    Hugo  Hernandez   19  Practicante\n",
              "3   Maria   Gonzalez   22           PM\n",
              "4    Raul    Alvarez   41   Senior dev\n",
              "5  Hector      Rojas   37   Senior dev\n",
              "6    Hugo  Hernandez   19  Practicante\n",
              "7   Maria   Gonzalez   22           PM"
            ]
          },
          "metadata": {},
          "execution_count": 9
        }
      ]
    },
    {
      "cell_type": "code",
      "metadata": {
        "id": "ev37TjEFInda",
        "colab": {
          "base_uri": "https://localhost:8080/",
          "height": 238
        },
        "outputId": "e2aadfd6-4451-4af3-924c-37da2da0bc01"
      },
      "source": [
        "#df3 = pd.concat([df1, df2])\n",
        "#df3 = pd.concat([df1, df2], ignore_index=True)\n",
        "\n",
        "\n",
        "#df3.drop_duplicates()\n",
        "#df3.drop_duplicates(inplace=True)\n",
        "df3.drop_duplicates()\n",
        "#df3 = df3.drop_duplicates(keep='last')\n",
        "\n",
        "\n"
      ],
      "execution_count": 10,
      "outputs": [
        {
          "output_type": "execute_result",
          "data": {
            "text/html": [
              "<div>\n",
              "<style scoped>\n",
              "    .dataframe tbody tr th:only-of-type {\n",
              "        vertical-align: middle;\n",
              "    }\n",
              "\n",
              "    .dataframe tbody tr th {\n",
              "        vertical-align: top;\n",
              "    }\n",
              "\n",
              "    .dataframe thead th {\n",
              "        text-align: right;\n",
              "    }\n",
              "</style>\n",
              "<table border=\"1\" class=\"dataframe\">\n",
              "  <thead>\n",
              "    <tr style=\"text-align: right;\">\n",
              "      <th></th>\n",
              "      <th>Nombre</th>\n",
              "      <th>Apellido</th>\n",
              "      <th>edad</th>\n",
              "      <th>puesto</th>\n",
              "    </tr>\n",
              "  </thead>\n",
              "  <tbody>\n",
              "    <tr>\n",
              "      <th>0</th>\n",
              "      <td>Ana</td>\n",
              "      <td>Sanchez</td>\n",
              "      <td>26</td>\n",
              "      <td>junior dev</td>\n",
              "    </tr>\n",
              "    <tr>\n",
              "      <th>1</th>\n",
              "      <td>Pepe</td>\n",
              "      <td>Lopez</td>\n",
              "      <td>31</td>\n",
              "      <td>Senior dev</td>\n",
              "    </tr>\n",
              "    <tr>\n",
              "      <th>2</th>\n",
              "      <td>Hugo</td>\n",
              "      <td>Hernandez</td>\n",
              "      <td>19</td>\n",
              "      <td>Practicante</td>\n",
              "    </tr>\n",
              "    <tr>\n",
              "      <th>3</th>\n",
              "      <td>Maria</td>\n",
              "      <td>Gonzalez</td>\n",
              "      <td>22</td>\n",
              "      <td>PM</td>\n",
              "    </tr>\n",
              "    <tr>\n",
              "      <th>4</th>\n",
              "      <td>Raul</td>\n",
              "      <td>Alvarez</td>\n",
              "      <td>41</td>\n",
              "      <td>Senior dev</td>\n",
              "    </tr>\n",
              "    <tr>\n",
              "      <th>5</th>\n",
              "      <td>Hector</td>\n",
              "      <td>Rojas</td>\n",
              "      <td>37</td>\n",
              "      <td>Senior dev</td>\n",
              "    </tr>\n",
              "  </tbody>\n",
              "</table>\n",
              "</div>"
            ],
            "text/plain": [
              "   Nombre   Apellido edad       puesto\n",
              "0     Ana    Sanchez   26   junior dev\n",
              "1    Pepe      Lopez   31   Senior dev\n",
              "2    Hugo  Hernandez   19  Practicante\n",
              "3   Maria   Gonzalez   22           PM\n",
              "4    Raul    Alvarez   41   Senior dev\n",
              "5  Hector      Rojas   37   Senior dev"
            ]
          },
          "metadata": {},
          "execution_count": 10
        }
      ]
    },
    {
      "cell_type": "code",
      "metadata": {
        "colab": {
          "base_uri": "https://localhost:8080/",
          "height": 300
        },
        "id": "88XwHKpUIuph",
        "outputId": "16e2b6fc-b9bd-4d0d-a104-32ef328e8f2f"
      },
      "source": [
        "df3"
      ],
      "execution_count": 11,
      "outputs": [
        {
          "output_type": "execute_result",
          "data": {
            "text/html": [
              "<div>\n",
              "<style scoped>\n",
              "    .dataframe tbody tr th:only-of-type {\n",
              "        vertical-align: middle;\n",
              "    }\n",
              "\n",
              "    .dataframe tbody tr th {\n",
              "        vertical-align: top;\n",
              "    }\n",
              "\n",
              "    .dataframe thead th {\n",
              "        text-align: right;\n",
              "    }\n",
              "</style>\n",
              "<table border=\"1\" class=\"dataframe\">\n",
              "  <thead>\n",
              "    <tr style=\"text-align: right;\">\n",
              "      <th></th>\n",
              "      <th>Nombre</th>\n",
              "      <th>Apellido</th>\n",
              "      <th>edad</th>\n",
              "      <th>puesto</th>\n",
              "    </tr>\n",
              "  </thead>\n",
              "  <tbody>\n",
              "    <tr>\n",
              "      <th>0</th>\n",
              "      <td>Ana</td>\n",
              "      <td>Sanchez</td>\n",
              "      <td>26</td>\n",
              "      <td>junior dev</td>\n",
              "    </tr>\n",
              "    <tr>\n",
              "      <th>1</th>\n",
              "      <td>Pepe</td>\n",
              "      <td>Lopez</td>\n",
              "      <td>31</td>\n",
              "      <td>Senior dev</td>\n",
              "    </tr>\n",
              "    <tr>\n",
              "      <th>2</th>\n",
              "      <td>Hugo</td>\n",
              "      <td>Hernandez</td>\n",
              "      <td>19</td>\n",
              "      <td>Practicante</td>\n",
              "    </tr>\n",
              "    <tr>\n",
              "      <th>3</th>\n",
              "      <td>Maria</td>\n",
              "      <td>Gonzalez</td>\n",
              "      <td>22</td>\n",
              "      <td>PM</td>\n",
              "    </tr>\n",
              "    <tr>\n",
              "      <th>4</th>\n",
              "      <td>Raul</td>\n",
              "      <td>Alvarez</td>\n",
              "      <td>41</td>\n",
              "      <td>Senior dev</td>\n",
              "    </tr>\n",
              "    <tr>\n",
              "      <th>5</th>\n",
              "      <td>Hector</td>\n",
              "      <td>Rojas</td>\n",
              "      <td>37</td>\n",
              "      <td>Senior dev</td>\n",
              "    </tr>\n",
              "    <tr>\n",
              "      <th>6</th>\n",
              "      <td>Hugo</td>\n",
              "      <td>Hernandez</td>\n",
              "      <td>19</td>\n",
              "      <td>Practicante</td>\n",
              "    </tr>\n",
              "    <tr>\n",
              "      <th>7</th>\n",
              "      <td>Maria</td>\n",
              "      <td>Gonzalez</td>\n",
              "      <td>22</td>\n",
              "      <td>PM</td>\n",
              "    </tr>\n",
              "  </tbody>\n",
              "</table>\n",
              "</div>"
            ],
            "text/plain": [
              "   Nombre   Apellido edad       puesto\n",
              "0     Ana    Sanchez   26   junior dev\n",
              "1    Pepe      Lopez   31   Senior dev\n",
              "2    Hugo  Hernandez   19  Practicante\n",
              "3   Maria   Gonzalez   22           PM\n",
              "4    Raul    Alvarez   41   Senior dev\n",
              "5  Hector      Rojas   37   Senior dev\n",
              "6    Hugo  Hernandez   19  Practicante\n",
              "7   Maria   Gonzalez   22           PM"
            ]
          },
          "metadata": {},
          "execution_count": 11
        }
      ]
    },
    {
      "cell_type": "markdown",
      "metadata": {
        "id": "8nVc_qyyLEAV"
      },
      "source": [
        "Para el operador de <h2>Diferencia</h2> no hay un operador, o una forma directa de hacerlo en pandas, pero se puede hacer de la siguiente manera:"
      ]
    },
    {
      "cell_type": "code",
      "metadata": {
        "colab": {
          "base_uri": "https://localhost:8080/",
          "height": 112
        },
        "id": "P5tZ8ql9LSqE",
        "outputId": "016b1cd5-e6cc-48e1-f285-aeff437e9b41"
      },
      "source": [
        "pd.concat([df1, df2, df2]).drop_duplicates(keep=False)"
      ],
      "execution_count": 12,
      "outputs": [
        {
          "output_type": "execute_result",
          "data": {
            "text/html": [
              "<div>\n",
              "<style scoped>\n",
              "    .dataframe tbody tr th:only-of-type {\n",
              "        vertical-align: middle;\n",
              "    }\n",
              "\n",
              "    .dataframe tbody tr th {\n",
              "        vertical-align: top;\n",
              "    }\n",
              "\n",
              "    .dataframe thead th {\n",
              "        text-align: right;\n",
              "    }\n",
              "</style>\n",
              "<table border=\"1\" class=\"dataframe\">\n",
              "  <thead>\n",
              "    <tr style=\"text-align: right;\">\n",
              "      <th></th>\n",
              "      <th>Nombre</th>\n",
              "      <th>Apellido</th>\n",
              "      <th>edad</th>\n",
              "      <th>puesto</th>\n",
              "    </tr>\n",
              "  </thead>\n",
              "  <tbody>\n",
              "    <tr>\n",
              "      <th>0</th>\n",
              "      <td>Ana</td>\n",
              "      <td>Sanchez</td>\n",
              "      <td>26</td>\n",
              "      <td>junior dev</td>\n",
              "    </tr>\n",
              "    <tr>\n",
              "      <th>1</th>\n",
              "      <td>Pepe</td>\n",
              "      <td>Lopez</td>\n",
              "      <td>31</td>\n",
              "      <td>Senior dev</td>\n",
              "    </tr>\n",
              "  </tbody>\n",
              "</table>\n",
              "</div>"
            ],
            "text/plain": [
              "  Nombre Apellido edad      puesto\n",
              "0    Ana  Sanchez   26  junior dev\n",
              "1   Pepe    Lopez   31  Senior dev"
            ]
          },
          "metadata": {},
          "execution_count": 12
        }
      ]
    },
    {
      "cell_type": "markdown",
      "metadata": {
        "id": "ZgZMq3BFNVLb"
      },
      "source": [
        "para el operador de <h2>Producto</h2> de la misma forma que en la diferencia, no tenemos una operacion directa en pandas, pero podemos hacerlo de la siguiente manera :"
      ]
    },
    {
      "cell_type": "code",
      "metadata": {
        "id": "P-thlacDNh7V"
      },
      "source": [
        "left = pd.DataFrame({'col1': [1, 2], 'col2': [3, 4]})\n",
        "right = pd.DataFrame({'col3': [5, 6]}) "
      ],
      "execution_count": 13,
      "outputs": []
    },
    {
      "cell_type": "code",
      "metadata": {
        "colab": {
          "base_uri": "https://localhost:8080/",
          "height": 112
        },
        "id": "DUp4A_OKNoYU",
        "outputId": "dfa0559a-028e-493e-a500-dab7e8a6007c"
      },
      "source": [
        "left"
      ],
      "execution_count": 14,
      "outputs": [
        {
          "output_type": "execute_result",
          "data": {
            "text/html": [
              "<div>\n",
              "<style scoped>\n",
              "    .dataframe tbody tr th:only-of-type {\n",
              "        vertical-align: middle;\n",
              "    }\n",
              "\n",
              "    .dataframe tbody tr th {\n",
              "        vertical-align: top;\n",
              "    }\n",
              "\n",
              "    .dataframe thead th {\n",
              "        text-align: right;\n",
              "    }\n",
              "</style>\n",
              "<table border=\"1\" class=\"dataframe\">\n",
              "  <thead>\n",
              "    <tr style=\"text-align: right;\">\n",
              "      <th></th>\n",
              "      <th>col1</th>\n",
              "      <th>col2</th>\n",
              "    </tr>\n",
              "  </thead>\n",
              "  <tbody>\n",
              "    <tr>\n",
              "      <th>0</th>\n",
              "      <td>1</td>\n",
              "      <td>3</td>\n",
              "    </tr>\n",
              "    <tr>\n",
              "      <th>1</th>\n",
              "      <td>2</td>\n",
              "      <td>4</td>\n",
              "    </tr>\n",
              "  </tbody>\n",
              "</table>\n",
              "</div>"
            ],
            "text/plain": [
              "   col1  col2\n",
              "0     1     3\n",
              "1     2     4"
            ]
          },
          "metadata": {},
          "execution_count": 14
        }
      ]
    },
    {
      "cell_type": "code",
      "metadata": {
        "colab": {
          "base_uri": "https://localhost:8080/",
          "height": 112
        },
        "id": "Y-idkyzvNq60",
        "outputId": "e9d03d3f-4fdb-4d89-eca3-b3b96bcddbb4"
      },
      "source": [
        "right"
      ],
      "execution_count": 15,
      "outputs": [
        {
          "output_type": "execute_result",
          "data": {
            "text/html": [
              "<div>\n",
              "<style scoped>\n",
              "    .dataframe tbody tr th:only-of-type {\n",
              "        vertical-align: middle;\n",
              "    }\n",
              "\n",
              "    .dataframe tbody tr th {\n",
              "        vertical-align: top;\n",
              "    }\n",
              "\n",
              "    .dataframe thead th {\n",
              "        text-align: right;\n",
              "    }\n",
              "</style>\n",
              "<table border=\"1\" class=\"dataframe\">\n",
              "  <thead>\n",
              "    <tr style=\"text-align: right;\">\n",
              "      <th></th>\n",
              "      <th>col3</th>\n",
              "    </tr>\n",
              "  </thead>\n",
              "  <tbody>\n",
              "    <tr>\n",
              "      <th>0</th>\n",
              "      <td>5</td>\n",
              "    </tr>\n",
              "    <tr>\n",
              "      <th>1</th>\n",
              "      <td>6</td>\n",
              "    </tr>\n",
              "  </tbody>\n",
              "</table>\n",
              "</div>"
            ],
            "text/plain": [
              "   col3\n",
              "0     5\n",
              "1     6"
            ]
          },
          "metadata": {},
          "execution_count": 15
        }
      ]
    },
    {
      "cell_type": "code",
      "metadata": {
        "colab": {
          "base_uri": "https://localhost:8080/",
          "height": 175
        },
        "id": "ksCaL6aWzl41",
        "outputId": "33a66903-dfa6-4653-c90d-4b605bc2f769"
      },
      "source": [
        "left.merge(right, how='cross')"
      ],
      "execution_count": 16,
      "outputs": [
        {
          "output_type": "execute_result",
          "data": {
            "text/html": [
              "<div>\n",
              "<style scoped>\n",
              "    .dataframe tbody tr th:only-of-type {\n",
              "        vertical-align: middle;\n",
              "    }\n",
              "\n",
              "    .dataframe tbody tr th {\n",
              "        vertical-align: top;\n",
              "    }\n",
              "\n",
              "    .dataframe thead th {\n",
              "        text-align: right;\n",
              "    }\n",
              "</style>\n",
              "<table border=\"1\" class=\"dataframe\">\n",
              "  <thead>\n",
              "    <tr style=\"text-align: right;\">\n",
              "      <th></th>\n",
              "      <th>col1</th>\n",
              "      <th>col2</th>\n",
              "      <th>col3</th>\n",
              "    </tr>\n",
              "  </thead>\n",
              "  <tbody>\n",
              "    <tr>\n",
              "      <th>0</th>\n",
              "      <td>1</td>\n",
              "      <td>3</td>\n",
              "      <td>5</td>\n",
              "    </tr>\n",
              "    <tr>\n",
              "      <th>1</th>\n",
              "      <td>1</td>\n",
              "      <td>3</td>\n",
              "      <td>6</td>\n",
              "    </tr>\n",
              "    <tr>\n",
              "      <th>2</th>\n",
              "      <td>2</td>\n",
              "      <td>4</td>\n",
              "      <td>5</td>\n",
              "    </tr>\n",
              "    <tr>\n",
              "      <th>3</th>\n",
              "      <td>2</td>\n",
              "      <td>4</td>\n",
              "      <td>6</td>\n",
              "    </tr>\n",
              "  </tbody>\n",
              "</table>\n",
              "</div>"
            ],
            "text/plain": [
              "   col1  col2  col3\n",
              "0     1     3     5\n",
              "1     1     3     6\n",
              "2     2     4     5\n",
              "3     2     4     6"
            ]
          },
          "metadata": {},
          "execution_count": 16
        }
      ]
    },
    {
      "cell_type": "code",
      "metadata": {
        "colab": {
          "base_uri": "https://localhost:8080/",
          "height": 551
        },
        "id": "-6jSRAHgOJxf",
        "outputId": "2fab1c7b-9f25-444e-b3cb-24d348fa6295"
      },
      "source": [
        "df1.merge(df2, how='cross')"
      ],
      "execution_count": 17,
      "outputs": [
        {
          "output_type": "execute_result",
          "data": {
            "text/html": [
              "<div>\n",
              "<style scoped>\n",
              "    .dataframe tbody tr th:only-of-type {\n",
              "        vertical-align: middle;\n",
              "    }\n",
              "\n",
              "    .dataframe tbody tr th {\n",
              "        vertical-align: top;\n",
              "    }\n",
              "\n",
              "    .dataframe thead th {\n",
              "        text-align: right;\n",
              "    }\n",
              "</style>\n",
              "<table border=\"1\" class=\"dataframe\">\n",
              "  <thead>\n",
              "    <tr style=\"text-align: right;\">\n",
              "      <th></th>\n",
              "      <th>Nombre_x</th>\n",
              "      <th>Apellido_x</th>\n",
              "      <th>edad_x</th>\n",
              "      <th>puesto_x</th>\n",
              "      <th>Nombre_y</th>\n",
              "      <th>Apellido_y</th>\n",
              "      <th>edad_y</th>\n",
              "      <th>puesto_y</th>\n",
              "    </tr>\n",
              "  </thead>\n",
              "  <tbody>\n",
              "    <tr>\n",
              "      <th>0</th>\n",
              "      <td>Ana</td>\n",
              "      <td>Sanchez</td>\n",
              "      <td>26</td>\n",
              "      <td>junior dev</td>\n",
              "      <td>Raul</td>\n",
              "      <td>Alvarez</td>\n",
              "      <td>41</td>\n",
              "      <td>Senior dev</td>\n",
              "    </tr>\n",
              "    <tr>\n",
              "      <th>1</th>\n",
              "      <td>Ana</td>\n",
              "      <td>Sanchez</td>\n",
              "      <td>26</td>\n",
              "      <td>junior dev</td>\n",
              "      <td>Hector</td>\n",
              "      <td>Rojas</td>\n",
              "      <td>37</td>\n",
              "      <td>Senior dev</td>\n",
              "    </tr>\n",
              "    <tr>\n",
              "      <th>2</th>\n",
              "      <td>Ana</td>\n",
              "      <td>Sanchez</td>\n",
              "      <td>26</td>\n",
              "      <td>junior dev</td>\n",
              "      <td>Hugo</td>\n",
              "      <td>Hernandez</td>\n",
              "      <td>19</td>\n",
              "      <td>Practicante</td>\n",
              "    </tr>\n",
              "    <tr>\n",
              "      <th>3</th>\n",
              "      <td>Ana</td>\n",
              "      <td>Sanchez</td>\n",
              "      <td>26</td>\n",
              "      <td>junior dev</td>\n",
              "      <td>Maria</td>\n",
              "      <td>Gonzalez</td>\n",
              "      <td>22</td>\n",
              "      <td>PM</td>\n",
              "    </tr>\n",
              "    <tr>\n",
              "      <th>4</th>\n",
              "      <td>Pepe</td>\n",
              "      <td>Lopez</td>\n",
              "      <td>31</td>\n",
              "      <td>Senior dev</td>\n",
              "      <td>Raul</td>\n",
              "      <td>Alvarez</td>\n",
              "      <td>41</td>\n",
              "      <td>Senior dev</td>\n",
              "    </tr>\n",
              "    <tr>\n",
              "      <th>5</th>\n",
              "      <td>Pepe</td>\n",
              "      <td>Lopez</td>\n",
              "      <td>31</td>\n",
              "      <td>Senior dev</td>\n",
              "      <td>Hector</td>\n",
              "      <td>Rojas</td>\n",
              "      <td>37</td>\n",
              "      <td>Senior dev</td>\n",
              "    </tr>\n",
              "    <tr>\n",
              "      <th>6</th>\n",
              "      <td>Pepe</td>\n",
              "      <td>Lopez</td>\n",
              "      <td>31</td>\n",
              "      <td>Senior dev</td>\n",
              "      <td>Hugo</td>\n",
              "      <td>Hernandez</td>\n",
              "      <td>19</td>\n",
              "      <td>Practicante</td>\n",
              "    </tr>\n",
              "    <tr>\n",
              "      <th>7</th>\n",
              "      <td>Pepe</td>\n",
              "      <td>Lopez</td>\n",
              "      <td>31</td>\n",
              "      <td>Senior dev</td>\n",
              "      <td>Maria</td>\n",
              "      <td>Gonzalez</td>\n",
              "      <td>22</td>\n",
              "      <td>PM</td>\n",
              "    </tr>\n",
              "    <tr>\n",
              "      <th>8</th>\n",
              "      <td>Hugo</td>\n",
              "      <td>Hernandez</td>\n",
              "      <td>19</td>\n",
              "      <td>Practicante</td>\n",
              "      <td>Raul</td>\n",
              "      <td>Alvarez</td>\n",
              "      <td>41</td>\n",
              "      <td>Senior dev</td>\n",
              "    </tr>\n",
              "    <tr>\n",
              "      <th>9</th>\n",
              "      <td>Hugo</td>\n",
              "      <td>Hernandez</td>\n",
              "      <td>19</td>\n",
              "      <td>Practicante</td>\n",
              "      <td>Hector</td>\n",
              "      <td>Rojas</td>\n",
              "      <td>37</td>\n",
              "      <td>Senior dev</td>\n",
              "    </tr>\n",
              "    <tr>\n",
              "      <th>10</th>\n",
              "      <td>Hugo</td>\n",
              "      <td>Hernandez</td>\n",
              "      <td>19</td>\n",
              "      <td>Practicante</td>\n",
              "      <td>Hugo</td>\n",
              "      <td>Hernandez</td>\n",
              "      <td>19</td>\n",
              "      <td>Practicante</td>\n",
              "    </tr>\n",
              "    <tr>\n",
              "      <th>11</th>\n",
              "      <td>Hugo</td>\n",
              "      <td>Hernandez</td>\n",
              "      <td>19</td>\n",
              "      <td>Practicante</td>\n",
              "      <td>Maria</td>\n",
              "      <td>Gonzalez</td>\n",
              "      <td>22</td>\n",
              "      <td>PM</td>\n",
              "    </tr>\n",
              "    <tr>\n",
              "      <th>12</th>\n",
              "      <td>Maria</td>\n",
              "      <td>Gonzalez</td>\n",
              "      <td>22</td>\n",
              "      <td>PM</td>\n",
              "      <td>Raul</td>\n",
              "      <td>Alvarez</td>\n",
              "      <td>41</td>\n",
              "      <td>Senior dev</td>\n",
              "    </tr>\n",
              "    <tr>\n",
              "      <th>13</th>\n",
              "      <td>Maria</td>\n",
              "      <td>Gonzalez</td>\n",
              "      <td>22</td>\n",
              "      <td>PM</td>\n",
              "      <td>Hector</td>\n",
              "      <td>Rojas</td>\n",
              "      <td>37</td>\n",
              "      <td>Senior dev</td>\n",
              "    </tr>\n",
              "    <tr>\n",
              "      <th>14</th>\n",
              "      <td>Maria</td>\n",
              "      <td>Gonzalez</td>\n",
              "      <td>22</td>\n",
              "      <td>PM</td>\n",
              "      <td>Hugo</td>\n",
              "      <td>Hernandez</td>\n",
              "      <td>19</td>\n",
              "      <td>Practicante</td>\n",
              "    </tr>\n",
              "    <tr>\n",
              "      <th>15</th>\n",
              "      <td>Maria</td>\n",
              "      <td>Gonzalez</td>\n",
              "      <td>22</td>\n",
              "      <td>PM</td>\n",
              "      <td>Maria</td>\n",
              "      <td>Gonzalez</td>\n",
              "      <td>22</td>\n",
              "      <td>PM</td>\n",
              "    </tr>\n",
              "  </tbody>\n",
              "</table>\n",
              "</div>"
            ],
            "text/plain": [
              "   Nombre_x Apellido_x edad_x  ... Apellido_y edad_y     puesto_y\n",
              "0       Ana    Sanchez     26  ...    Alvarez     41   Senior dev\n",
              "1       Ana    Sanchez     26  ...      Rojas     37   Senior dev\n",
              "2       Ana    Sanchez     26  ...  Hernandez     19  Practicante\n",
              "3       Ana    Sanchez     26  ...   Gonzalez     22           PM\n",
              "4      Pepe      Lopez     31  ...    Alvarez     41   Senior dev\n",
              "5      Pepe      Lopez     31  ...      Rojas     37   Senior dev\n",
              "6      Pepe      Lopez     31  ...  Hernandez     19  Practicante\n",
              "7      Pepe      Lopez     31  ...   Gonzalez     22           PM\n",
              "8      Hugo  Hernandez     19  ...    Alvarez     41   Senior dev\n",
              "9      Hugo  Hernandez     19  ...      Rojas     37   Senior dev\n",
              "10     Hugo  Hernandez     19  ...  Hernandez     19  Practicante\n",
              "11     Hugo  Hernandez     19  ...   Gonzalez     22           PM\n",
              "12    Maria   Gonzalez     22  ...    Alvarez     41   Senior dev\n",
              "13    Maria   Gonzalez     22  ...      Rojas     37   Senior dev\n",
              "14    Maria   Gonzalez     22  ...  Hernandez     19  Practicante\n",
              "15    Maria   Gonzalez     22  ...   Gonzalez     22           PM\n",
              "\n",
              "[16 rows x 8 columns]"
            ]
          },
          "metadata": {},
          "execution_count": 17
        }
      ]
    },
    {
      "cell_type": "markdown",
      "metadata": {
        "id": "gK84tRZxHyXd"
      },
      "source": [
        "Aquí utilizamos la función merge de dataFrame para realizar la operación. Esta operación se comentará con un poco más de detalle más adelante"
      ]
    },
    {
      "cell_type": "code",
      "metadata": {
        "colab": {
          "base_uri": "https://localhost:8080/",
          "height": 175
        },
        "id": "xaRyZPYxzy6E",
        "outputId": "1bfea318-b016-4392-a5d6-d634e59fdca0"
      },
      "source": [
        "df1"
      ],
      "execution_count": 18,
      "outputs": [
        {
          "output_type": "execute_result",
          "data": {
            "text/html": [
              "<div>\n",
              "<style scoped>\n",
              "    .dataframe tbody tr th:only-of-type {\n",
              "        vertical-align: middle;\n",
              "    }\n",
              "\n",
              "    .dataframe tbody tr th {\n",
              "        vertical-align: top;\n",
              "    }\n",
              "\n",
              "    .dataframe thead th {\n",
              "        text-align: right;\n",
              "    }\n",
              "</style>\n",
              "<table border=\"1\" class=\"dataframe\">\n",
              "  <thead>\n",
              "    <tr style=\"text-align: right;\">\n",
              "      <th></th>\n",
              "      <th>Nombre</th>\n",
              "      <th>Apellido</th>\n",
              "      <th>edad</th>\n",
              "      <th>puesto</th>\n",
              "    </tr>\n",
              "  </thead>\n",
              "  <tbody>\n",
              "    <tr>\n",
              "      <th>0</th>\n",
              "      <td>Ana</td>\n",
              "      <td>Sanchez</td>\n",
              "      <td>26</td>\n",
              "      <td>junior dev</td>\n",
              "    </tr>\n",
              "    <tr>\n",
              "      <th>1</th>\n",
              "      <td>Pepe</td>\n",
              "      <td>Lopez</td>\n",
              "      <td>31</td>\n",
              "      <td>Senior dev</td>\n",
              "    </tr>\n",
              "    <tr>\n",
              "      <th>2</th>\n",
              "      <td>Hugo</td>\n",
              "      <td>Hernandez</td>\n",
              "      <td>19</td>\n",
              "      <td>Practicante</td>\n",
              "    </tr>\n",
              "    <tr>\n",
              "      <th>3</th>\n",
              "      <td>Maria</td>\n",
              "      <td>Gonzalez</td>\n",
              "      <td>22</td>\n",
              "      <td>PM</td>\n",
              "    </tr>\n",
              "  </tbody>\n",
              "</table>\n",
              "</div>"
            ],
            "text/plain": [
              "  Nombre   Apellido edad       puesto\n",
              "0    Ana    Sanchez   26   junior dev\n",
              "1   Pepe      Lopez   31   Senior dev\n",
              "2   Hugo  Hernandez   19  Practicante\n",
              "3  Maria   Gonzalez   22           PM"
            ]
          },
          "metadata": {},
          "execution_count": 18
        }
      ]
    },
    {
      "cell_type": "markdown",
      "metadata": {
        "id": "9ZXakkP_OhZy"
      },
      "source": [
        "En algunos momentos puede ser útil el <h2>Renombrado</h2> de columnas. Puede ser solo para mostrar un dataframe (sin modificarlo), o puede ser que queramos realmente modificar el dataFrame"
      ]
    },
    {
      "cell_type": "markdown",
      "metadata": {
        "id": "9gds5F2DO9WV"
      },
      "source": [
        "Veamos un ejemplo"
      ]
    },
    {
      "cell_type": "code",
      "metadata": {
        "colab": {
          "base_uri": "https://localhost:8080/",
          "height": 175
        },
        "id": "KRCjVfa5PARj",
        "outputId": "d6853985-be43-44b9-b78d-8d0350d18bd6"
      },
      "source": [
        "df1"
      ],
      "execution_count": 19,
      "outputs": [
        {
          "output_type": "execute_result",
          "data": {
            "text/html": [
              "<div>\n",
              "<style scoped>\n",
              "    .dataframe tbody tr th:only-of-type {\n",
              "        vertical-align: middle;\n",
              "    }\n",
              "\n",
              "    .dataframe tbody tr th {\n",
              "        vertical-align: top;\n",
              "    }\n",
              "\n",
              "    .dataframe thead th {\n",
              "        text-align: right;\n",
              "    }\n",
              "</style>\n",
              "<table border=\"1\" class=\"dataframe\">\n",
              "  <thead>\n",
              "    <tr style=\"text-align: right;\">\n",
              "      <th></th>\n",
              "      <th>Nombre</th>\n",
              "      <th>Apellido</th>\n",
              "      <th>edad</th>\n",
              "      <th>puesto</th>\n",
              "    </tr>\n",
              "  </thead>\n",
              "  <tbody>\n",
              "    <tr>\n",
              "      <th>0</th>\n",
              "      <td>Ana</td>\n",
              "      <td>Sanchez</td>\n",
              "      <td>26</td>\n",
              "      <td>junior dev</td>\n",
              "    </tr>\n",
              "    <tr>\n",
              "      <th>1</th>\n",
              "      <td>Pepe</td>\n",
              "      <td>Lopez</td>\n",
              "      <td>31</td>\n",
              "      <td>Senior dev</td>\n",
              "    </tr>\n",
              "    <tr>\n",
              "      <th>2</th>\n",
              "      <td>Hugo</td>\n",
              "      <td>Hernandez</td>\n",
              "      <td>19</td>\n",
              "      <td>Practicante</td>\n",
              "    </tr>\n",
              "    <tr>\n",
              "      <th>3</th>\n",
              "      <td>Maria</td>\n",
              "      <td>Gonzalez</td>\n",
              "      <td>22</td>\n",
              "      <td>PM</td>\n",
              "    </tr>\n",
              "  </tbody>\n",
              "</table>\n",
              "</div>"
            ],
            "text/plain": [
              "  Nombre   Apellido edad       puesto\n",
              "0    Ana    Sanchez   26   junior dev\n",
              "1   Pepe      Lopez   31   Senior dev\n",
              "2   Hugo  Hernandez   19  Practicante\n",
              "3  Maria   Gonzalez   22           PM"
            ]
          },
          "metadata": {},
          "execution_count": 19
        }
      ]
    },
    {
      "cell_type": "code",
      "metadata": {
        "colab": {
          "base_uri": "https://localhost:8080/",
          "height": 175
        },
        "id": "SRH3lkJP1uZP",
        "outputId": "a25a998d-b7bf-4fea-a9fc-984d68d3c91f"
      },
      "source": [
        "df1.columns = ['Name','lastname','age','position']\n",
        "df1"
      ],
      "execution_count": 20,
      "outputs": [
        {
          "output_type": "execute_result",
          "data": {
            "text/html": [
              "<div>\n",
              "<style scoped>\n",
              "    .dataframe tbody tr th:only-of-type {\n",
              "        vertical-align: middle;\n",
              "    }\n",
              "\n",
              "    .dataframe tbody tr th {\n",
              "        vertical-align: top;\n",
              "    }\n",
              "\n",
              "    .dataframe thead th {\n",
              "        text-align: right;\n",
              "    }\n",
              "</style>\n",
              "<table border=\"1\" class=\"dataframe\">\n",
              "  <thead>\n",
              "    <tr style=\"text-align: right;\">\n",
              "      <th></th>\n",
              "      <th>Name</th>\n",
              "      <th>lastname</th>\n",
              "      <th>age</th>\n",
              "      <th>position</th>\n",
              "    </tr>\n",
              "  </thead>\n",
              "  <tbody>\n",
              "    <tr>\n",
              "      <th>0</th>\n",
              "      <td>Ana</td>\n",
              "      <td>Sanchez</td>\n",
              "      <td>26</td>\n",
              "      <td>junior dev</td>\n",
              "    </tr>\n",
              "    <tr>\n",
              "      <th>1</th>\n",
              "      <td>Pepe</td>\n",
              "      <td>Lopez</td>\n",
              "      <td>31</td>\n",
              "      <td>Senior dev</td>\n",
              "    </tr>\n",
              "    <tr>\n",
              "      <th>2</th>\n",
              "      <td>Hugo</td>\n",
              "      <td>Hernandez</td>\n",
              "      <td>19</td>\n",
              "      <td>Practicante</td>\n",
              "    </tr>\n",
              "    <tr>\n",
              "      <th>3</th>\n",
              "      <td>Maria</td>\n",
              "      <td>Gonzalez</td>\n",
              "      <td>22</td>\n",
              "      <td>PM</td>\n",
              "    </tr>\n",
              "  </tbody>\n",
              "</table>\n",
              "</div>"
            ],
            "text/plain": [
              "    Name   lastname age     position\n",
              "0    Ana    Sanchez  26   junior dev\n",
              "1   Pepe      Lopez  31   Senior dev\n",
              "2   Hugo  Hernandez  19  Practicante\n",
              "3  Maria   Gonzalez  22           PM"
            ]
          },
          "metadata": {},
          "execution_count": 20
        }
      ]
    },
    {
      "cell_type": "code",
      "metadata": {
        "colab": {
          "base_uri": "https://localhost:8080/",
          "height": 175
        },
        "id": "hRZKclHpcjK8",
        "outputId": "98b89178-a03e-4d69-ccc7-4ce48aad54a9"
      },
      "source": [
        "df1\n"
      ],
      "execution_count": 21,
      "outputs": [
        {
          "output_type": "execute_result",
          "data": {
            "text/html": [
              "<div>\n",
              "<style scoped>\n",
              "    .dataframe tbody tr th:only-of-type {\n",
              "        vertical-align: middle;\n",
              "    }\n",
              "\n",
              "    .dataframe tbody tr th {\n",
              "        vertical-align: top;\n",
              "    }\n",
              "\n",
              "    .dataframe thead th {\n",
              "        text-align: right;\n",
              "    }\n",
              "</style>\n",
              "<table border=\"1\" class=\"dataframe\">\n",
              "  <thead>\n",
              "    <tr style=\"text-align: right;\">\n",
              "      <th></th>\n",
              "      <th>Name</th>\n",
              "      <th>lastname</th>\n",
              "      <th>age</th>\n",
              "      <th>position</th>\n",
              "    </tr>\n",
              "  </thead>\n",
              "  <tbody>\n",
              "    <tr>\n",
              "      <th>0</th>\n",
              "      <td>Ana</td>\n",
              "      <td>Sanchez</td>\n",
              "      <td>26</td>\n",
              "      <td>junior dev</td>\n",
              "    </tr>\n",
              "    <tr>\n",
              "      <th>1</th>\n",
              "      <td>Pepe</td>\n",
              "      <td>Lopez</td>\n",
              "      <td>31</td>\n",
              "      <td>Senior dev</td>\n",
              "    </tr>\n",
              "    <tr>\n",
              "      <th>2</th>\n",
              "      <td>Hugo</td>\n",
              "      <td>Hernandez</td>\n",
              "      <td>19</td>\n",
              "      <td>Practicante</td>\n",
              "    </tr>\n",
              "    <tr>\n",
              "      <th>3</th>\n",
              "      <td>Maria</td>\n",
              "      <td>Gonzalez</td>\n",
              "      <td>22</td>\n",
              "      <td>PM</td>\n",
              "    </tr>\n",
              "  </tbody>\n",
              "</table>\n",
              "</div>"
            ],
            "text/plain": [
              "    Name   lastname age     position\n",
              "0    Ana    Sanchez  26   junior dev\n",
              "1   Pepe      Lopez  31   Senior dev\n",
              "2   Hugo  Hernandez  19  Practicante\n",
              "3  Maria   Gonzalez  22           PM"
            ]
          },
          "metadata": {},
          "execution_count": 21
        }
      ]
    },
    {
      "cell_type": "markdown",
      "metadata": {
        "id": "sPoTtvoCdS_F"
      },
      "source": [
        "Si queremos renombrar solo una(s) columna(s): "
      ]
    },
    {
      "cell_type": "code",
      "metadata": {
        "id": "HFclsaVVcyNJ"
      },
      "source": [
        "df1.rename(columns={'age':'edad', 'position':'puesto'}, inplace=True)"
      ],
      "execution_count": 22,
      "outputs": []
    },
    {
      "cell_type": "code",
      "metadata": {
        "colab": {
          "base_uri": "https://localhost:8080/",
          "height": 175
        },
        "id": "O0QGdpJxdO30",
        "outputId": "cf7ac550-67bb-43b8-cd26-bd482838a2a3"
      },
      "source": [
        "df1"
      ],
      "execution_count": 23,
      "outputs": [
        {
          "output_type": "execute_result",
          "data": {
            "text/html": [
              "<div>\n",
              "<style scoped>\n",
              "    .dataframe tbody tr th:only-of-type {\n",
              "        vertical-align: middle;\n",
              "    }\n",
              "\n",
              "    .dataframe tbody tr th {\n",
              "        vertical-align: top;\n",
              "    }\n",
              "\n",
              "    .dataframe thead th {\n",
              "        text-align: right;\n",
              "    }\n",
              "</style>\n",
              "<table border=\"1\" class=\"dataframe\">\n",
              "  <thead>\n",
              "    <tr style=\"text-align: right;\">\n",
              "      <th></th>\n",
              "      <th>Name</th>\n",
              "      <th>lastname</th>\n",
              "      <th>edad</th>\n",
              "      <th>puesto</th>\n",
              "    </tr>\n",
              "  </thead>\n",
              "  <tbody>\n",
              "    <tr>\n",
              "      <th>0</th>\n",
              "      <td>Ana</td>\n",
              "      <td>Sanchez</td>\n",
              "      <td>26</td>\n",
              "      <td>junior dev</td>\n",
              "    </tr>\n",
              "    <tr>\n",
              "      <th>1</th>\n",
              "      <td>Pepe</td>\n",
              "      <td>Lopez</td>\n",
              "      <td>31</td>\n",
              "      <td>Senior dev</td>\n",
              "    </tr>\n",
              "    <tr>\n",
              "      <th>2</th>\n",
              "      <td>Hugo</td>\n",
              "      <td>Hernandez</td>\n",
              "      <td>19</td>\n",
              "      <td>Practicante</td>\n",
              "    </tr>\n",
              "    <tr>\n",
              "      <th>3</th>\n",
              "      <td>Maria</td>\n",
              "      <td>Gonzalez</td>\n",
              "      <td>22</td>\n",
              "      <td>PM</td>\n",
              "    </tr>\n",
              "  </tbody>\n",
              "</table>\n",
              "</div>"
            ],
            "text/plain": [
              "    Name   lastname edad       puesto\n",
              "0    Ana    Sanchez   26   junior dev\n",
              "1   Pepe      Lopez   31   Senior dev\n",
              "2   Hugo  Hernandez   19  Practicante\n",
              "3  Maria   Gonzalez   22           PM"
            ]
          },
          "metadata": {},
          "execution_count": 23
        }
      ]
    },
    {
      "cell_type": "markdown",
      "metadata": {
        "id": "iZ5azsiJyzxP"
      },
      "source": [
        "Ahora veamos las operaciones de <h2>reunion (JOIN)</h2>"
      ]
    },
    {
      "cell_type": "code",
      "metadata": {
        "id": "IuhivNnwkjSS"
      },
      "source": [
        "\n",
        "dfa = pd.DataFrame(\n",
        "     {\n",
        "         \"marca\": [2, 3, 2, 5, 7],\n",
        "         \"submarca\": [\"jetta\", \"cx-5\", \"polo\", \"figo\", \"duster\"],\n",
        "         \"modelo\": [2006, 2015, 2018, 2020, 2015],\n",
        "         \"kms\": [194500, 98000, 56250, 12000, 154000],\n",
        "     },\n",
        "     #index=[0, 1, 2, 3],\n",
        " )\n",
        "dfm = pd.DataFrame(\n",
        "\t     {\n",
        "\t         \"id_marca\": [1,2,3,4,5,6],\n",
        "\t         \"marca\": [\"susuki\", \"volkswagen\", \"mazda\", \"honda\", \"ford\", \"toyota\"]\n",
        "           \t         \n",
        "\t     },\n",
        "\t     #index=[2, 3, 6, 7],\n",
        "\t )"
      ],
      "execution_count": 34,
      "outputs": []
    },
    {
      "cell_type": "code",
      "metadata": {
        "colab": {
          "base_uri": "https://localhost:8080/",
          "height": 206
        },
        "id": "z_wFA3VIknsx",
        "outputId": "6b381d92-59bd-48ac-c168-8ca273cffbe8"
      },
      "source": [
        "dfa"
      ],
      "execution_count": 37,
      "outputs": [
        {
          "output_type": "execute_result",
          "data": {
            "text/html": [
              "<div>\n",
              "<style scoped>\n",
              "    .dataframe tbody tr th:only-of-type {\n",
              "        vertical-align: middle;\n",
              "    }\n",
              "\n",
              "    .dataframe tbody tr th {\n",
              "        vertical-align: top;\n",
              "    }\n",
              "\n",
              "    .dataframe thead th {\n",
              "        text-align: right;\n",
              "    }\n",
              "</style>\n",
              "<table border=\"1\" class=\"dataframe\">\n",
              "  <thead>\n",
              "    <tr style=\"text-align: right;\">\n",
              "      <th></th>\n",
              "      <th>marca</th>\n",
              "      <th>submarca</th>\n",
              "      <th>modelo</th>\n",
              "      <th>kms</th>\n",
              "    </tr>\n",
              "  </thead>\n",
              "  <tbody>\n",
              "    <tr>\n",
              "      <th>0</th>\n",
              "      <td>2</td>\n",
              "      <td>jetta</td>\n",
              "      <td>2006</td>\n",
              "      <td>194500</td>\n",
              "    </tr>\n",
              "    <tr>\n",
              "      <th>1</th>\n",
              "      <td>3</td>\n",
              "      <td>cx-5</td>\n",
              "      <td>2015</td>\n",
              "      <td>98000</td>\n",
              "    </tr>\n",
              "    <tr>\n",
              "      <th>2</th>\n",
              "      <td>2</td>\n",
              "      <td>polo</td>\n",
              "      <td>2018</td>\n",
              "      <td>56250</td>\n",
              "    </tr>\n",
              "    <tr>\n",
              "      <th>3</th>\n",
              "      <td>5</td>\n",
              "      <td>figo</td>\n",
              "      <td>2020</td>\n",
              "      <td>12000</td>\n",
              "    </tr>\n",
              "    <tr>\n",
              "      <th>4</th>\n",
              "      <td>7</td>\n",
              "      <td>duster</td>\n",
              "      <td>2015</td>\n",
              "      <td>154000</td>\n",
              "    </tr>\n",
              "  </tbody>\n",
              "</table>\n",
              "</div>"
            ],
            "text/plain": [
              "   marca submarca  modelo     kms\n",
              "0      2    jetta    2006  194500\n",
              "1      3     cx-5    2015   98000\n",
              "2      2     polo    2018   56250\n",
              "3      5     figo    2020   12000\n",
              "4      7   duster    2015  154000"
            ]
          },
          "metadata": {},
          "execution_count": 37
        }
      ]
    },
    {
      "cell_type": "code",
      "metadata": {
        "colab": {
          "base_uri": "https://localhost:8080/",
          "height": 238
        },
        "id": "6OBQZhc2koxt",
        "outputId": "d1637819-897a-403a-c9d8-fb5f0e182bd4"
      },
      "source": [
        "dfm"
      ],
      "execution_count": 38,
      "outputs": [
        {
          "output_type": "execute_result",
          "data": {
            "text/html": [
              "<div>\n",
              "<style scoped>\n",
              "    .dataframe tbody tr th:only-of-type {\n",
              "        vertical-align: middle;\n",
              "    }\n",
              "\n",
              "    .dataframe tbody tr th {\n",
              "        vertical-align: top;\n",
              "    }\n",
              "\n",
              "    .dataframe thead th {\n",
              "        text-align: right;\n",
              "    }\n",
              "</style>\n",
              "<table border=\"1\" class=\"dataframe\">\n",
              "  <thead>\n",
              "    <tr style=\"text-align: right;\">\n",
              "      <th></th>\n",
              "      <th>id_marca</th>\n",
              "      <th>marca</th>\n",
              "    </tr>\n",
              "  </thead>\n",
              "  <tbody>\n",
              "    <tr>\n",
              "      <th>0</th>\n",
              "      <td>1</td>\n",
              "      <td>susuki</td>\n",
              "    </tr>\n",
              "    <tr>\n",
              "      <th>1</th>\n",
              "      <td>2</td>\n",
              "      <td>volkswagen</td>\n",
              "    </tr>\n",
              "    <tr>\n",
              "      <th>2</th>\n",
              "      <td>3</td>\n",
              "      <td>mazda</td>\n",
              "    </tr>\n",
              "    <tr>\n",
              "      <th>3</th>\n",
              "      <td>4</td>\n",
              "      <td>honda</td>\n",
              "    </tr>\n",
              "    <tr>\n",
              "      <th>4</th>\n",
              "      <td>5</td>\n",
              "      <td>ford</td>\n",
              "    </tr>\n",
              "    <tr>\n",
              "      <th>5</th>\n",
              "      <td>6</td>\n",
              "      <td>toyota</td>\n",
              "    </tr>\n",
              "  </tbody>\n",
              "</table>\n",
              "</div>"
            ],
            "text/plain": [
              "   id_marca       marca\n",
              "0         1      susuki\n",
              "1         2  volkswagen\n",
              "2         3       mazda\n",
              "3         4       honda\n",
              "4         5        ford\n",
              "5         6      toyota"
            ]
          },
          "metadata": {},
          "execution_count": 38
        }
      ]
    },
    {
      "cell_type": "code",
      "metadata": {
        "colab": {
          "base_uri": "https://localhost:8080/",
          "height": 238
        },
        "id": "U4RrEp02lE6Q",
        "outputId": "2f09c590-4733-44fe-f63a-e39bcab04f08"
      },
      "source": [
        "autos_marcas=pd.concat([dfa,dfm], axis = 1)\n",
        "autos_marcas"
      ],
      "execution_count": 39,
      "outputs": [
        {
          "output_type": "execute_result",
          "data": {
            "text/html": [
              "<div>\n",
              "<style scoped>\n",
              "    .dataframe tbody tr th:only-of-type {\n",
              "        vertical-align: middle;\n",
              "    }\n",
              "\n",
              "    .dataframe tbody tr th {\n",
              "        vertical-align: top;\n",
              "    }\n",
              "\n",
              "    .dataframe thead th {\n",
              "        text-align: right;\n",
              "    }\n",
              "</style>\n",
              "<table border=\"1\" class=\"dataframe\">\n",
              "  <thead>\n",
              "    <tr style=\"text-align: right;\">\n",
              "      <th></th>\n",
              "      <th>marca</th>\n",
              "      <th>submarca</th>\n",
              "      <th>modelo</th>\n",
              "      <th>kms</th>\n",
              "      <th>id_marca</th>\n",
              "      <th>marca</th>\n",
              "    </tr>\n",
              "  </thead>\n",
              "  <tbody>\n",
              "    <tr>\n",
              "      <th>0</th>\n",
              "      <td>2.0</td>\n",
              "      <td>jetta</td>\n",
              "      <td>2006.0</td>\n",
              "      <td>194500.0</td>\n",
              "      <td>1</td>\n",
              "      <td>susuki</td>\n",
              "    </tr>\n",
              "    <tr>\n",
              "      <th>1</th>\n",
              "      <td>3.0</td>\n",
              "      <td>cx-5</td>\n",
              "      <td>2015.0</td>\n",
              "      <td>98000.0</td>\n",
              "      <td>2</td>\n",
              "      <td>volkswagen</td>\n",
              "    </tr>\n",
              "    <tr>\n",
              "      <th>2</th>\n",
              "      <td>2.0</td>\n",
              "      <td>polo</td>\n",
              "      <td>2018.0</td>\n",
              "      <td>56250.0</td>\n",
              "      <td>3</td>\n",
              "      <td>mazda</td>\n",
              "    </tr>\n",
              "    <tr>\n",
              "      <th>3</th>\n",
              "      <td>5.0</td>\n",
              "      <td>figo</td>\n",
              "      <td>2020.0</td>\n",
              "      <td>12000.0</td>\n",
              "      <td>4</td>\n",
              "      <td>honda</td>\n",
              "    </tr>\n",
              "    <tr>\n",
              "      <th>4</th>\n",
              "      <td>7.0</td>\n",
              "      <td>duster</td>\n",
              "      <td>2015.0</td>\n",
              "      <td>154000.0</td>\n",
              "      <td>5</td>\n",
              "      <td>ford</td>\n",
              "    </tr>\n",
              "    <tr>\n",
              "      <th>5</th>\n",
              "      <td>NaN</td>\n",
              "      <td>NaN</td>\n",
              "      <td>NaN</td>\n",
              "      <td>NaN</td>\n",
              "      <td>6</td>\n",
              "      <td>toyota</td>\n",
              "    </tr>\n",
              "  </tbody>\n",
              "</table>\n",
              "</div>"
            ],
            "text/plain": [
              "  marca submarca  modelo       kms  id_marca       marca\n",
              "0   2.0    jetta  2006.0  194500.0         1      susuki\n",
              "1   3.0     cx-5  2015.0   98000.0         2  volkswagen\n",
              "2   2.0     polo  2018.0   56250.0         3       mazda\n",
              "3   5.0     figo  2020.0   12000.0         4       honda\n",
              "4   7.0   duster  2015.0  154000.0         5        ford\n",
              "5   NaN      NaN     NaN       NaN         6      toyota"
            ]
          },
          "metadata": {},
          "execution_count": 39
        }
      ]
    },
    {
      "cell_type": "markdown",
      "metadata": {
        "id": "U2gLGTv7mRNL"
      },
      "source": [
        "Esto no tiene mucho sentido. usemos ahora la funcion merge para hacer los joins correctos\n"
      ]
    },
    {
      "cell_type": "code",
      "metadata": {
        "colab": {
          "base_uri": "https://localhost:8080/",
          "height": 175
        },
        "id": "SKYjyllJmZTr",
        "outputId": "e24aa13b-d261-4882-fc63-ebe3e1103503"
      },
      "source": [
        "dfa.merge(dfm, left_on='marca', right_on='id_marca')"
      ],
      "execution_count": 40,
      "outputs": [
        {
          "output_type": "execute_result",
          "data": {
            "text/html": [
              "<div>\n",
              "<style scoped>\n",
              "    .dataframe tbody tr th:only-of-type {\n",
              "        vertical-align: middle;\n",
              "    }\n",
              "\n",
              "    .dataframe tbody tr th {\n",
              "        vertical-align: top;\n",
              "    }\n",
              "\n",
              "    .dataframe thead th {\n",
              "        text-align: right;\n",
              "    }\n",
              "</style>\n",
              "<table border=\"1\" class=\"dataframe\">\n",
              "  <thead>\n",
              "    <tr style=\"text-align: right;\">\n",
              "      <th></th>\n",
              "      <th>marca_x</th>\n",
              "      <th>submarca</th>\n",
              "      <th>modelo</th>\n",
              "      <th>kms</th>\n",
              "      <th>id_marca</th>\n",
              "      <th>marca_y</th>\n",
              "    </tr>\n",
              "  </thead>\n",
              "  <tbody>\n",
              "    <tr>\n",
              "      <th>0</th>\n",
              "      <td>2</td>\n",
              "      <td>jetta</td>\n",
              "      <td>2006</td>\n",
              "      <td>194500</td>\n",
              "      <td>2</td>\n",
              "      <td>volkswagen</td>\n",
              "    </tr>\n",
              "    <tr>\n",
              "      <th>1</th>\n",
              "      <td>2</td>\n",
              "      <td>polo</td>\n",
              "      <td>2018</td>\n",
              "      <td>56250</td>\n",
              "      <td>2</td>\n",
              "      <td>volkswagen</td>\n",
              "    </tr>\n",
              "    <tr>\n",
              "      <th>2</th>\n",
              "      <td>3</td>\n",
              "      <td>cx-5</td>\n",
              "      <td>2015</td>\n",
              "      <td>98000</td>\n",
              "      <td>3</td>\n",
              "      <td>mazda</td>\n",
              "    </tr>\n",
              "    <tr>\n",
              "      <th>3</th>\n",
              "      <td>5</td>\n",
              "      <td>figo</td>\n",
              "      <td>2020</td>\n",
              "      <td>12000</td>\n",
              "      <td>5</td>\n",
              "      <td>ford</td>\n",
              "    </tr>\n",
              "  </tbody>\n",
              "</table>\n",
              "</div>"
            ],
            "text/plain": [
              "   marca_x submarca  modelo     kms  id_marca     marca_y\n",
              "0        2    jetta    2006  194500         2  volkswagen\n",
              "1        2     polo    2018   56250         2  volkswagen\n",
              "2        3     cx-5    2015   98000         3       mazda\n",
              "3        5     figo    2020   12000         5        ford"
            ]
          },
          "metadata": {},
          "execution_count": 40
        }
      ]
    },
    {
      "cell_type": "markdown",
      "metadata": {
        "id": "Iy9_6-Ewm6yl"
      },
      "source": [
        "Notemos que la forma de operar por default del merge, haciendo la funcion JOIN del algebra relacional es un <b>inner join</b>. es decir solo muestra como resultado las filas que tienen relacion entre un dataFrame y otro"
      ]
    },
    {
      "cell_type": "markdown",
      "metadata": {
        "id": "xYhy_x23noHc"
      },
      "source": [
        "Veamos cómo quedaría un left join "
      ]
    },
    {
      "cell_type": "code",
      "metadata": {
        "colab": {
          "base_uri": "https://localhost:8080/",
          "height": 206
        },
        "id": "ukqQxnUqnNvp",
        "outputId": "c219aa13-1e5e-4e25-ae30-20d20ff3b480"
      },
      "source": [
        "dfa.merge(dfm, left_on='marca', right_on='id_marca', how = 'left')\n"
      ],
      "execution_count": 41,
      "outputs": [
        {
          "output_type": "execute_result",
          "data": {
            "text/html": [
              "<div>\n",
              "<style scoped>\n",
              "    .dataframe tbody tr th:only-of-type {\n",
              "        vertical-align: middle;\n",
              "    }\n",
              "\n",
              "    .dataframe tbody tr th {\n",
              "        vertical-align: top;\n",
              "    }\n",
              "\n",
              "    .dataframe thead th {\n",
              "        text-align: right;\n",
              "    }\n",
              "</style>\n",
              "<table border=\"1\" class=\"dataframe\">\n",
              "  <thead>\n",
              "    <tr style=\"text-align: right;\">\n",
              "      <th></th>\n",
              "      <th>marca_x</th>\n",
              "      <th>submarca</th>\n",
              "      <th>modelo</th>\n",
              "      <th>kms</th>\n",
              "      <th>id_marca</th>\n",
              "      <th>marca_y</th>\n",
              "    </tr>\n",
              "  </thead>\n",
              "  <tbody>\n",
              "    <tr>\n",
              "      <th>0</th>\n",
              "      <td>2</td>\n",
              "      <td>jetta</td>\n",
              "      <td>2006</td>\n",
              "      <td>194500</td>\n",
              "      <td>2.0</td>\n",
              "      <td>volkswagen</td>\n",
              "    </tr>\n",
              "    <tr>\n",
              "      <th>1</th>\n",
              "      <td>3</td>\n",
              "      <td>cx-5</td>\n",
              "      <td>2015</td>\n",
              "      <td>98000</td>\n",
              "      <td>3.0</td>\n",
              "      <td>mazda</td>\n",
              "    </tr>\n",
              "    <tr>\n",
              "      <th>2</th>\n",
              "      <td>2</td>\n",
              "      <td>polo</td>\n",
              "      <td>2018</td>\n",
              "      <td>56250</td>\n",
              "      <td>2.0</td>\n",
              "      <td>volkswagen</td>\n",
              "    </tr>\n",
              "    <tr>\n",
              "      <th>3</th>\n",
              "      <td>5</td>\n",
              "      <td>figo</td>\n",
              "      <td>2020</td>\n",
              "      <td>12000</td>\n",
              "      <td>5.0</td>\n",
              "      <td>ford</td>\n",
              "    </tr>\n",
              "    <tr>\n",
              "      <th>4</th>\n",
              "      <td>7</td>\n",
              "      <td>duster</td>\n",
              "      <td>2015</td>\n",
              "      <td>154000</td>\n",
              "      <td>NaN</td>\n",
              "      <td>NaN</td>\n",
              "    </tr>\n",
              "  </tbody>\n",
              "</table>\n",
              "</div>"
            ],
            "text/plain": [
              "   marca_x submarca  modelo     kms  id_marca     marca_y\n",
              "0        2    jetta    2006  194500       2.0  volkswagen\n",
              "1        3     cx-5    2015   98000       3.0       mazda\n",
              "2        2     polo    2018   56250       2.0  volkswagen\n",
              "3        5     figo    2020   12000       5.0        ford\n",
              "4        7   duster    2015  154000       NaN         NaN"
            ]
          },
          "metadata": {},
          "execution_count": 41
        }
      ]
    },
    {
      "cell_type": "markdown",
      "metadata": {
        "id": "3A04b8JbnwBH"
      },
      "source": [
        "Ahora un right join"
      ]
    },
    {
      "cell_type": "code",
      "metadata": {
        "colab": {
          "base_uri": "https://localhost:8080/",
          "height": 269
        },
        "id": "PscXr93snysN",
        "outputId": "347b3520-6c8b-446c-dff3-8366750ac9f3"
      },
      "source": [
        "dfa.merge(dfm, left_on='marca', right_on='id_marca', how = 'right')"
      ],
      "execution_count": null,
      "outputs": [
        {
          "output_type": "execute_result",
          "data": {
            "text/html": [
              "<div>\n",
              "<style scoped>\n",
              "    .dataframe tbody tr th:only-of-type {\n",
              "        vertical-align: middle;\n",
              "    }\n",
              "\n",
              "    .dataframe tbody tr th {\n",
              "        vertical-align: top;\n",
              "    }\n",
              "\n",
              "    .dataframe thead th {\n",
              "        text-align: right;\n",
              "    }\n",
              "</style>\n",
              "<table border=\"1\" class=\"dataframe\">\n",
              "  <thead>\n",
              "    <tr style=\"text-align: right;\">\n",
              "      <th></th>\n",
              "      <th>marca_x</th>\n",
              "      <th>submarca</th>\n",
              "      <th>modelo</th>\n",
              "      <th>kms</th>\n",
              "      <th>id_marca</th>\n",
              "      <th>marca_y</th>\n",
              "    </tr>\n",
              "  </thead>\n",
              "  <tbody>\n",
              "    <tr>\n",
              "      <th>0</th>\n",
              "      <td>NaN</td>\n",
              "      <td>NaN</td>\n",
              "      <td>NaN</td>\n",
              "      <td>NaN</td>\n",
              "      <td>1</td>\n",
              "      <td>susuki</td>\n",
              "    </tr>\n",
              "    <tr>\n",
              "      <th>1</th>\n",
              "      <td>2.0</td>\n",
              "      <td>jetta</td>\n",
              "      <td>2006.0</td>\n",
              "      <td>194500.0</td>\n",
              "      <td>2</td>\n",
              "      <td>volkswagen</td>\n",
              "    </tr>\n",
              "    <tr>\n",
              "      <th>2</th>\n",
              "      <td>2.0</td>\n",
              "      <td>polo</td>\n",
              "      <td>2018.0</td>\n",
              "      <td>56250.0</td>\n",
              "      <td>2</td>\n",
              "      <td>volkswagen</td>\n",
              "    </tr>\n",
              "    <tr>\n",
              "      <th>3</th>\n",
              "      <td>3.0</td>\n",
              "      <td>cx-5</td>\n",
              "      <td>2015.0</td>\n",
              "      <td>98000.0</td>\n",
              "      <td>3</td>\n",
              "      <td>mazda</td>\n",
              "    </tr>\n",
              "    <tr>\n",
              "      <th>4</th>\n",
              "      <td>NaN</td>\n",
              "      <td>NaN</td>\n",
              "      <td>NaN</td>\n",
              "      <td>NaN</td>\n",
              "      <td>4</td>\n",
              "      <td>honda</td>\n",
              "    </tr>\n",
              "    <tr>\n",
              "      <th>5</th>\n",
              "      <td>5.0</td>\n",
              "      <td>figo</td>\n",
              "      <td>2020.0</td>\n",
              "      <td>12000.0</td>\n",
              "      <td>5</td>\n",
              "      <td>ford</td>\n",
              "    </tr>\n",
              "    <tr>\n",
              "      <th>6</th>\n",
              "      <td>NaN</td>\n",
              "      <td>NaN</td>\n",
              "      <td>NaN</td>\n",
              "      <td>NaN</td>\n",
              "      <td>6</td>\n",
              "      <td>toyota</td>\n",
              "    </tr>\n",
              "  </tbody>\n",
              "</table>\n",
              "</div>"
            ],
            "text/plain": [
              "   marca_x submarca  modelo       kms  id_marca     marca_y\n",
              "0      NaN      NaN     NaN       NaN         1      susuki\n",
              "1      2.0    jetta  2006.0  194500.0         2  volkswagen\n",
              "2      2.0     polo  2018.0   56250.0         2  volkswagen\n",
              "3      3.0     cx-5  2015.0   98000.0         3       mazda\n",
              "4      NaN      NaN     NaN       NaN         4       honda\n",
              "5      5.0     figo  2020.0   12000.0         5        ford\n",
              "6      NaN      NaN     NaN       NaN         6      toyota"
            ]
          },
          "metadata": {},
          "execution_count": 31
        }
      ]
    },
    {
      "cell_type": "markdown",
      "metadata": {
        "id": "mSMRWFo6n8wQ"
      },
      "source": [
        "Finalmente un outer"
      ]
    },
    {
      "cell_type": "code",
      "metadata": {
        "colab": {
          "base_uri": "https://localhost:8080/",
          "height": 300
        },
        "id": "HE1K62PFn-ng",
        "outputId": "f5e96a26-c8d7-45bc-d793-404342c905bb"
      },
      "source": [
        "dfa.merge(dfm, left_on='marca', right_on='id_marca', how = 'outer')"
      ],
      "execution_count": null,
      "outputs": [
        {
          "output_type": "execute_result",
          "data": {
            "text/html": [
              "<div>\n",
              "<style scoped>\n",
              "    .dataframe tbody tr th:only-of-type {\n",
              "        vertical-align: middle;\n",
              "    }\n",
              "\n",
              "    .dataframe tbody tr th {\n",
              "        vertical-align: top;\n",
              "    }\n",
              "\n",
              "    .dataframe thead th {\n",
              "        text-align: right;\n",
              "    }\n",
              "</style>\n",
              "<table border=\"1\" class=\"dataframe\">\n",
              "  <thead>\n",
              "    <tr style=\"text-align: right;\">\n",
              "      <th></th>\n",
              "      <th>marca_x</th>\n",
              "      <th>submarca</th>\n",
              "      <th>modelo</th>\n",
              "      <th>kms</th>\n",
              "      <th>id_marca</th>\n",
              "      <th>marca_y</th>\n",
              "    </tr>\n",
              "  </thead>\n",
              "  <tbody>\n",
              "    <tr>\n",
              "      <th>0</th>\n",
              "      <td>2.0</td>\n",
              "      <td>jetta</td>\n",
              "      <td>2006.0</td>\n",
              "      <td>194500.0</td>\n",
              "      <td>2.0</td>\n",
              "      <td>volkswagen</td>\n",
              "    </tr>\n",
              "    <tr>\n",
              "      <th>1</th>\n",
              "      <td>2.0</td>\n",
              "      <td>polo</td>\n",
              "      <td>2018.0</td>\n",
              "      <td>56250.0</td>\n",
              "      <td>2.0</td>\n",
              "      <td>volkswagen</td>\n",
              "    </tr>\n",
              "    <tr>\n",
              "      <th>2</th>\n",
              "      <td>3.0</td>\n",
              "      <td>cx-5</td>\n",
              "      <td>2015.0</td>\n",
              "      <td>98000.0</td>\n",
              "      <td>3.0</td>\n",
              "      <td>mazda</td>\n",
              "    </tr>\n",
              "    <tr>\n",
              "      <th>3</th>\n",
              "      <td>5.0</td>\n",
              "      <td>figo</td>\n",
              "      <td>2020.0</td>\n",
              "      <td>12000.0</td>\n",
              "      <td>5.0</td>\n",
              "      <td>ford</td>\n",
              "    </tr>\n",
              "    <tr>\n",
              "      <th>4</th>\n",
              "      <td>7.0</td>\n",
              "      <td>duster</td>\n",
              "      <td>2015.0</td>\n",
              "      <td>154000.0</td>\n",
              "      <td>NaN</td>\n",
              "      <td>NaN</td>\n",
              "    </tr>\n",
              "    <tr>\n",
              "      <th>5</th>\n",
              "      <td>NaN</td>\n",
              "      <td>NaN</td>\n",
              "      <td>NaN</td>\n",
              "      <td>NaN</td>\n",
              "      <td>1.0</td>\n",
              "      <td>susuki</td>\n",
              "    </tr>\n",
              "    <tr>\n",
              "      <th>6</th>\n",
              "      <td>NaN</td>\n",
              "      <td>NaN</td>\n",
              "      <td>NaN</td>\n",
              "      <td>NaN</td>\n",
              "      <td>4.0</td>\n",
              "      <td>honda</td>\n",
              "    </tr>\n",
              "    <tr>\n",
              "      <th>7</th>\n",
              "      <td>NaN</td>\n",
              "      <td>NaN</td>\n",
              "      <td>NaN</td>\n",
              "      <td>NaN</td>\n",
              "      <td>6.0</td>\n",
              "      <td>toyota</td>\n",
              "    </tr>\n",
              "  </tbody>\n",
              "</table>\n",
              "</div>"
            ],
            "text/plain": [
              "   marca_x submarca  modelo       kms  id_marca     marca_y\n",
              "0      2.0    jetta  2006.0  194500.0       2.0  volkswagen\n",
              "1      2.0     polo  2018.0   56250.0       2.0  volkswagen\n",
              "2      3.0     cx-5  2015.0   98000.0       3.0       mazda\n",
              "3      5.0     figo  2020.0   12000.0       5.0        ford\n",
              "4      7.0   duster  2015.0  154000.0       NaN         NaN\n",
              "5      NaN      NaN     NaN       NaN       1.0      susuki\n",
              "6      NaN      NaN     NaN       NaN       4.0       honda\n",
              "7      NaN      NaN     NaN       NaN       6.0      toyota"
            ]
          },
          "metadata": {},
          "execution_count": 32
        }
      ]
    },
    {
      "cell_type": "markdown",
      "metadata": {
        "id": "u2FetUQ4Fhbt"
      },
      "source": [
        "\n",
        "<h1> Uso de las funciones concat append, merge y join de pandas</h1>\n",
        "\n"
      ]
    },
    {
      "cell_type": "markdown",
      "metadata": {
        "id": "RP3nF_p991Ak"
      },
      "source": [
        "<h1>uso de concat()</h1>"
      ]
    },
    {
      "cell_type": "markdown",
      "metadata": {
        "id": "Ycxlig82uXun"
      },
      "source": [
        "Ejemplo de concat para unir dataframes. Se muestra el uso del operador UNION con mismo esquema"
      ]
    },
    {
      "cell_type": "code",
      "metadata": {
        "id": "y9TScQEYu-jc"
      },
      "source": [
        "import pandas as pd"
      ],
      "execution_count": null,
      "outputs": []
    },
    {
      "cell_type": "code",
      "metadata": {
        "colab": {
          "base_uri": "https://localhost:8080/",
          "height": 175
        },
        "id": "M5EwTxNAvAqO",
        "outputId": "4e0769b1-dc58-4798-afb8-de7abdd502b1"
      },
      "source": [
        "df1 = pd.DataFrame(\n",
        "     {\n",
        "         \"A\": [\"A0\", \"A1\", \"A2\", \"A3\"],\n",
        "         \"B\": [\"B0\", \"B1\", \"B2\", \"B3\"],\n",
        "         \"C\": [\"C0\", \"C1\", \"C2\", \"C3\"],\n",
        "         \"D\": [\"D0\", \"D1\", \"D2\", \"D3\"],\n",
        "     },\n",
        "     index=[0, 1, 2, 3],\n",
        " )\n",
        "df1"
      ],
      "execution_count": null,
      "outputs": [
        {
          "output_type": "execute_result",
          "data": {
            "text/html": [
              "<div>\n",
              "<style scoped>\n",
              "    .dataframe tbody tr th:only-of-type {\n",
              "        vertical-align: middle;\n",
              "    }\n",
              "\n",
              "    .dataframe tbody tr th {\n",
              "        vertical-align: top;\n",
              "    }\n",
              "\n",
              "    .dataframe thead th {\n",
              "        text-align: right;\n",
              "    }\n",
              "</style>\n",
              "<table border=\"1\" class=\"dataframe\">\n",
              "  <thead>\n",
              "    <tr style=\"text-align: right;\">\n",
              "      <th></th>\n",
              "      <th>A</th>\n",
              "      <th>B</th>\n",
              "      <th>C</th>\n",
              "      <th>D</th>\n",
              "    </tr>\n",
              "  </thead>\n",
              "  <tbody>\n",
              "    <tr>\n",
              "      <th>0</th>\n",
              "      <td>A0</td>\n",
              "      <td>B0</td>\n",
              "      <td>C0</td>\n",
              "      <td>D0</td>\n",
              "    </tr>\n",
              "    <tr>\n",
              "      <th>1</th>\n",
              "      <td>A1</td>\n",
              "      <td>B1</td>\n",
              "      <td>C1</td>\n",
              "      <td>D1</td>\n",
              "    </tr>\n",
              "    <tr>\n",
              "      <th>2</th>\n",
              "      <td>A2</td>\n",
              "      <td>B2</td>\n",
              "      <td>C2</td>\n",
              "      <td>D2</td>\n",
              "    </tr>\n",
              "    <tr>\n",
              "      <th>3</th>\n",
              "      <td>A3</td>\n",
              "      <td>B3</td>\n",
              "      <td>C3</td>\n",
              "      <td>D3</td>\n",
              "    </tr>\n",
              "  </tbody>\n",
              "</table>\n",
              "</div>"
            ],
            "text/plain": [
              "    A   B   C   D\n",
              "0  A0  B0  C0  D0\n",
              "1  A1  B1  C1  D1\n",
              "2  A2  B2  C2  D2\n",
              "3  A3  B3  C3  D3"
            ]
          },
          "metadata": {},
          "execution_count": 24
        }
      ]
    },
    {
      "cell_type": "code",
      "metadata": {
        "colab": {
          "base_uri": "https://localhost:8080/",
          "height": 175
        },
        "id": "5q8YHk8SvEjB",
        "outputId": "acaf4bbe-be09-4ba2-d283-942ec12718f0"
      },
      "source": [
        "df2 = pd.DataFrame(\n",
        "    {\n",
        "        \"A\": [\"A4\", \"A5\", \"A6\", \"A7\"],\n",
        "        \"B\": [\"B4\", \"B5\", \"B6\", \"B7\"],\n",
        "        \"C\": [\"C4\", \"C5\", \"C6\", \"C7\"],\n",
        "        \"D\": [\"D4\", \"D5\", \"D6\", \"D7\"],\n",
        "    },\n",
        "    index=[0, 1, 2, 3],\n",
        "  )\n",
        "df2"
      ],
      "execution_count": null,
      "outputs": [
        {
          "output_type": "execute_result",
          "data": {
            "text/html": [
              "<div>\n",
              "<style scoped>\n",
              "    .dataframe tbody tr th:only-of-type {\n",
              "        vertical-align: middle;\n",
              "    }\n",
              "\n",
              "    .dataframe tbody tr th {\n",
              "        vertical-align: top;\n",
              "    }\n",
              "\n",
              "    .dataframe thead th {\n",
              "        text-align: right;\n",
              "    }\n",
              "</style>\n",
              "<table border=\"1\" class=\"dataframe\">\n",
              "  <thead>\n",
              "    <tr style=\"text-align: right;\">\n",
              "      <th></th>\n",
              "      <th>A</th>\n",
              "      <th>B</th>\n",
              "      <th>C</th>\n",
              "      <th>D</th>\n",
              "    </tr>\n",
              "  </thead>\n",
              "  <tbody>\n",
              "    <tr>\n",
              "      <th>0</th>\n",
              "      <td>A4</td>\n",
              "      <td>B4</td>\n",
              "      <td>C4</td>\n",
              "      <td>D4</td>\n",
              "    </tr>\n",
              "    <tr>\n",
              "      <th>1</th>\n",
              "      <td>A5</td>\n",
              "      <td>B5</td>\n",
              "      <td>C5</td>\n",
              "      <td>D5</td>\n",
              "    </tr>\n",
              "    <tr>\n",
              "      <th>2</th>\n",
              "      <td>A6</td>\n",
              "      <td>B6</td>\n",
              "      <td>C6</td>\n",
              "      <td>D6</td>\n",
              "    </tr>\n",
              "    <tr>\n",
              "      <th>3</th>\n",
              "      <td>A7</td>\n",
              "      <td>B7</td>\n",
              "      <td>C7</td>\n",
              "      <td>D7</td>\n",
              "    </tr>\n",
              "  </tbody>\n",
              "</table>\n",
              "</div>"
            ],
            "text/plain": [
              "    A   B   C   D\n",
              "0  A4  B4  C4  D4\n",
              "1  A5  B5  C5  D5\n",
              "2  A6  B6  C6  D6\n",
              "3  A7  B7  C7  D7"
            ]
          },
          "metadata": {},
          "execution_count": 25
        }
      ]
    },
    {
      "cell_type": "code",
      "metadata": {
        "colab": {
          "base_uri": "https://localhost:8080/",
          "height": 175
        },
        "id": "l1o9tiIlvGTF",
        "outputId": "f01c4164-17ff-4350-f637-242acf73d154"
      },
      "source": [
        "df3 = pd.DataFrame(\n",
        "     {\n",
        "         \"A\": [\"A8\", \"A9\", \"A10\", \"A11\"],\n",
        "         \"B\": [\"B8\", \"B9\", \"B10\", \"B11\"],\n",
        "         \"C\": [\"C8\", \"C9\", \"C10\", \"C11\"],\n",
        "         \"D\": [\"D8\", \"D9\", \"D10\", \"D11\"],\n",
        "     },\n",
        "     index=[0, 1, 2, 3],\n",
        " )\n",
        "df3"
      ],
      "execution_count": null,
      "outputs": [
        {
          "output_type": "execute_result",
          "data": {
            "text/html": [
              "<div>\n",
              "<style scoped>\n",
              "    .dataframe tbody tr th:only-of-type {\n",
              "        vertical-align: middle;\n",
              "    }\n",
              "\n",
              "    .dataframe tbody tr th {\n",
              "        vertical-align: top;\n",
              "    }\n",
              "\n",
              "    .dataframe thead th {\n",
              "        text-align: right;\n",
              "    }\n",
              "</style>\n",
              "<table border=\"1\" class=\"dataframe\">\n",
              "  <thead>\n",
              "    <tr style=\"text-align: right;\">\n",
              "      <th></th>\n",
              "      <th>A</th>\n",
              "      <th>B</th>\n",
              "      <th>C</th>\n",
              "      <th>D</th>\n",
              "    </tr>\n",
              "  </thead>\n",
              "  <tbody>\n",
              "    <tr>\n",
              "      <th>0</th>\n",
              "      <td>A8</td>\n",
              "      <td>B8</td>\n",
              "      <td>C8</td>\n",
              "      <td>D8</td>\n",
              "    </tr>\n",
              "    <tr>\n",
              "      <th>1</th>\n",
              "      <td>A9</td>\n",
              "      <td>B9</td>\n",
              "      <td>C9</td>\n",
              "      <td>D9</td>\n",
              "    </tr>\n",
              "    <tr>\n",
              "      <th>2</th>\n",
              "      <td>A10</td>\n",
              "      <td>B10</td>\n",
              "      <td>C10</td>\n",
              "      <td>D10</td>\n",
              "    </tr>\n",
              "    <tr>\n",
              "      <th>3</th>\n",
              "      <td>A11</td>\n",
              "      <td>B11</td>\n",
              "      <td>C11</td>\n",
              "      <td>D11</td>\n",
              "    </tr>\n",
              "  </tbody>\n",
              "</table>\n",
              "</div>"
            ],
            "text/plain": [
              "     A    B    C    D\n",
              "0   A8   B8   C8   D8\n",
              "1   A9   B9   C9   D9\n",
              "2  A10  B10  C10  D10\n",
              "3  A11  B11  C11  D11"
            ]
          },
          "metadata": {},
          "execution_count": 26
        }
      ]
    },
    {
      "cell_type": "code",
      "metadata": {
        "id": "Q7Tb9mj3vKz3"
      },
      "source": [
        "frames = [df1, df2, df3]\n",
        "\n",
        "result = pd.concat(frames)\n"
      ],
      "execution_count": null,
      "outputs": []
    },
    {
      "cell_type": "code",
      "metadata": {
        "colab": {
          "base_uri": "https://localhost:8080/",
          "height": 426
        },
        "id": "fuwZwSzrvNQf",
        "outputId": "03245592-42a4-45a6-8869-f9d30d0dc796"
      },
      "source": [
        "result"
      ],
      "execution_count": null,
      "outputs": [
        {
          "output_type": "execute_result",
          "data": {
            "text/html": [
              "<div>\n",
              "<style scoped>\n",
              "    .dataframe tbody tr th:only-of-type {\n",
              "        vertical-align: middle;\n",
              "    }\n",
              "\n",
              "    .dataframe tbody tr th {\n",
              "        vertical-align: top;\n",
              "    }\n",
              "\n",
              "    .dataframe thead th {\n",
              "        text-align: right;\n",
              "    }\n",
              "</style>\n",
              "<table border=\"1\" class=\"dataframe\">\n",
              "  <thead>\n",
              "    <tr style=\"text-align: right;\">\n",
              "      <th></th>\n",
              "      <th>A</th>\n",
              "      <th>B</th>\n",
              "      <th>C</th>\n",
              "      <th>D</th>\n",
              "    </tr>\n",
              "  </thead>\n",
              "  <tbody>\n",
              "    <tr>\n",
              "      <th>0</th>\n",
              "      <td>A0</td>\n",
              "      <td>B0</td>\n",
              "      <td>C0</td>\n",
              "      <td>D0</td>\n",
              "    </tr>\n",
              "    <tr>\n",
              "      <th>1</th>\n",
              "      <td>A1</td>\n",
              "      <td>B1</td>\n",
              "      <td>C1</td>\n",
              "      <td>D1</td>\n",
              "    </tr>\n",
              "    <tr>\n",
              "      <th>2</th>\n",
              "      <td>A2</td>\n",
              "      <td>B2</td>\n",
              "      <td>C2</td>\n",
              "      <td>D2</td>\n",
              "    </tr>\n",
              "    <tr>\n",
              "      <th>3</th>\n",
              "      <td>A3</td>\n",
              "      <td>B3</td>\n",
              "      <td>C3</td>\n",
              "      <td>D3</td>\n",
              "    </tr>\n",
              "    <tr>\n",
              "      <th>0</th>\n",
              "      <td>A4</td>\n",
              "      <td>B4</td>\n",
              "      <td>C4</td>\n",
              "      <td>D4</td>\n",
              "    </tr>\n",
              "    <tr>\n",
              "      <th>1</th>\n",
              "      <td>A5</td>\n",
              "      <td>B5</td>\n",
              "      <td>C5</td>\n",
              "      <td>D5</td>\n",
              "    </tr>\n",
              "    <tr>\n",
              "      <th>2</th>\n",
              "      <td>A6</td>\n",
              "      <td>B6</td>\n",
              "      <td>C6</td>\n",
              "      <td>D6</td>\n",
              "    </tr>\n",
              "    <tr>\n",
              "      <th>3</th>\n",
              "      <td>A7</td>\n",
              "      <td>B7</td>\n",
              "      <td>C7</td>\n",
              "      <td>D7</td>\n",
              "    </tr>\n",
              "    <tr>\n",
              "      <th>0</th>\n",
              "      <td>A8</td>\n",
              "      <td>B8</td>\n",
              "      <td>C8</td>\n",
              "      <td>D8</td>\n",
              "    </tr>\n",
              "    <tr>\n",
              "      <th>1</th>\n",
              "      <td>A9</td>\n",
              "      <td>B9</td>\n",
              "      <td>C9</td>\n",
              "      <td>D9</td>\n",
              "    </tr>\n",
              "    <tr>\n",
              "      <th>2</th>\n",
              "      <td>A10</td>\n",
              "      <td>B10</td>\n",
              "      <td>C10</td>\n",
              "      <td>D10</td>\n",
              "    </tr>\n",
              "    <tr>\n",
              "      <th>3</th>\n",
              "      <td>A11</td>\n",
              "      <td>B11</td>\n",
              "      <td>C11</td>\n",
              "      <td>D11</td>\n",
              "    </tr>\n",
              "  </tbody>\n",
              "</table>\n",
              "</div>"
            ],
            "text/plain": [
              "     A    B    C    D\n",
              "0   A0   B0   C0   D0\n",
              "1   A1   B1   C1   D1\n",
              "2   A2   B2   C2   D2\n",
              "3   A3   B3   C3   D3\n",
              "0   A4   B4   C4   D4\n",
              "1   A5   B5   C5   D5\n",
              "2   A6   B6   C6   D6\n",
              "3   A7   B7   C7   D7\n",
              "0   A8   B8   C8   D8\n",
              "1   A9   B9   C9   D9\n",
              "2  A10  B10  C10  D10\n",
              "3  A11  B11  C11  D11"
            ]
          },
          "metadata": {},
          "execution_count": 28
        }
      ]
    },
    {
      "cell_type": "code",
      "metadata": {
        "id": "6mJRdRgOufyW"
      },
      "source": [
        "result = result.reset_index(drop=True)"
      ],
      "execution_count": null,
      "outputs": []
    },
    {
      "cell_type": "code",
      "metadata": {
        "colab": {
          "base_uri": "https://localhost:8080/",
          "height": 426
        },
        "id": "7aRR5Ficpjg8",
        "outputId": "4b7ae2e7-08ab-4e37-d661-3164f5ac9488"
      },
      "source": [
        "result"
      ],
      "execution_count": null,
      "outputs": [
        {
          "output_type": "execute_result",
          "data": {
            "text/html": [
              "<div>\n",
              "<style scoped>\n",
              "    .dataframe tbody tr th:only-of-type {\n",
              "        vertical-align: middle;\n",
              "    }\n",
              "\n",
              "    .dataframe tbody tr th {\n",
              "        vertical-align: top;\n",
              "    }\n",
              "\n",
              "    .dataframe thead th {\n",
              "        text-align: right;\n",
              "    }\n",
              "</style>\n",
              "<table border=\"1\" class=\"dataframe\">\n",
              "  <thead>\n",
              "    <tr style=\"text-align: right;\">\n",
              "      <th></th>\n",
              "      <th>A</th>\n",
              "      <th>B</th>\n",
              "      <th>C</th>\n",
              "      <th>D</th>\n",
              "    </tr>\n",
              "  </thead>\n",
              "  <tbody>\n",
              "    <tr>\n",
              "      <th>0</th>\n",
              "      <td>A0</td>\n",
              "      <td>B0</td>\n",
              "      <td>C0</td>\n",
              "      <td>D0</td>\n",
              "    </tr>\n",
              "    <tr>\n",
              "      <th>1</th>\n",
              "      <td>A1</td>\n",
              "      <td>B1</td>\n",
              "      <td>C1</td>\n",
              "      <td>D1</td>\n",
              "    </tr>\n",
              "    <tr>\n",
              "      <th>2</th>\n",
              "      <td>A2</td>\n",
              "      <td>B2</td>\n",
              "      <td>C2</td>\n",
              "      <td>D2</td>\n",
              "    </tr>\n",
              "    <tr>\n",
              "      <th>3</th>\n",
              "      <td>A3</td>\n",
              "      <td>B3</td>\n",
              "      <td>C3</td>\n",
              "      <td>D3</td>\n",
              "    </tr>\n",
              "    <tr>\n",
              "      <th>4</th>\n",
              "      <td>A4</td>\n",
              "      <td>B4</td>\n",
              "      <td>C4</td>\n",
              "      <td>D4</td>\n",
              "    </tr>\n",
              "    <tr>\n",
              "      <th>5</th>\n",
              "      <td>A5</td>\n",
              "      <td>B5</td>\n",
              "      <td>C5</td>\n",
              "      <td>D5</td>\n",
              "    </tr>\n",
              "    <tr>\n",
              "      <th>6</th>\n",
              "      <td>A6</td>\n",
              "      <td>B6</td>\n",
              "      <td>C6</td>\n",
              "      <td>D6</td>\n",
              "    </tr>\n",
              "    <tr>\n",
              "      <th>7</th>\n",
              "      <td>A7</td>\n",
              "      <td>B7</td>\n",
              "      <td>C7</td>\n",
              "      <td>D7</td>\n",
              "    </tr>\n",
              "    <tr>\n",
              "      <th>8</th>\n",
              "      <td>A8</td>\n",
              "      <td>B8</td>\n",
              "      <td>C8</td>\n",
              "      <td>D8</td>\n",
              "    </tr>\n",
              "    <tr>\n",
              "      <th>9</th>\n",
              "      <td>A9</td>\n",
              "      <td>B9</td>\n",
              "      <td>C9</td>\n",
              "      <td>D9</td>\n",
              "    </tr>\n",
              "    <tr>\n",
              "      <th>10</th>\n",
              "      <td>A10</td>\n",
              "      <td>B10</td>\n",
              "      <td>C10</td>\n",
              "      <td>D10</td>\n",
              "    </tr>\n",
              "    <tr>\n",
              "      <th>11</th>\n",
              "      <td>A11</td>\n",
              "      <td>B11</td>\n",
              "      <td>C11</td>\n",
              "      <td>D11</td>\n",
              "    </tr>\n",
              "  </tbody>\n",
              "</table>\n",
              "</div>"
            ],
            "text/plain": [
              "      A    B    C    D\n",
              "0    A0   B0   C0   D0\n",
              "1    A1   B1   C1   D1\n",
              "2    A2   B2   C2   D2\n",
              "3    A3   B3   C3   D3\n",
              "4    A4   B4   C4   D4\n",
              "5    A5   B5   C5   D5\n",
              "6    A6   B6   C6   D6\n",
              "7    A7   B7   C7   D7\n",
              "8    A8   B8   C8   D8\n",
              "9    A9   B9   C9   D9\n",
              "10  A10  B10  C10  D10\n",
              "11  A11  B11  C11  D11"
            ]
          },
          "metadata": {},
          "execution_count": 30
        }
      ]
    },
    {
      "cell_type": "markdown",
      "metadata": {
        "id": "fzLnv4Pw-BL4"
      },
      "source": [
        "<h1>Uso de append()</h1>"
      ]
    },
    {
      "cell_type": "markdown",
      "metadata": {
        "id": "CbBFnYIgumpk"
      },
      "source": [
        "Ahora veamos el uso de append. Esto es otro ejemplo del operador UNION del Algebra relacional"
      ]
    },
    {
      "cell_type": "code",
      "metadata": {
        "colab": {
          "base_uri": "https://localhost:8080/",
          "height": 112
        },
        "id": "47yieQCSuqof",
        "outputId": "f57eee08-479c-4225-bbd6-693a175ab8a4"
      },
      "source": [
        "df = pd.DataFrame([[1, 2], [3, 4]], columns=list('AB'))\n",
        "df\n"
      ],
      "execution_count": null,
      "outputs": [
        {
          "output_type": "execute_result",
          "data": {
            "text/html": [
              "<div>\n",
              "<style scoped>\n",
              "    .dataframe tbody tr th:only-of-type {\n",
              "        vertical-align: middle;\n",
              "    }\n",
              "\n",
              "    .dataframe tbody tr th {\n",
              "        vertical-align: top;\n",
              "    }\n",
              "\n",
              "    .dataframe thead th {\n",
              "        text-align: right;\n",
              "    }\n",
              "</style>\n",
              "<table border=\"1\" class=\"dataframe\">\n",
              "  <thead>\n",
              "    <tr style=\"text-align: right;\">\n",
              "      <th></th>\n",
              "      <th>A</th>\n",
              "      <th>B</th>\n",
              "    </tr>\n",
              "  </thead>\n",
              "  <tbody>\n",
              "    <tr>\n",
              "      <th>0</th>\n",
              "      <td>1</td>\n",
              "      <td>2</td>\n",
              "    </tr>\n",
              "    <tr>\n",
              "      <th>1</th>\n",
              "      <td>3</td>\n",
              "      <td>4</td>\n",
              "    </tr>\n",
              "  </tbody>\n",
              "</table>\n",
              "</div>"
            ],
            "text/plain": [
              "   A  B\n",
              "0  1  2\n",
              "1  3  4"
            ]
          },
          "metadata": {},
          "execution_count": 31
        }
      ]
    },
    {
      "cell_type": "code",
      "metadata": {
        "colab": {
          "base_uri": "https://localhost:8080/",
          "height": 112
        },
        "id": "xo1QdUh-uttW",
        "outputId": "b9e66317-5ba6-4746-da6c-e020e0736071"
      },
      "source": [
        "df2 = pd.DataFrame([[5, 6], [7, 8]], columns=['A','B'])\n",
        "df2"
      ],
      "execution_count": null,
      "outputs": [
        {
          "output_type": "execute_result",
          "data": {
            "text/html": [
              "<div>\n",
              "<style scoped>\n",
              "    .dataframe tbody tr th:only-of-type {\n",
              "        vertical-align: middle;\n",
              "    }\n",
              "\n",
              "    .dataframe tbody tr th {\n",
              "        vertical-align: top;\n",
              "    }\n",
              "\n",
              "    .dataframe thead th {\n",
              "        text-align: right;\n",
              "    }\n",
              "</style>\n",
              "<table border=\"1\" class=\"dataframe\">\n",
              "  <thead>\n",
              "    <tr style=\"text-align: right;\">\n",
              "      <th></th>\n",
              "      <th>A</th>\n",
              "      <th>B</th>\n",
              "    </tr>\n",
              "  </thead>\n",
              "  <tbody>\n",
              "    <tr>\n",
              "      <th>0</th>\n",
              "      <td>5</td>\n",
              "      <td>6</td>\n",
              "    </tr>\n",
              "    <tr>\n",
              "      <th>1</th>\n",
              "      <td>7</td>\n",
              "      <td>8</td>\n",
              "    </tr>\n",
              "  </tbody>\n",
              "</table>\n",
              "</div>"
            ],
            "text/plain": [
              "   A  B\n",
              "0  5  6\n",
              "1  7  8"
            ]
          },
          "metadata": {},
          "execution_count": 32
        }
      ]
    },
    {
      "cell_type": "code",
      "metadata": {
        "colab": {
          "base_uri": "https://localhost:8080/",
          "height": 175
        },
        "id": "qARNQ3kcuvkt",
        "outputId": "eb7edac2-3b9b-4792-a271-356681a4da6b"
      },
      "source": [
        "df.append(df2)\n",
        "\n"
      ],
      "execution_count": null,
      "outputs": [
        {
          "output_type": "execute_result",
          "data": {
            "text/html": [
              "<div>\n",
              "<style scoped>\n",
              "    .dataframe tbody tr th:only-of-type {\n",
              "        vertical-align: middle;\n",
              "    }\n",
              "\n",
              "    .dataframe tbody tr th {\n",
              "        vertical-align: top;\n",
              "    }\n",
              "\n",
              "    .dataframe thead th {\n",
              "        text-align: right;\n",
              "    }\n",
              "</style>\n",
              "<table border=\"1\" class=\"dataframe\">\n",
              "  <thead>\n",
              "    <tr style=\"text-align: right;\">\n",
              "      <th></th>\n",
              "      <th>A</th>\n",
              "      <th>B</th>\n",
              "    </tr>\n",
              "  </thead>\n",
              "  <tbody>\n",
              "    <tr>\n",
              "      <th>0</th>\n",
              "      <td>1</td>\n",
              "      <td>2</td>\n",
              "    </tr>\n",
              "    <tr>\n",
              "      <th>1</th>\n",
              "      <td>3</td>\n",
              "      <td>4</td>\n",
              "    </tr>\n",
              "    <tr>\n",
              "      <th>0</th>\n",
              "      <td>5</td>\n",
              "      <td>6</td>\n",
              "    </tr>\n",
              "    <tr>\n",
              "      <th>1</th>\n",
              "      <td>7</td>\n",
              "      <td>8</td>\n",
              "    </tr>\n",
              "  </tbody>\n",
              "</table>\n",
              "</div>"
            ],
            "text/plain": [
              "   A  B\n",
              "0  1  2\n",
              "1  3  4\n",
              "0  5  6\n",
              "1  7  8"
            ]
          },
          "metadata": {},
          "execution_count": 68
        }
      ]
    },
    {
      "cell_type": "code",
      "metadata": {
        "colab": {
          "base_uri": "https://localhost:8080/",
          "height": 175
        },
        "id": "Eug07P8puyhO",
        "outputId": "0524e743-27e4-4889-ebd2-586de8bb7663"
      },
      "source": [
        "df.append(df2, ignore_index=True)"
      ],
      "execution_count": null,
      "outputs": [
        {
          "output_type": "execute_result",
          "data": {
            "text/html": [
              "<div>\n",
              "<style scoped>\n",
              "    .dataframe tbody tr th:only-of-type {\n",
              "        vertical-align: middle;\n",
              "    }\n",
              "\n",
              "    .dataframe tbody tr th {\n",
              "        vertical-align: top;\n",
              "    }\n",
              "\n",
              "    .dataframe thead th {\n",
              "        text-align: right;\n",
              "    }\n",
              "</style>\n",
              "<table border=\"1\" class=\"dataframe\">\n",
              "  <thead>\n",
              "    <tr style=\"text-align: right;\">\n",
              "      <th></th>\n",
              "      <th>A</th>\n",
              "      <th>B</th>\n",
              "    </tr>\n",
              "  </thead>\n",
              "  <tbody>\n",
              "    <tr>\n",
              "      <th>0</th>\n",
              "      <td>1</td>\n",
              "      <td>2</td>\n",
              "    </tr>\n",
              "    <tr>\n",
              "      <th>1</th>\n",
              "      <td>3</td>\n",
              "      <td>4</td>\n",
              "    </tr>\n",
              "    <tr>\n",
              "      <th>2</th>\n",
              "      <td>5</td>\n",
              "      <td>6</td>\n",
              "    </tr>\n",
              "    <tr>\n",
              "      <th>3</th>\n",
              "      <td>7</td>\n",
              "      <td>8</td>\n",
              "    </tr>\n",
              "  </tbody>\n",
              "</table>\n",
              "</div>"
            ],
            "text/plain": [
              "   A  B\n",
              "0  1  2\n",
              "1  3  4\n",
              "2  5  6\n",
              "3  7  8"
            ]
          },
          "metadata": {},
          "execution_count": 69
        }
      ]
    },
    {
      "cell_type": "markdown",
      "metadata": {
        "id": "uEoth_Ln-HH7"
      },
      "source": [
        "<h1>Uso de merge()</h1>\n",
        "\n"
      ]
    },
    {
      "cell_type": "markdown",
      "metadata": {
        "id": "qwDu63YUxQ1C"
      },
      "source": [
        "Ahora veamos como funciona la funcióón merge en pandas\n"
      ]
    },
    {
      "cell_type": "code",
      "metadata": {
        "id": "QHkCY-8fxhQ5"
      },
      "source": [
        "df1 = pd.DataFrame({'lkey': ['foo', 'bar', 'baz', 'foo'],\n",
        "\n",
        "                    'value': [1, 2, 3, 5]})\n",
        "df2 = pd.DataFrame({'rkey': ['foo', 'bar', 'baz', 'foo'],\n",
        "\n",
        "                    'value': [5, 6, 7, 8]})"
      ],
      "execution_count": null,
      "outputs": []
    },
    {
      "cell_type": "code",
      "metadata": {
        "colab": {
          "base_uri": "https://localhost:8080/",
          "height": 175
        },
        "id": "3cKDGmWRxs0X",
        "outputId": "d22c8a92-c237-4ded-8a1f-8720b1345c61"
      },
      "source": [
        "df1"
      ],
      "execution_count": null,
      "outputs": [
        {
          "output_type": "execute_result",
          "data": {
            "text/html": [
              "<div>\n",
              "<style scoped>\n",
              "    .dataframe tbody tr th:only-of-type {\n",
              "        vertical-align: middle;\n",
              "    }\n",
              "\n",
              "    .dataframe tbody tr th {\n",
              "        vertical-align: top;\n",
              "    }\n",
              "\n",
              "    .dataframe thead th {\n",
              "        text-align: right;\n",
              "    }\n",
              "</style>\n",
              "<table border=\"1\" class=\"dataframe\">\n",
              "  <thead>\n",
              "    <tr style=\"text-align: right;\">\n",
              "      <th></th>\n",
              "      <th>lkey</th>\n",
              "      <th>value</th>\n",
              "    </tr>\n",
              "  </thead>\n",
              "  <tbody>\n",
              "    <tr>\n",
              "      <th>0</th>\n",
              "      <td>foo</td>\n",
              "      <td>1</td>\n",
              "    </tr>\n",
              "    <tr>\n",
              "      <th>1</th>\n",
              "      <td>bar</td>\n",
              "      <td>2</td>\n",
              "    </tr>\n",
              "    <tr>\n",
              "      <th>2</th>\n",
              "      <td>baz</td>\n",
              "      <td>3</td>\n",
              "    </tr>\n",
              "    <tr>\n",
              "      <th>3</th>\n",
              "      <td>foo</td>\n",
              "      <td>5</td>\n",
              "    </tr>\n",
              "  </tbody>\n",
              "</table>\n",
              "</div>"
            ],
            "text/plain": [
              "  lkey  value\n",
              "0  foo      1\n",
              "1  bar      2\n",
              "2  baz      3\n",
              "3  foo      5"
            ]
          },
          "metadata": {},
          "execution_count": 35
        }
      ]
    },
    {
      "cell_type": "code",
      "metadata": {
        "colab": {
          "base_uri": "https://localhost:8080/",
          "height": 175
        },
        "id": "eEPcSwVVxtsz",
        "outputId": "afcf0cc3-8a99-4294-98c7-bfd9b813e9e0"
      },
      "source": [
        "df2"
      ],
      "execution_count": null,
      "outputs": [
        {
          "output_type": "execute_result",
          "data": {
            "text/html": [
              "<div>\n",
              "<style scoped>\n",
              "    .dataframe tbody tr th:only-of-type {\n",
              "        vertical-align: middle;\n",
              "    }\n",
              "\n",
              "    .dataframe tbody tr th {\n",
              "        vertical-align: top;\n",
              "    }\n",
              "\n",
              "    .dataframe thead th {\n",
              "        text-align: right;\n",
              "    }\n",
              "</style>\n",
              "<table border=\"1\" class=\"dataframe\">\n",
              "  <thead>\n",
              "    <tr style=\"text-align: right;\">\n",
              "      <th></th>\n",
              "      <th>rkey</th>\n",
              "      <th>value</th>\n",
              "    </tr>\n",
              "  </thead>\n",
              "  <tbody>\n",
              "    <tr>\n",
              "      <th>0</th>\n",
              "      <td>foo</td>\n",
              "      <td>5</td>\n",
              "    </tr>\n",
              "    <tr>\n",
              "      <th>1</th>\n",
              "      <td>bar</td>\n",
              "      <td>6</td>\n",
              "    </tr>\n",
              "    <tr>\n",
              "      <th>2</th>\n",
              "      <td>baz</td>\n",
              "      <td>7</td>\n",
              "    </tr>\n",
              "    <tr>\n",
              "      <th>3</th>\n",
              "      <td>foo</td>\n",
              "      <td>8</td>\n",
              "    </tr>\n",
              "  </tbody>\n",
              "</table>\n",
              "</div>"
            ],
            "text/plain": [
              "  rkey  value\n",
              "0  foo      5\n",
              "1  bar      6\n",
              "2  baz      7\n",
              "3  foo      8"
            ]
          },
          "metadata": {},
          "execution_count": 36
        }
      ]
    },
    {
      "cell_type": "markdown",
      "metadata": {
        "id": "sIlHFN5fx1tK"
      },
      "source": [
        "Apliquemos la función merge al DataFrame 1 con el DataFrame 2 utilizando como llaves las columans lkey y rkey"
      ]
    },
    {
      "cell_type": "code",
      "metadata": {
        "colab": {
          "base_uri": "https://localhost:8080/",
          "height": 237
        },
        "id": "Sf0jAY7Ox0b4",
        "outputId": "2e1e88d8-ce11-4652-e91c-2861c27a98e5"
      },
      "source": [
        "df1.merge(df2, left_on='lkey', right_on='rkey')"
      ],
      "execution_count": null,
      "outputs": [
        {
          "output_type": "execute_result",
          "data": {
            "text/html": [
              "<div>\n",
              "<style scoped>\n",
              "    .dataframe tbody tr th:only-of-type {\n",
              "        vertical-align: middle;\n",
              "    }\n",
              "\n",
              "    .dataframe tbody tr th {\n",
              "        vertical-align: top;\n",
              "    }\n",
              "\n",
              "    .dataframe thead th {\n",
              "        text-align: right;\n",
              "    }\n",
              "</style>\n",
              "<table border=\"1\" class=\"dataframe\">\n",
              "  <thead>\n",
              "    <tr style=\"text-align: right;\">\n",
              "      <th></th>\n",
              "      <th>lkey</th>\n",
              "      <th>value_x</th>\n",
              "      <th>rkey</th>\n",
              "      <th>value_y</th>\n",
              "    </tr>\n",
              "  </thead>\n",
              "  <tbody>\n",
              "    <tr>\n",
              "      <th>0</th>\n",
              "      <td>foo</td>\n",
              "      <td>1</td>\n",
              "      <td>foo</td>\n",
              "      <td>5</td>\n",
              "    </tr>\n",
              "    <tr>\n",
              "      <th>1</th>\n",
              "      <td>foo</td>\n",
              "      <td>1</td>\n",
              "      <td>foo</td>\n",
              "      <td>8</td>\n",
              "    </tr>\n",
              "    <tr>\n",
              "      <th>2</th>\n",
              "      <td>foo</td>\n",
              "      <td>5</td>\n",
              "      <td>foo</td>\n",
              "      <td>5</td>\n",
              "    </tr>\n",
              "    <tr>\n",
              "      <th>3</th>\n",
              "      <td>foo</td>\n",
              "      <td>5</td>\n",
              "      <td>foo</td>\n",
              "      <td>8</td>\n",
              "    </tr>\n",
              "    <tr>\n",
              "      <th>4</th>\n",
              "      <td>bar</td>\n",
              "      <td>2</td>\n",
              "      <td>bar</td>\n",
              "      <td>6</td>\n",
              "    </tr>\n",
              "    <tr>\n",
              "      <th>5</th>\n",
              "      <td>baz</td>\n",
              "      <td>3</td>\n",
              "      <td>baz</td>\n",
              "      <td>7</td>\n",
              "    </tr>\n",
              "  </tbody>\n",
              "</table>\n",
              "</div>"
            ],
            "text/plain": [
              "  lkey  value_x rkey  value_y\n",
              "0  foo        1  foo        5\n",
              "1  foo        1  foo        8\n",
              "2  foo        5  foo        5\n",
              "3  foo        5  foo        8\n",
              "4  bar        2  bar        6\n",
              "5  baz        3  baz        7"
            ]
          },
          "metadata": {},
          "execution_count": 37
        }
      ]
    },
    {
      "cell_type": "markdown",
      "metadata": {
        "id": "mPuLfkdFzNnn"
      },
      "source": [
        "Veamos ahora un ejemplo más útil\n"
      ]
    },
    {
      "cell_type": "code",
      "metadata": {
        "id": "HxDvS9z-zRmg"
      },
      "source": [
        "df1 = pd.DataFrame({'lkey': ['uno', 'dos', 'tres', 'cuatro'], 'value': [1, 2, 3, 5]})                  \n",
        "\n",
        "df2 = pd.DataFrame({'rkey': ['tres', 'uno', 'dos', 'cuatro'], 'value': [5, 6, 7, 8]})\n"
      ],
      "execution_count": null,
      "outputs": []
    },
    {
      "cell_type": "code",
      "metadata": {
        "colab": {
          "base_uri": "https://localhost:8080/",
          "height": 175
        },
        "id": "yUWM_ACx0DN2",
        "outputId": "7a068f21-3edc-407a-cbbd-20deaa1c7b1d"
      },
      "source": [
        "df1"
      ],
      "execution_count": null,
      "outputs": [
        {
          "output_type": "execute_result",
          "data": {
            "text/html": [
              "<div>\n",
              "<style scoped>\n",
              "    .dataframe tbody tr th:only-of-type {\n",
              "        vertical-align: middle;\n",
              "    }\n",
              "\n",
              "    .dataframe tbody tr th {\n",
              "        vertical-align: top;\n",
              "    }\n",
              "\n",
              "    .dataframe thead th {\n",
              "        text-align: right;\n",
              "    }\n",
              "</style>\n",
              "<table border=\"1\" class=\"dataframe\">\n",
              "  <thead>\n",
              "    <tr style=\"text-align: right;\">\n",
              "      <th></th>\n",
              "      <th>lkey</th>\n",
              "      <th>value</th>\n",
              "    </tr>\n",
              "  </thead>\n",
              "  <tbody>\n",
              "    <tr>\n",
              "      <th>0</th>\n",
              "      <td>uno</td>\n",
              "      <td>1</td>\n",
              "    </tr>\n",
              "    <tr>\n",
              "      <th>1</th>\n",
              "      <td>dos</td>\n",
              "      <td>2</td>\n",
              "    </tr>\n",
              "    <tr>\n",
              "      <th>2</th>\n",
              "      <td>tres</td>\n",
              "      <td>3</td>\n",
              "    </tr>\n",
              "    <tr>\n",
              "      <th>3</th>\n",
              "      <td>cuatro</td>\n",
              "      <td>5</td>\n",
              "    </tr>\n",
              "  </tbody>\n",
              "</table>\n",
              "</div>"
            ],
            "text/plain": [
              "     lkey  value\n",
              "0     uno      1\n",
              "1     dos      2\n",
              "2    tres      3\n",
              "3  cuatro      5"
            ]
          },
          "metadata": {},
          "execution_count": 74
        }
      ]
    },
    {
      "cell_type": "code",
      "metadata": {
        "colab": {
          "base_uri": "https://localhost:8080/",
          "height": 175
        },
        "id": "06sh-Oj80EeS",
        "outputId": "a92f16ab-90b3-4630-ba43-330c1a9ed4a5"
      },
      "source": [
        "df2"
      ],
      "execution_count": null,
      "outputs": [
        {
          "output_type": "execute_result",
          "data": {
            "text/html": [
              "<div>\n",
              "<style scoped>\n",
              "    .dataframe tbody tr th:only-of-type {\n",
              "        vertical-align: middle;\n",
              "    }\n",
              "\n",
              "    .dataframe tbody tr th {\n",
              "        vertical-align: top;\n",
              "    }\n",
              "\n",
              "    .dataframe thead th {\n",
              "        text-align: right;\n",
              "    }\n",
              "</style>\n",
              "<table border=\"1\" class=\"dataframe\">\n",
              "  <thead>\n",
              "    <tr style=\"text-align: right;\">\n",
              "      <th></th>\n",
              "      <th>rkey</th>\n",
              "      <th>value</th>\n",
              "    </tr>\n",
              "  </thead>\n",
              "  <tbody>\n",
              "    <tr>\n",
              "      <th>0</th>\n",
              "      <td>tres</td>\n",
              "      <td>5</td>\n",
              "    </tr>\n",
              "    <tr>\n",
              "      <th>1</th>\n",
              "      <td>uno</td>\n",
              "      <td>6</td>\n",
              "    </tr>\n",
              "    <tr>\n",
              "      <th>2</th>\n",
              "      <td>dos</td>\n",
              "      <td>7</td>\n",
              "    </tr>\n",
              "    <tr>\n",
              "      <th>3</th>\n",
              "      <td>cuatro</td>\n",
              "      <td>8</td>\n",
              "    </tr>\n",
              "  </tbody>\n",
              "</table>\n",
              "</div>"
            ],
            "text/plain": [
              "     rkey  value\n",
              "0    tres      5\n",
              "1     uno      6\n",
              "2     dos      7\n",
              "3  cuatro      8"
            ]
          },
          "metadata": {},
          "execution_count": 75
        }
      ]
    },
    {
      "cell_type": "code",
      "metadata": {
        "colab": {
          "base_uri": "https://localhost:8080/",
          "height": 175
        },
        "id": "AUWIrb2E0Go8",
        "outputId": "0754ac42-896e-4b9d-d127-c3b5955dc1c5"
      },
      "source": [
        "df1.merge(df2, left_on='lkey', right_on='rkey')\n"
      ],
      "execution_count": null,
      "outputs": [
        {
          "output_type": "execute_result",
          "data": {
            "text/html": [
              "<div>\n",
              "<style scoped>\n",
              "    .dataframe tbody tr th:only-of-type {\n",
              "        vertical-align: middle;\n",
              "    }\n",
              "\n",
              "    .dataframe tbody tr th {\n",
              "        vertical-align: top;\n",
              "    }\n",
              "\n",
              "    .dataframe thead th {\n",
              "        text-align: right;\n",
              "    }\n",
              "</style>\n",
              "<table border=\"1\" class=\"dataframe\">\n",
              "  <thead>\n",
              "    <tr style=\"text-align: right;\">\n",
              "      <th></th>\n",
              "      <th>lkey</th>\n",
              "      <th>value_x</th>\n",
              "      <th>rkey</th>\n",
              "      <th>value_y</th>\n",
              "    </tr>\n",
              "  </thead>\n",
              "  <tbody>\n",
              "    <tr>\n",
              "      <th>0</th>\n",
              "      <td>uno</td>\n",
              "      <td>1</td>\n",
              "      <td>uno</td>\n",
              "      <td>6</td>\n",
              "    </tr>\n",
              "    <tr>\n",
              "      <th>1</th>\n",
              "      <td>dos</td>\n",
              "      <td>2</td>\n",
              "      <td>dos</td>\n",
              "      <td>7</td>\n",
              "    </tr>\n",
              "    <tr>\n",
              "      <th>2</th>\n",
              "      <td>tres</td>\n",
              "      <td>3</td>\n",
              "      <td>tres</td>\n",
              "      <td>5</td>\n",
              "    </tr>\n",
              "    <tr>\n",
              "      <th>3</th>\n",
              "      <td>cuatro</td>\n",
              "      <td>5</td>\n",
              "      <td>cuatro</td>\n",
              "      <td>8</td>\n",
              "    </tr>\n",
              "  </tbody>\n",
              "</table>\n",
              "</div>"
            ],
            "text/plain": [
              "     lkey  value_x    rkey  value_y\n",
              "0     uno        1     uno        6\n",
              "1     dos        2     dos        7\n",
              "2    tres        3    tres        5\n",
              "3  cuatro        5  cuatro        8"
            ]
          },
          "metadata": {},
          "execution_count": 76
        }
      ]
    },
    {
      "cell_type": "markdown",
      "metadata": {
        "id": "AgXy1mAT0f-2"
      },
      "source": [
        "Hay que notar que las columnas \"value\" han sido renombreadas con un sufijo. Esto es para evitar nombres de columnas duplicadas.\n",
        "\n"
      ]
    },
    {
      "cell_type": "markdown",
      "metadata": {
        "id": "UFiUvvOU02Sh"
      },
      "source": [
        "Si quisieramos pedirle a pandas que no renombrara las columnas con sufijos, esto generaría un error"
      ]
    },
    {
      "cell_type": "code",
      "metadata": {
        "colab": {
          "base_uri": "https://localhost:8080/",
          "height": 237
        },
        "id": "xDGkCCta0sls",
        "outputId": "fd6f5118-2a34-4d99-f20e-3b088d899391"
      },
      "source": [
        "df1.merge(df2, left_on='lkey', right_on='rkey', suffixes=('left', 'right'))"
      ],
      "execution_count": null,
      "outputs": [
        {
          "output_type": "execute_result",
          "data": {
            "text/html": [
              "<div>\n",
              "<style scoped>\n",
              "    .dataframe tbody tr th:only-of-type {\n",
              "        vertical-align: middle;\n",
              "    }\n",
              "\n",
              "    .dataframe tbody tr th {\n",
              "        vertical-align: top;\n",
              "    }\n",
              "\n",
              "    .dataframe thead th {\n",
              "        text-align: right;\n",
              "    }\n",
              "</style>\n",
              "<table border=\"1\" class=\"dataframe\">\n",
              "  <thead>\n",
              "    <tr style=\"text-align: right;\">\n",
              "      <th></th>\n",
              "      <th>lkey</th>\n",
              "      <th>valueleft</th>\n",
              "      <th>rkey</th>\n",
              "      <th>valueright</th>\n",
              "    </tr>\n",
              "  </thead>\n",
              "  <tbody>\n",
              "    <tr>\n",
              "      <th>0</th>\n",
              "      <td>foo</td>\n",
              "      <td>1</td>\n",
              "      <td>foo</td>\n",
              "      <td>5</td>\n",
              "    </tr>\n",
              "    <tr>\n",
              "      <th>1</th>\n",
              "      <td>foo</td>\n",
              "      <td>1</td>\n",
              "      <td>foo</td>\n",
              "      <td>8</td>\n",
              "    </tr>\n",
              "    <tr>\n",
              "      <th>2</th>\n",
              "      <td>foo</td>\n",
              "      <td>5</td>\n",
              "      <td>foo</td>\n",
              "      <td>5</td>\n",
              "    </tr>\n",
              "    <tr>\n",
              "      <th>3</th>\n",
              "      <td>foo</td>\n",
              "      <td>5</td>\n",
              "      <td>foo</td>\n",
              "      <td>8</td>\n",
              "    </tr>\n",
              "    <tr>\n",
              "      <th>4</th>\n",
              "      <td>bar</td>\n",
              "      <td>2</td>\n",
              "      <td>bar</td>\n",
              "      <td>6</td>\n",
              "    </tr>\n",
              "    <tr>\n",
              "      <th>5</th>\n",
              "      <td>baz</td>\n",
              "      <td>3</td>\n",
              "      <td>baz</td>\n",
              "      <td>7</td>\n",
              "    </tr>\n",
              "  </tbody>\n",
              "</table>\n",
              "</div>"
            ],
            "text/plain": [
              "  lkey  valueleft rkey  valueright\n",
              "0  foo          1  foo           5\n",
              "1  foo          1  foo           8\n",
              "2  foo          5  foo           5\n",
              "3  foo          5  foo           8\n",
              "4  bar          2  bar           6\n",
              "5  baz          3  baz           7"
            ]
          },
          "metadata": {},
          "execution_count": 38
        }
      ]
    },
    {
      "cell_type": "markdown",
      "metadata": {
        "id": "LbJzbptn1KnD"
      },
      "source": [
        "Ahora veamos un ejemplo de la función merge usada como la función JOIN del Algebra Relacional\n"
      ]
    },
    {
      "cell_type": "code",
      "metadata": {
        "id": "9zrQPOF11V2T"
      },
      "source": [
        "df1 = pd.DataFrame({'a': ['uno', 'dos'], 'b': [1, 2]})"
      ],
      "execution_count": null,
      "outputs": []
    },
    {
      "cell_type": "code",
      "metadata": {
        "id": "2esjC4ew1YyE"
      },
      "source": [
        "df2 = pd.DataFrame({'a': ['dos', 'tres'], 'c': [3, 4]})"
      ],
      "execution_count": null,
      "outputs": []
    },
    {
      "cell_type": "code",
      "metadata": {
        "colab": {
          "base_uri": "https://localhost:8080/",
          "height": 112
        },
        "id": "caxRjXTy1b6j",
        "outputId": "336c17fe-0992-4fd9-9b50-e50bfc747b9c"
      },
      "source": [
        "df1"
      ],
      "execution_count": null,
      "outputs": [
        {
          "output_type": "execute_result",
          "data": {
            "text/html": [
              "<div>\n",
              "<style scoped>\n",
              "    .dataframe tbody tr th:only-of-type {\n",
              "        vertical-align: middle;\n",
              "    }\n",
              "\n",
              "    .dataframe tbody tr th {\n",
              "        vertical-align: top;\n",
              "    }\n",
              "\n",
              "    .dataframe thead th {\n",
              "        text-align: right;\n",
              "    }\n",
              "</style>\n",
              "<table border=\"1\" class=\"dataframe\">\n",
              "  <thead>\n",
              "    <tr style=\"text-align: right;\">\n",
              "      <th></th>\n",
              "      <th>a</th>\n",
              "      <th>b</th>\n",
              "    </tr>\n",
              "  </thead>\n",
              "  <tbody>\n",
              "    <tr>\n",
              "      <th>0</th>\n",
              "      <td>uno</td>\n",
              "      <td>1</td>\n",
              "    </tr>\n",
              "    <tr>\n",
              "      <th>1</th>\n",
              "      <td>dos</td>\n",
              "      <td>2</td>\n",
              "    </tr>\n",
              "  </tbody>\n",
              "</table>\n",
              "</div>"
            ],
            "text/plain": [
              "     a  b\n",
              "0  uno  1\n",
              "1  dos  2"
            ]
          },
          "metadata": {},
          "execution_count": 81
        }
      ]
    },
    {
      "cell_type": "code",
      "metadata": {
        "colab": {
          "base_uri": "https://localhost:8080/",
          "height": 112
        },
        "id": "nGbVDR0p1c1A",
        "outputId": "c270d2c5-2335-48fc-da26-7c86f085dca6"
      },
      "source": [
        "df2"
      ],
      "execution_count": null,
      "outputs": [
        {
          "output_type": "execute_result",
          "data": {
            "text/html": [
              "<div>\n",
              "<style scoped>\n",
              "    .dataframe tbody tr th:only-of-type {\n",
              "        vertical-align: middle;\n",
              "    }\n",
              "\n",
              "    .dataframe tbody tr th {\n",
              "        vertical-align: top;\n",
              "    }\n",
              "\n",
              "    .dataframe thead th {\n",
              "        text-align: right;\n",
              "    }\n",
              "</style>\n",
              "<table border=\"1\" class=\"dataframe\">\n",
              "  <thead>\n",
              "    <tr style=\"text-align: right;\">\n",
              "      <th></th>\n",
              "      <th>a</th>\n",
              "      <th>c</th>\n",
              "    </tr>\n",
              "  </thead>\n",
              "  <tbody>\n",
              "    <tr>\n",
              "      <th>0</th>\n",
              "      <td>dos</td>\n",
              "      <td>3</td>\n",
              "    </tr>\n",
              "    <tr>\n",
              "      <th>1</th>\n",
              "      <td>tres</td>\n",
              "      <td>4</td>\n",
              "    </tr>\n",
              "  </tbody>\n",
              "</table>\n",
              "</div>"
            ],
            "text/plain": [
              "      a  c\n",
              "0   dos  3\n",
              "1  tres  4"
            ]
          },
          "metadata": {},
          "execution_count": 82
        }
      ]
    },
    {
      "cell_type": "code",
      "metadata": {
        "colab": {
          "base_uri": "https://localhost:8080/",
          "height": 81
        },
        "id": "Pcb9cmS031oC",
        "outputId": "c3d5ec3f-33e4-457b-bdaa-d4d440a68745"
      },
      "source": [
        "df1.merge(df2, how='inner', on='a')"
      ],
      "execution_count": null,
      "outputs": [
        {
          "output_type": "execute_result",
          "data": {
            "text/html": [
              "<div>\n",
              "<style scoped>\n",
              "    .dataframe tbody tr th:only-of-type {\n",
              "        vertical-align: middle;\n",
              "    }\n",
              "\n",
              "    .dataframe tbody tr th {\n",
              "        vertical-align: top;\n",
              "    }\n",
              "\n",
              "    .dataframe thead th {\n",
              "        text-align: right;\n",
              "    }\n",
              "</style>\n",
              "<table border=\"1\" class=\"dataframe\">\n",
              "  <thead>\n",
              "    <tr style=\"text-align: right;\">\n",
              "      <th></th>\n",
              "      <th>a</th>\n",
              "      <th>b</th>\n",
              "      <th>c</th>\n",
              "    </tr>\n",
              "  </thead>\n",
              "  <tbody>\n",
              "    <tr>\n",
              "      <th>0</th>\n",
              "      <td>dos</td>\n",
              "      <td>2</td>\n",
              "      <td>3</td>\n",
              "    </tr>\n",
              "  </tbody>\n",
              "</table>\n",
              "</div>"
            ],
            "text/plain": [
              "     a  b  c\n",
              "0  dos  2  3"
            ]
          },
          "metadata": {},
          "execution_count": 83
        }
      ]
    },
    {
      "cell_type": "code",
      "metadata": {
        "colab": {
          "base_uri": "https://localhost:8080/",
          "height": 112
        },
        "id": "6a-wCcAL3505",
        "outputId": "89d1d28c-70a4-400b-f147-df60fab6b13b"
      },
      "source": [
        "df1.merge(df2, how='left', on='a')"
      ],
      "execution_count": null,
      "outputs": [
        {
          "output_type": "execute_result",
          "data": {
            "text/html": [
              "<div>\n",
              "<style scoped>\n",
              "    .dataframe tbody tr th:only-of-type {\n",
              "        vertical-align: middle;\n",
              "    }\n",
              "\n",
              "    .dataframe tbody tr th {\n",
              "        vertical-align: top;\n",
              "    }\n",
              "\n",
              "    .dataframe thead th {\n",
              "        text-align: right;\n",
              "    }\n",
              "</style>\n",
              "<table border=\"1\" class=\"dataframe\">\n",
              "  <thead>\n",
              "    <tr style=\"text-align: right;\">\n",
              "      <th></th>\n",
              "      <th>a</th>\n",
              "      <th>b</th>\n",
              "      <th>c</th>\n",
              "    </tr>\n",
              "  </thead>\n",
              "  <tbody>\n",
              "    <tr>\n",
              "      <th>0</th>\n",
              "      <td>uno</td>\n",
              "      <td>1</td>\n",
              "      <td>NaN</td>\n",
              "    </tr>\n",
              "    <tr>\n",
              "      <th>1</th>\n",
              "      <td>dos</td>\n",
              "      <td>2</td>\n",
              "      <td>3.0</td>\n",
              "    </tr>\n",
              "  </tbody>\n",
              "</table>\n",
              "</div>"
            ],
            "text/plain": [
              "     a  b    c\n",
              "0  uno  1  NaN\n",
              "1  dos  2  3.0"
            ]
          },
          "metadata": {},
          "execution_count": 84
        }
      ]
    },
    {
      "cell_type": "code",
      "metadata": {
        "colab": {
          "base_uri": "https://localhost:8080/",
          "height": 112
        },
        "id": "5F-E626q4DWD",
        "outputId": "ce03da39-1bf1-4d80-f8de-ad0dbe447de2"
      },
      "source": [
        "df1.merge(df2, how='right', on='a')"
      ],
      "execution_count": null,
      "outputs": [
        {
          "output_type": "execute_result",
          "data": {
            "text/html": [
              "<div>\n",
              "<style scoped>\n",
              "    .dataframe tbody tr th:only-of-type {\n",
              "        vertical-align: middle;\n",
              "    }\n",
              "\n",
              "    .dataframe tbody tr th {\n",
              "        vertical-align: top;\n",
              "    }\n",
              "\n",
              "    .dataframe thead th {\n",
              "        text-align: right;\n",
              "    }\n",
              "</style>\n",
              "<table border=\"1\" class=\"dataframe\">\n",
              "  <thead>\n",
              "    <tr style=\"text-align: right;\">\n",
              "      <th></th>\n",
              "      <th>a</th>\n",
              "      <th>b</th>\n",
              "      <th>c</th>\n",
              "    </tr>\n",
              "  </thead>\n",
              "  <tbody>\n",
              "    <tr>\n",
              "      <th>0</th>\n",
              "      <td>dos</td>\n",
              "      <td>2.0</td>\n",
              "      <td>3</td>\n",
              "    </tr>\n",
              "    <tr>\n",
              "      <th>1</th>\n",
              "      <td>tres</td>\n",
              "      <td>NaN</td>\n",
              "      <td>4</td>\n",
              "    </tr>\n",
              "  </tbody>\n",
              "</table>\n",
              "</div>"
            ],
            "text/plain": [
              "      a    b  c\n",
              "0   dos  2.0  3\n",
              "1  tres  NaN  4"
            ]
          },
          "metadata": {},
          "execution_count": 85
        }
      ]
    },
    {
      "cell_type": "code",
      "metadata": {
        "colab": {
          "base_uri": "https://localhost:8080/",
          "height": 143
        },
        "id": "F7oFVD1g4LDL",
        "outputId": "8c709358-6daa-41e2-9280-5a807dd9bc2a"
      },
      "source": [
        "df1.merge(df2, how='outer', on='a')"
      ],
      "execution_count": null,
      "outputs": [
        {
          "output_type": "execute_result",
          "data": {
            "text/html": [
              "<div>\n",
              "<style scoped>\n",
              "    .dataframe tbody tr th:only-of-type {\n",
              "        vertical-align: middle;\n",
              "    }\n",
              "\n",
              "    .dataframe tbody tr th {\n",
              "        vertical-align: top;\n",
              "    }\n",
              "\n",
              "    .dataframe thead th {\n",
              "        text-align: right;\n",
              "    }\n",
              "</style>\n",
              "<table border=\"1\" class=\"dataframe\">\n",
              "  <thead>\n",
              "    <tr style=\"text-align: right;\">\n",
              "      <th></th>\n",
              "      <th>a</th>\n",
              "      <th>b</th>\n",
              "      <th>c</th>\n",
              "    </tr>\n",
              "  </thead>\n",
              "  <tbody>\n",
              "    <tr>\n",
              "      <th>0</th>\n",
              "      <td>uno</td>\n",
              "      <td>1.0</td>\n",
              "      <td>NaN</td>\n",
              "    </tr>\n",
              "    <tr>\n",
              "      <th>1</th>\n",
              "      <td>dos</td>\n",
              "      <td>2.0</td>\n",
              "      <td>3.0</td>\n",
              "    </tr>\n",
              "    <tr>\n",
              "      <th>2</th>\n",
              "      <td>tres</td>\n",
              "      <td>NaN</td>\n",
              "      <td>4.0</td>\n",
              "    </tr>\n",
              "  </tbody>\n",
              "</table>\n",
              "</div>"
            ],
            "text/plain": [
              "      a    b    c\n",
              "0   uno  1.0  NaN\n",
              "1   dos  2.0  3.0\n",
              "2  tres  NaN  4.0"
            ]
          },
          "metadata": {},
          "execution_count": 86
        }
      ]
    },
    {
      "cell_type": "markdown",
      "metadata": {
        "id": "_YWprim4-RN8"
      },
      "source": [
        "<h1>Uso de join()</h1>"
      ]
    },
    {
      "cell_type": "markdown",
      "metadata": {
        "id": "e45Dqks7ASoY"
      },
      "source": [
        "Ahora revisaremos un ejemplo del uso de la funcion join()"
      ]
    },
    {
      "cell_type": "markdown",
      "metadata": {
        "id": "ni83lk6AAZJD"
      },
      "source": [
        "Primero creamos un DataFrame"
      ]
    },
    {
      "cell_type": "code",
      "metadata": {
        "id": "kB2kQ7zj-dxo"
      },
      "source": [
        "df = pd.DataFrame({'key': ['K0', 'K1', 'K2', 'K3', 'K4', 'K5'],\n",
        "\n",
        "                   'A': ['A0', 'A1', 'A2', 'A3', 'A4', 'A5']})"
      ],
      "execution_count": null,
      "outputs": []
    },
    {
      "cell_type": "code",
      "metadata": {
        "colab": {
          "base_uri": "https://localhost:8080/",
          "height": 237
        },
        "id": "9h6DANNZ-gKm",
        "outputId": "edca4560-7c4a-4de4-9de3-08f019aa7571"
      },
      "source": [
        "df"
      ],
      "execution_count": null,
      "outputs": [
        {
          "output_type": "execute_result",
          "data": {
            "text/html": [
              "<div>\n",
              "<style scoped>\n",
              "    .dataframe tbody tr th:only-of-type {\n",
              "        vertical-align: middle;\n",
              "    }\n",
              "\n",
              "    .dataframe tbody tr th {\n",
              "        vertical-align: top;\n",
              "    }\n",
              "\n",
              "    .dataframe thead th {\n",
              "        text-align: right;\n",
              "    }\n",
              "</style>\n",
              "<table border=\"1\" class=\"dataframe\">\n",
              "  <thead>\n",
              "    <tr style=\"text-align: right;\">\n",
              "      <th></th>\n",
              "      <th>key</th>\n",
              "      <th>A</th>\n",
              "    </tr>\n",
              "  </thead>\n",
              "  <tbody>\n",
              "    <tr>\n",
              "      <th>0</th>\n",
              "      <td>K0</td>\n",
              "      <td>A0</td>\n",
              "    </tr>\n",
              "    <tr>\n",
              "      <th>1</th>\n",
              "      <td>K1</td>\n",
              "      <td>A1</td>\n",
              "    </tr>\n",
              "    <tr>\n",
              "      <th>2</th>\n",
              "      <td>K2</td>\n",
              "      <td>A2</td>\n",
              "    </tr>\n",
              "    <tr>\n",
              "      <th>3</th>\n",
              "      <td>K3</td>\n",
              "      <td>A3</td>\n",
              "    </tr>\n",
              "    <tr>\n",
              "      <th>4</th>\n",
              "      <td>K4</td>\n",
              "      <td>A4</td>\n",
              "    </tr>\n",
              "    <tr>\n",
              "      <th>5</th>\n",
              "      <td>K5</td>\n",
              "      <td>A5</td>\n",
              "    </tr>\n",
              "  </tbody>\n",
              "</table>\n",
              "</div>"
            ],
            "text/plain": [
              "  key   A\n",
              "0  K0  A0\n",
              "1  K1  A1\n",
              "2  K2  A2\n",
              "3  K3  A3\n",
              "4  K4  A4\n",
              "5  K5  A5"
            ]
          },
          "metadata": {},
          "execution_count": 40
        }
      ]
    },
    {
      "cell_type": "markdown",
      "metadata": {
        "id": "itj1uKyvAcHu"
      },
      "source": [
        "Luego creamos otro, pero que contenga ahora menos renglones"
      ]
    },
    {
      "cell_type": "code",
      "metadata": {
        "id": "IG_9JCSr-mRn"
      },
      "source": [
        "other = pd.DataFrame({'key': ['K1', 'K0', 'K2'],\n",
        "\n",
        "                      'B': ['B0', 'B1', 'B2']})"
      ],
      "execution_count": null,
      "outputs": []
    },
    {
      "cell_type": "code",
      "metadata": {
        "colab": {
          "base_uri": "https://localhost:8080/",
          "height": 143
        },
        "id": "LzWgrDza-nUQ",
        "outputId": "01c3154a-8a4f-4f17-e7d0-41d439fc56f0"
      },
      "source": [
        "other\n"
      ],
      "execution_count": null,
      "outputs": [
        {
          "output_type": "execute_result",
          "data": {
            "text/html": [
              "<div>\n",
              "<style scoped>\n",
              "    .dataframe tbody tr th:only-of-type {\n",
              "        vertical-align: middle;\n",
              "    }\n",
              "\n",
              "    .dataframe tbody tr th {\n",
              "        vertical-align: top;\n",
              "    }\n",
              "\n",
              "    .dataframe thead th {\n",
              "        text-align: right;\n",
              "    }\n",
              "</style>\n",
              "<table border=\"1\" class=\"dataframe\">\n",
              "  <thead>\n",
              "    <tr style=\"text-align: right;\">\n",
              "      <th></th>\n",
              "      <th>key</th>\n",
              "      <th>B</th>\n",
              "    </tr>\n",
              "  </thead>\n",
              "  <tbody>\n",
              "    <tr>\n",
              "      <th>0</th>\n",
              "      <td>K1</td>\n",
              "      <td>B0</td>\n",
              "    </tr>\n",
              "    <tr>\n",
              "      <th>1</th>\n",
              "      <td>K0</td>\n",
              "      <td>B1</td>\n",
              "    </tr>\n",
              "    <tr>\n",
              "      <th>2</th>\n",
              "      <td>K2</td>\n",
              "      <td>B2</td>\n",
              "    </tr>\n",
              "  </tbody>\n",
              "</table>\n",
              "</div>"
            ],
            "text/plain": [
              "  key   B\n",
              "0  K1  B0\n",
              "1  K0  B1\n",
              "2  K2  B2"
            ]
          },
          "metadata": {},
          "execution_count": 42
        }
      ]
    },
    {
      "cell_type": "markdown",
      "metadata": {
        "id": "lyoZ-zOcAiMy"
      },
      "source": [
        "Ahora haremos el <b>join</b> sobre las llaves, agregaremos los sufijos \"caller\" para ejemplificar quien es el DataFrame que hace la llamada a la función join, y el sufijo \"other\" para mostrar quien es el DataFrame que esta siendo usado como referencia o parámetro"
      ]
    },
    {
      "cell_type": "code",
      "metadata": {
        "colab": {
          "base_uri": "https://localhost:8080/",
          "height": 237
        },
        "id": "bRnZf2n8-ok-",
        "outputId": "c2558803-76f5-49c5-c6bd-326dcc97d463"
      },
      "source": [
        "df.join(other, lsuffix='_caller', rsuffix='_other')"
      ],
      "execution_count": null,
      "outputs": [
        {
          "output_type": "execute_result",
          "data": {
            "text/html": [
              "<div>\n",
              "<style scoped>\n",
              "    .dataframe tbody tr th:only-of-type {\n",
              "        vertical-align: middle;\n",
              "    }\n",
              "\n",
              "    .dataframe tbody tr th {\n",
              "        vertical-align: top;\n",
              "    }\n",
              "\n",
              "    .dataframe thead th {\n",
              "        text-align: right;\n",
              "    }\n",
              "</style>\n",
              "<table border=\"1\" class=\"dataframe\">\n",
              "  <thead>\n",
              "    <tr style=\"text-align: right;\">\n",
              "      <th></th>\n",
              "      <th>key_caller</th>\n",
              "      <th>A</th>\n",
              "      <th>key_other</th>\n",
              "      <th>B</th>\n",
              "    </tr>\n",
              "  </thead>\n",
              "  <tbody>\n",
              "    <tr>\n",
              "      <th>0</th>\n",
              "      <td>K0</td>\n",
              "      <td>A0</td>\n",
              "      <td>K1</td>\n",
              "      <td>B0</td>\n",
              "    </tr>\n",
              "    <tr>\n",
              "      <th>1</th>\n",
              "      <td>K1</td>\n",
              "      <td>A1</td>\n",
              "      <td>K0</td>\n",
              "      <td>B1</td>\n",
              "    </tr>\n",
              "    <tr>\n",
              "      <th>2</th>\n",
              "      <td>K2</td>\n",
              "      <td>A2</td>\n",
              "      <td>K2</td>\n",
              "      <td>B2</td>\n",
              "    </tr>\n",
              "    <tr>\n",
              "      <th>3</th>\n",
              "      <td>K3</td>\n",
              "      <td>A3</td>\n",
              "      <td>NaN</td>\n",
              "      <td>NaN</td>\n",
              "    </tr>\n",
              "    <tr>\n",
              "      <th>4</th>\n",
              "      <td>K4</td>\n",
              "      <td>A4</td>\n",
              "      <td>NaN</td>\n",
              "      <td>NaN</td>\n",
              "    </tr>\n",
              "    <tr>\n",
              "      <th>5</th>\n",
              "      <td>K5</td>\n",
              "      <td>A5</td>\n",
              "      <td>NaN</td>\n",
              "      <td>NaN</td>\n",
              "    </tr>\n",
              "  </tbody>\n",
              "</table>\n",
              "</div>"
            ],
            "text/plain": [
              "  key_caller   A key_other    B\n",
              "0         K0  A0        K1   B0\n",
              "1         K1  A1        K0   B1\n",
              "2         K2  A2        K2   B2\n",
              "3         K3  A3       NaN  NaN\n",
              "4         K4  A4       NaN  NaN\n",
              "5         K5  A5       NaN  NaN"
            ]
          },
          "metadata": {},
          "execution_count": 91
        }
      ]
    },
    {
      "cell_type": "markdown",
      "metadata": {
        "id": "pl_Buty6A9hM"
      },
      "source": [
        "Otra forma de hacer esto, que es parecida a un \"outer join\", es especificando los índices de cada DataFrame\n"
      ]
    },
    {
      "cell_type": "code",
      "metadata": {
        "colab": {
          "base_uri": "https://localhost:8080/",
          "height": 237
        },
        "id": "VjTjkeVM_Kl2",
        "outputId": "acde61b8-8d59-43b4-8b6b-14262372d4c4"
      },
      "source": [
        "df.join(other.set_index('key'), on='key')"
      ],
      "execution_count": null,
      "outputs": [
        {
          "output_type": "execute_result",
          "data": {
            "text/html": [
              "<div>\n",
              "<style scoped>\n",
              "    .dataframe tbody tr th:only-of-type {\n",
              "        vertical-align: middle;\n",
              "    }\n",
              "\n",
              "    .dataframe tbody tr th {\n",
              "        vertical-align: top;\n",
              "    }\n",
              "\n",
              "    .dataframe thead th {\n",
              "        text-align: right;\n",
              "    }\n",
              "</style>\n",
              "<table border=\"1\" class=\"dataframe\">\n",
              "  <thead>\n",
              "    <tr style=\"text-align: right;\">\n",
              "      <th></th>\n",
              "      <th>key</th>\n",
              "      <th>A</th>\n",
              "      <th>B</th>\n",
              "    </tr>\n",
              "  </thead>\n",
              "  <tbody>\n",
              "    <tr>\n",
              "      <th>0</th>\n",
              "      <td>K0</td>\n",
              "      <td>A0</td>\n",
              "      <td>B1</td>\n",
              "    </tr>\n",
              "    <tr>\n",
              "      <th>1</th>\n",
              "      <td>K1</td>\n",
              "      <td>A1</td>\n",
              "      <td>B0</td>\n",
              "    </tr>\n",
              "    <tr>\n",
              "      <th>2</th>\n",
              "      <td>K2</td>\n",
              "      <td>A2</td>\n",
              "      <td>B2</td>\n",
              "    </tr>\n",
              "    <tr>\n",
              "      <th>3</th>\n",
              "      <td>K3</td>\n",
              "      <td>A3</td>\n",
              "      <td>NaN</td>\n",
              "    </tr>\n",
              "    <tr>\n",
              "      <th>4</th>\n",
              "      <td>K4</td>\n",
              "      <td>A4</td>\n",
              "      <td>NaN</td>\n",
              "    </tr>\n",
              "    <tr>\n",
              "      <th>5</th>\n",
              "      <td>K5</td>\n",
              "      <td>A5</td>\n",
              "      <td>NaN</td>\n",
              "    </tr>\n",
              "  </tbody>\n",
              "</table>\n",
              "</div>"
            ],
            "text/plain": [
              "  key   A    B\n",
              "0  K0  A0   B1\n",
              "1  K1  A1   B0\n",
              "2  K2  A2   B2\n",
              "3  K3  A3  NaN\n",
              "4  K4  A4  NaN\n",
              "5  K5  A5  NaN"
            ]
          },
          "metadata": {},
          "execution_count": 92
        }
      ]
    }
  ]
}