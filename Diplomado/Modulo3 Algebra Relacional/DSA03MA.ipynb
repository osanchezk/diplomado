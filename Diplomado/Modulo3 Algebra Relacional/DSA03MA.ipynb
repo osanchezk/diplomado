{
  "nbformat": 4,
  "nbformat_minor": 0,
  "metadata": {
    "colab": {
      "name": "SQL_comparison.ipynb",
      "provenance": []
    },
    "kernelspec": {
      "name": "python3",
      "display_name": "Python 3"
    }
  },
  "cells": [
    {
      "cell_type": "markdown",
      "metadata": {
        "id": "3q5_ZVr6B4jy"
      },
      "source": [
        "Primero montamos nuestra unidad de Google drive"
      ]
    },
    {
      "cell_type": "code",
      "metadata": {
        "colab": {
          "base_uri": "https://localhost:8080/"
        },
        "id": "mUUL9b9XBRDn",
        "outputId": "a5e897e1-9d4b-4ba2-cef1-55479c2af7b3"
      },
      "source": [
        "from google.colab import drive\n",
        "drive.mount('/content/gdrive')"
      ],
      "execution_count": null,
      "outputs": [
        {
          "output_type": "stream",
          "text": [
            "Mounted at /content/gdrive\n"
          ],
          "name": "stdout"
        }
      ]
    },
    {
      "cell_type": "markdown",
      "metadata": {
        "id": "B05YM7J8cYiS"
      },
      "source": [
        "<h1>Insert</h1>"
      ]
    },
    {
      "cell_type": "markdown",
      "metadata": {
        "id": "eD2b6n-YB8t7"
      },
      "source": [
        "Luego, cargamos nuestro archivo de excel, la \"tabla\" de autos\n"
      ]
    },
    {
      "cell_type": "code",
      "metadata": {
        "id": "1gg6gbc5tlET"
      },
      "source": [
        "import pandas as pd\n",
        "excel_autos = pd.read_excel('/content/gdrive/MyDrive/Colab Notebooks/M3_notebooks/03_M3_PROFUNDIZA/records.xls', sheet_name='Autos')\n"
      ],
      "execution_count": null,
      "outputs": []
    },
    {
      "cell_type": "markdown",
      "metadata": {
        "id": "c9vlY4qeCE_-"
      },
      "source": [
        "Ahora, creamos una nueva serie con los valores que queremos agregar a la tabla\n"
      ]
    },
    {
      "cell_type": "code",
      "metadata": {
        "id": "0ijiFuZOCOb1"
      },
      "source": [
        "new_row = pd.Series([\"Honda\", \"Fit\", 2015, 110000, 140000], index = [\"Marca\", \n",
        "    ...: \"subMarca\", \"Modelo\", \"kilometraje\", \"precio MXP\"])"
      ],
      "execution_count": null,
      "outputs": []
    },
    {
      "cell_type": "markdown",
      "metadata": {
        "id": "bIp2hGVXCSk_"
      },
      "source": [
        "En pandas, no  podemos insertar una fila a un dataFrame, pero podemos concatenar dos dataframes, idealmente que tengan el mismo \"esquema\", Es por eso a que a la serie le asignamos los mismos ííndices que tiene el dataFrame cargado desde el excel"
      ]
    },
    {
      "cell_type": "markdown",
      "metadata": {
        "id": "Lp7sAN2CClbE"
      },
      "source": [
        "Ahora tenemos que convertir nuestra serie en un dataFrame para poder concatenarlos posteriormente"
      ]
    },
    {
      "cell_type": "code",
      "metadata": {
        "id": "zdZkL1kHCqwR"
      },
      "source": [
        "row_df = pd.DataFrame([new_row])"
      ],
      "execution_count": null,
      "outputs": []
    },
    {
      "cell_type": "markdown",
      "metadata": {
        "id": "Nk388mDkCyYX"
      },
      "source": [
        "aquí, row_df ya es un dataframe que tiene \"el mismo esquema\" que el dataFrame de autos. Podemos proceder a hacer el concat"
      ]
    },
    {
      "cell_type": "code",
      "metadata": {
        "id": "5r9OsuNLDBhZ"
      },
      "source": [
        "excel_autos = pd.concat([ excel_autos, row_df], ignore_index=True)"
      ],
      "execution_count": null,
      "outputs": []
    },
    {
      "cell_type": "markdown",
      "metadata": {
        "id": "np2gCvipDCY_"
      },
      "source": [
        "Aquí, el orden en como hagamos el concat afecta en como quedarán los índices. Si no usamos la opcion de ignore_index=True, podemos tener dos veces el mismo índice, por eso, usamos la opcion de ignore_index=True, para que los índices queden bien estructurados"
      ]
    },
    {
      "cell_type": "code",
      "metadata": {
        "colab": {
          "base_uri": "https://localhost:8080/",
          "height": 175
        },
        "id": "L66DCuZBDa1N",
        "outputId": "3a5255a1-502d-4868-832a-70a4b0515b27"
      },
      "source": [
        "excel_autos"
      ],
      "execution_count": null,
      "outputs": [
        {
          "output_type": "execute_result",
          "data": {
            "text/html": [
              "<div>\n",
              "<style scoped>\n",
              "    .dataframe tbody tr th:only-of-type {\n",
              "        vertical-align: middle;\n",
              "    }\n",
              "\n",
              "    .dataframe tbody tr th {\n",
              "        vertical-align: top;\n",
              "    }\n",
              "\n",
              "    .dataframe thead th {\n",
              "        text-align: right;\n",
              "    }\n",
              "</style>\n",
              "<table border=\"1\" class=\"dataframe\">\n",
              "  <thead>\n",
              "    <tr style=\"text-align: right;\">\n",
              "      <th></th>\n",
              "      <th>Marca</th>\n",
              "      <th>subMarca</th>\n",
              "      <th>Modelo</th>\n",
              "      <th>kilometraje</th>\n",
              "      <th>precio MXP</th>\n",
              "    </tr>\n",
              "  </thead>\n",
              "  <tbody>\n",
              "    <tr>\n",
              "      <th>0</th>\n",
              "      <td>Honda</td>\n",
              "      <td>Civic</td>\n",
              "      <td>2015</td>\n",
              "      <td>67000</td>\n",
              "      <td>256000</td>\n",
              "    </tr>\n",
              "    <tr>\n",
              "      <th>1</th>\n",
              "      <td>VolksWagen</td>\n",
              "      <td>Jetta</td>\n",
              "      <td>2009</td>\n",
              "      <td>148500</td>\n",
              "      <td>110000</td>\n",
              "    </tr>\n",
              "    <tr>\n",
              "      <th>2</th>\n",
              "      <td>Toyota</td>\n",
              "      <td>Sienna</td>\n",
              "      <td>2011</td>\n",
              "      <td>140500</td>\n",
              "      <td>149900</td>\n",
              "    </tr>\n",
              "    <tr>\n",
              "      <th>3</th>\n",
              "      <td>Honda</td>\n",
              "      <td>Fit</td>\n",
              "      <td>2015</td>\n",
              "      <td>110000</td>\n",
              "      <td>140000</td>\n",
              "    </tr>\n",
              "  </tbody>\n",
              "</table>\n",
              "</div>"
            ],
            "text/plain": [
              "        Marca subMarca  Modelo  kilometraje  precio MXP\n",
              "0       Honda    Civic    2015        67000      256000\n",
              "1  VolksWagen    Jetta    2009       148500      110000\n",
              "2     Toyota    Sienna    2011       140500      149900\n",
              "3       Honda      Fit    2015       110000      140000"
            ]
          },
          "metadata": {
            "tags": []
          },
          "execution_count": 7
        }
      ]
    },
    {
      "cell_type": "markdown",
      "metadata": {
        "id": "TGcMbP6YRfcd"
      },
      "source": [
        "Ahora veamos como insertar más de una fila a la vez"
      ]
    },
    {
      "cell_type": "markdown",
      "metadata": {
        "id": "YNiw5PlyRoEV"
      },
      "source": [
        "Recordamos que solo podemos hacer concatenación de dataFrames"
      ]
    },
    {
      "cell_type": "code",
      "metadata": {
        "colab": {
          "base_uri": "https://localhost:8080/",
          "height": 206
        },
        "id": "VLrglENMOoe0",
        "outputId": "7ae61695-f33a-4f90-ddc0-0d00cdc01605"
      },
      "source": [
        "new_row1 = pd.Series([\"Mazda\", \"CX-5\", 2017, 65000, 265000])\n",
        "new_row2 = pd.Series([\"Susuki\", \"Vitara\", 2016, 85000, 185000])\n",
        "new_row3 = pd.Series([\"Audi\", \"A4\", 2010, 185000, 225000])\n",
        "\n",
        "new_rows_df = pd.DataFrame(new_row1) \n",
        "new_rows_df\n",
        "\n"
      ],
      "execution_count": null,
      "outputs": [
        {
          "output_type": "execute_result",
          "data": {
            "text/html": [
              "<div>\n",
              "<style scoped>\n",
              "    .dataframe tbody tr th:only-of-type {\n",
              "        vertical-align: middle;\n",
              "    }\n",
              "\n",
              "    .dataframe tbody tr th {\n",
              "        vertical-align: top;\n",
              "    }\n",
              "\n",
              "    .dataframe thead th {\n",
              "        text-align: right;\n",
              "    }\n",
              "</style>\n",
              "<table border=\"1\" class=\"dataframe\">\n",
              "  <thead>\n",
              "    <tr style=\"text-align: right;\">\n",
              "      <th></th>\n",
              "      <th>0</th>\n",
              "    </tr>\n",
              "  </thead>\n",
              "  <tbody>\n",
              "    <tr>\n",
              "      <th>0</th>\n",
              "      <td>Mazda</td>\n",
              "    </tr>\n",
              "    <tr>\n",
              "      <th>1</th>\n",
              "      <td>CX-5</td>\n",
              "    </tr>\n",
              "    <tr>\n",
              "      <th>2</th>\n",
              "      <td>2017</td>\n",
              "    </tr>\n",
              "    <tr>\n",
              "      <th>3</th>\n",
              "      <td>65000</td>\n",
              "    </tr>\n",
              "    <tr>\n",
              "      <th>4</th>\n",
              "      <td>265000</td>\n",
              "    </tr>\n",
              "  </tbody>\n",
              "</table>\n",
              "</div>"
            ],
            "text/plain": [
              "        0\n",
              "0   Mazda\n",
              "1    CX-5\n",
              "2    2017\n",
              "3   65000\n",
              "4  265000"
            ]
          },
          "metadata": {
            "tags": []
          },
          "execution_count": 8
        }
      ]
    },
    {
      "cell_type": "code",
      "metadata": {
        "colab": {
          "base_uri": "https://localhost:8080/",
          "height": 206
        },
        "id": "erjaTPV4PM1a",
        "outputId": "836db33b-f59f-4051-b376-5440a81ec25c"
      },
      "source": [
        "new_rows_df = pd.concat([new_rows_df, new_row2], axis= 1)\n",
        "new_rows_df\n"
      ],
      "execution_count": null,
      "outputs": [
        {
          "output_type": "execute_result",
          "data": {
            "text/html": [
              "<div>\n",
              "<style scoped>\n",
              "    .dataframe tbody tr th:only-of-type {\n",
              "        vertical-align: middle;\n",
              "    }\n",
              "\n",
              "    .dataframe tbody tr th {\n",
              "        vertical-align: top;\n",
              "    }\n",
              "\n",
              "    .dataframe thead th {\n",
              "        text-align: right;\n",
              "    }\n",
              "</style>\n",
              "<table border=\"1\" class=\"dataframe\">\n",
              "  <thead>\n",
              "    <tr style=\"text-align: right;\">\n",
              "      <th></th>\n",
              "      <th>0</th>\n",
              "      <th>0</th>\n",
              "    </tr>\n",
              "  </thead>\n",
              "  <tbody>\n",
              "    <tr>\n",
              "      <th>0</th>\n",
              "      <td>Mazda</td>\n",
              "      <td>Susuki</td>\n",
              "    </tr>\n",
              "    <tr>\n",
              "      <th>1</th>\n",
              "      <td>CX-5</td>\n",
              "      <td>Vitara</td>\n",
              "    </tr>\n",
              "    <tr>\n",
              "      <th>2</th>\n",
              "      <td>2017</td>\n",
              "      <td>2016</td>\n",
              "    </tr>\n",
              "    <tr>\n",
              "      <th>3</th>\n",
              "      <td>65000</td>\n",
              "      <td>85000</td>\n",
              "    </tr>\n",
              "    <tr>\n",
              "      <th>4</th>\n",
              "      <td>265000</td>\n",
              "      <td>185000</td>\n",
              "    </tr>\n",
              "  </tbody>\n",
              "</table>\n",
              "</div>"
            ],
            "text/plain": [
              "        0       0\n",
              "0   Mazda  Susuki\n",
              "1    CX-5  Vitara\n",
              "2    2017    2016\n",
              "3   65000   85000\n",
              "4  265000  185000"
            ]
          },
          "metadata": {
            "tags": []
          },
          "execution_count": 10
        }
      ]
    },
    {
      "cell_type": "code",
      "metadata": {
        "colab": {
          "base_uri": "https://localhost:8080/",
          "height": 206
        },
        "id": "Q87XPh7vPSti",
        "outputId": "40a6976f-99a0-4bc0-c16e-d98c0a0c661c"
      },
      "source": [
        "new_rows_df = pd.concat([new_rows_df, new_row3], axis= 1)\n",
        "new_rows_df"
      ],
      "execution_count": null,
      "outputs": [
        {
          "output_type": "execute_result",
          "data": {
            "text/html": [
              "<div>\n",
              "<style scoped>\n",
              "    .dataframe tbody tr th:only-of-type {\n",
              "        vertical-align: middle;\n",
              "    }\n",
              "\n",
              "    .dataframe tbody tr th {\n",
              "        vertical-align: top;\n",
              "    }\n",
              "\n",
              "    .dataframe thead th {\n",
              "        text-align: right;\n",
              "    }\n",
              "</style>\n",
              "<table border=\"1\" class=\"dataframe\">\n",
              "  <thead>\n",
              "    <tr style=\"text-align: right;\">\n",
              "      <th></th>\n",
              "      <th>0</th>\n",
              "      <th>0</th>\n",
              "      <th>0</th>\n",
              "    </tr>\n",
              "  </thead>\n",
              "  <tbody>\n",
              "    <tr>\n",
              "      <th>0</th>\n",
              "      <td>Mazda</td>\n",
              "      <td>Susuki</td>\n",
              "      <td>Audi</td>\n",
              "    </tr>\n",
              "    <tr>\n",
              "      <th>1</th>\n",
              "      <td>CX-5</td>\n",
              "      <td>Vitara</td>\n",
              "      <td>A4</td>\n",
              "    </tr>\n",
              "    <tr>\n",
              "      <th>2</th>\n",
              "      <td>2017</td>\n",
              "      <td>2016</td>\n",
              "      <td>2010</td>\n",
              "    </tr>\n",
              "    <tr>\n",
              "      <th>3</th>\n",
              "      <td>65000</td>\n",
              "      <td>85000</td>\n",
              "      <td>185000</td>\n",
              "    </tr>\n",
              "    <tr>\n",
              "      <th>4</th>\n",
              "      <td>265000</td>\n",
              "      <td>185000</td>\n",
              "      <td>225000</td>\n",
              "    </tr>\n",
              "  </tbody>\n",
              "</table>\n",
              "</div>"
            ],
            "text/plain": [
              "        0       0       0\n",
              "0   Mazda  Susuki    Audi\n",
              "1    CX-5  Vitara      A4\n",
              "2    2017    2016    2010\n",
              "3   65000   85000  185000\n",
              "4  265000  185000  225000"
            ]
          },
          "metadata": {
            "tags": []
          },
          "execution_count": 11
        }
      ]
    },
    {
      "cell_type": "code",
      "metadata": {
        "id": "iXB66Km9PuzK"
      },
      "source": [
        "new_rows_df=new_rows_df.T\n"
      ],
      "execution_count": null,
      "outputs": []
    },
    {
      "cell_type": "code",
      "metadata": {
        "colab": {
          "base_uri": "https://localhost:8080/",
          "height": 143
        },
        "id": "aAzVG9qx99FS",
        "outputId": "388d5bc5-3914-4241-d8fc-4e4e3eca12db"
      },
      "source": [
        "new_rows_df"
      ],
      "execution_count": null,
      "outputs": [
        {
          "output_type": "execute_result",
          "data": {
            "text/html": [
              "<div>\n",
              "<style scoped>\n",
              "    .dataframe tbody tr th:only-of-type {\n",
              "        vertical-align: middle;\n",
              "    }\n",
              "\n",
              "    .dataframe tbody tr th {\n",
              "        vertical-align: top;\n",
              "    }\n",
              "\n",
              "    .dataframe thead th {\n",
              "        text-align: right;\n",
              "    }\n",
              "</style>\n",
              "<table border=\"1\" class=\"dataframe\">\n",
              "  <thead>\n",
              "    <tr style=\"text-align: right;\">\n",
              "      <th></th>\n",
              "      <th>0</th>\n",
              "      <th>1</th>\n",
              "      <th>2</th>\n",
              "      <th>3</th>\n",
              "      <th>4</th>\n",
              "    </tr>\n",
              "  </thead>\n",
              "  <tbody>\n",
              "    <tr>\n",
              "      <th>0</th>\n",
              "      <td>Mazda</td>\n",
              "      <td>CX-5</td>\n",
              "      <td>2017</td>\n",
              "      <td>65000</td>\n",
              "      <td>265000</td>\n",
              "    </tr>\n",
              "    <tr>\n",
              "      <th>0</th>\n",
              "      <td>Susuki</td>\n",
              "      <td>Vitara</td>\n",
              "      <td>2016</td>\n",
              "      <td>85000</td>\n",
              "      <td>185000</td>\n",
              "    </tr>\n",
              "    <tr>\n",
              "      <th>0</th>\n",
              "      <td>Audi</td>\n",
              "      <td>A4</td>\n",
              "      <td>2010</td>\n",
              "      <td>185000</td>\n",
              "      <td>225000</td>\n",
              "    </tr>\n",
              "  </tbody>\n",
              "</table>\n",
              "</div>"
            ],
            "text/plain": [
              "        0       1     2       3       4\n",
              "0   Mazda    CX-5  2017   65000  265000\n",
              "0  Susuki  Vitara  2016   85000  185000\n",
              "0    Audi      A4  2010  185000  225000"
            ]
          },
          "metadata": {
            "tags": []
          },
          "execution_count": 13
        }
      ]
    },
    {
      "cell_type": "code",
      "metadata": {
        "colab": {
          "base_uri": "https://localhost:8080/",
          "height": 143
        },
        "id": "JXi5B-Gp3Tba",
        "outputId": "d04bdf30-19dd-480e-fd95-0de5554af192"
      },
      "source": [
        "new_rows_df.columns = [\"Marca\", \"subMarca\", \"Modelo\", \"kilometraje\", \"precio MXP\"]\n",
        "new_rows_df"
      ],
      "execution_count": null,
      "outputs": [
        {
          "output_type": "execute_result",
          "data": {
            "text/html": [
              "<div>\n",
              "<style scoped>\n",
              "    .dataframe tbody tr th:only-of-type {\n",
              "        vertical-align: middle;\n",
              "    }\n",
              "\n",
              "    .dataframe tbody tr th {\n",
              "        vertical-align: top;\n",
              "    }\n",
              "\n",
              "    .dataframe thead th {\n",
              "        text-align: right;\n",
              "    }\n",
              "</style>\n",
              "<table border=\"1\" class=\"dataframe\">\n",
              "  <thead>\n",
              "    <tr style=\"text-align: right;\">\n",
              "      <th></th>\n",
              "      <th>Marca</th>\n",
              "      <th>subMarca</th>\n",
              "      <th>Modelo</th>\n",
              "      <th>kilometraje</th>\n",
              "      <th>precio MXP</th>\n",
              "    </tr>\n",
              "  </thead>\n",
              "  <tbody>\n",
              "    <tr>\n",
              "      <th>0</th>\n",
              "      <td>Mazda</td>\n",
              "      <td>CX-5</td>\n",
              "      <td>2017</td>\n",
              "      <td>65000</td>\n",
              "      <td>265000</td>\n",
              "    </tr>\n",
              "    <tr>\n",
              "      <th>0</th>\n",
              "      <td>Susuki</td>\n",
              "      <td>Vitara</td>\n",
              "      <td>2016</td>\n",
              "      <td>85000</td>\n",
              "      <td>185000</td>\n",
              "    </tr>\n",
              "    <tr>\n",
              "      <th>0</th>\n",
              "      <td>Audi</td>\n",
              "      <td>A4</td>\n",
              "      <td>2010</td>\n",
              "      <td>185000</td>\n",
              "      <td>225000</td>\n",
              "    </tr>\n",
              "  </tbody>\n",
              "</table>\n",
              "</div>"
            ],
            "text/plain": [
              "    Marca subMarca Modelo kilometraje precio MXP\n",
              "0   Mazda     CX-5   2017       65000     265000\n",
              "0  Susuki   Vitara   2016       85000     185000\n",
              "0    Audi       A4   2010      185000     225000"
            ]
          },
          "metadata": {
            "tags": []
          },
          "execution_count": 14
        }
      ]
    },
    {
      "cell_type": "code",
      "metadata": {
        "colab": {
          "base_uri": "https://localhost:8080/",
          "height": 143
        },
        "id": "82-1pGJfBbmL",
        "outputId": "b0e56540-c4e0-45b5-f548-a4f5be183ae1"
      },
      "source": [
        "# new_rows_df.reset_index() No ejecutar, deja el viejo ííndice como una nueva columna"
      ],
      "execution_count": null,
      "outputs": [
        {
          "output_type": "execute_result",
          "data": {
            "text/html": [
              "<div>\n",
              "<style scoped>\n",
              "    .dataframe tbody tr th:only-of-type {\n",
              "        vertical-align: middle;\n",
              "    }\n",
              "\n",
              "    .dataframe tbody tr th {\n",
              "        vertical-align: top;\n",
              "    }\n",
              "\n",
              "    .dataframe thead th {\n",
              "        text-align: right;\n",
              "    }\n",
              "</style>\n",
              "<table border=\"1\" class=\"dataframe\">\n",
              "  <thead>\n",
              "    <tr style=\"text-align: right;\">\n",
              "      <th></th>\n",
              "      <th>index</th>\n",
              "      <th>Marca</th>\n",
              "      <th>subMarca</th>\n",
              "      <th>Modelo</th>\n",
              "      <th>kilometraje</th>\n",
              "      <th>precio MXP</th>\n",
              "    </tr>\n",
              "  </thead>\n",
              "  <tbody>\n",
              "    <tr>\n",
              "      <th>0</th>\n",
              "      <td>0</td>\n",
              "      <td>Mazda</td>\n",
              "      <td>CX-5</td>\n",
              "      <td>2017</td>\n",
              "      <td>65000</td>\n",
              "      <td>265000</td>\n",
              "    </tr>\n",
              "    <tr>\n",
              "      <th>1</th>\n",
              "      <td>0</td>\n",
              "      <td>Susuki</td>\n",
              "      <td>Vitara</td>\n",
              "      <td>2016</td>\n",
              "      <td>85000</td>\n",
              "      <td>185000</td>\n",
              "    </tr>\n",
              "    <tr>\n",
              "      <th>2</th>\n",
              "      <td>0</td>\n",
              "      <td>Audi</td>\n",
              "      <td>A4</td>\n",
              "      <td>2010</td>\n",
              "      <td>185000</td>\n",
              "      <td>225000</td>\n",
              "    </tr>\n",
              "  </tbody>\n",
              "</table>\n",
              "</div>"
            ],
            "text/plain": [
              "   index   Marca subMarca Modelo kilometraje precio MXP\n",
              "0      0   Mazda     CX-5   2017       65000     265000\n",
              "1      0  Susuki   Vitara   2016       85000     185000\n",
              "2      0    Audi       A4   2010      185000     225000"
            ]
          },
          "metadata": {
            "tags": []
          },
          "execution_count": 15
        }
      ]
    },
    {
      "cell_type": "code",
      "metadata": {
        "colab": {
          "base_uri": "https://localhost:8080/",
          "height": 143
        },
        "id": "N9uvNVGDBgmE",
        "outputId": "8279e4be-bad7-46b8-90f3-7142d788177f"
      },
      "source": [
        "new_rows_df.reset_index(drop=True)"
      ],
      "execution_count": null,
      "outputs": [
        {
          "output_type": "execute_result",
          "data": {
            "text/html": [
              "<div>\n",
              "<style scoped>\n",
              "    .dataframe tbody tr th:only-of-type {\n",
              "        vertical-align: middle;\n",
              "    }\n",
              "\n",
              "    .dataframe tbody tr th {\n",
              "        vertical-align: top;\n",
              "    }\n",
              "\n",
              "    .dataframe thead th {\n",
              "        text-align: right;\n",
              "    }\n",
              "</style>\n",
              "<table border=\"1\" class=\"dataframe\">\n",
              "  <thead>\n",
              "    <tr style=\"text-align: right;\">\n",
              "      <th></th>\n",
              "      <th>Marca</th>\n",
              "      <th>subMarca</th>\n",
              "      <th>Modelo</th>\n",
              "      <th>kilometraje</th>\n",
              "      <th>precio MXP</th>\n",
              "    </tr>\n",
              "  </thead>\n",
              "  <tbody>\n",
              "    <tr>\n",
              "      <th>0</th>\n",
              "      <td>Mazda</td>\n",
              "      <td>CX-5</td>\n",
              "      <td>2017</td>\n",
              "      <td>65000</td>\n",
              "      <td>265000</td>\n",
              "    </tr>\n",
              "    <tr>\n",
              "      <th>1</th>\n",
              "      <td>Susuki</td>\n",
              "      <td>Vitara</td>\n",
              "      <td>2016</td>\n",
              "      <td>85000</td>\n",
              "      <td>185000</td>\n",
              "    </tr>\n",
              "    <tr>\n",
              "      <th>2</th>\n",
              "      <td>Audi</td>\n",
              "      <td>A4</td>\n",
              "      <td>2010</td>\n",
              "      <td>185000</td>\n",
              "      <td>225000</td>\n",
              "    </tr>\n",
              "  </tbody>\n",
              "</table>\n",
              "</div>"
            ],
            "text/plain": [
              "    Marca subMarca Modelo kilometraje precio MXP\n",
              "0   Mazda     CX-5   2017       65000     265000\n",
              "1  Susuki   Vitara   2016       85000     185000\n",
              "2    Audi       A4   2010      185000     225000"
            ]
          },
          "metadata": {
            "tags": []
          },
          "execution_count": 15
        }
      ]
    },
    {
      "cell_type": "code",
      "metadata": {
        "colab": {
          "base_uri": "https://localhost:8080/",
          "height": 175
        },
        "id": "FKVJ31o8QEXz",
        "outputId": "653fd8f5-ebbb-470c-ff38-0d7b3e8c722d"
      },
      "source": [
        "excel_autos"
      ],
      "execution_count": null,
      "outputs": [
        {
          "output_type": "execute_result",
          "data": {
            "text/html": [
              "<div>\n",
              "<style scoped>\n",
              "    .dataframe tbody tr th:only-of-type {\n",
              "        vertical-align: middle;\n",
              "    }\n",
              "\n",
              "    .dataframe tbody tr th {\n",
              "        vertical-align: top;\n",
              "    }\n",
              "\n",
              "    .dataframe thead th {\n",
              "        text-align: right;\n",
              "    }\n",
              "</style>\n",
              "<table border=\"1\" class=\"dataframe\">\n",
              "  <thead>\n",
              "    <tr style=\"text-align: right;\">\n",
              "      <th></th>\n",
              "      <th>Marca</th>\n",
              "      <th>subMarca</th>\n",
              "      <th>Modelo</th>\n",
              "      <th>kilometraje</th>\n",
              "      <th>precio MXP</th>\n",
              "    </tr>\n",
              "  </thead>\n",
              "  <tbody>\n",
              "    <tr>\n",
              "      <th>0</th>\n",
              "      <td>Honda</td>\n",
              "      <td>Civic</td>\n",
              "      <td>2015</td>\n",
              "      <td>67000</td>\n",
              "      <td>256000</td>\n",
              "    </tr>\n",
              "    <tr>\n",
              "      <th>1</th>\n",
              "      <td>VolksWagen</td>\n",
              "      <td>Jetta</td>\n",
              "      <td>2009</td>\n",
              "      <td>148500</td>\n",
              "      <td>110000</td>\n",
              "    </tr>\n",
              "    <tr>\n",
              "      <th>2</th>\n",
              "      <td>Toyota</td>\n",
              "      <td>Sienna</td>\n",
              "      <td>2011</td>\n",
              "      <td>140500</td>\n",
              "      <td>149900</td>\n",
              "    </tr>\n",
              "    <tr>\n",
              "      <th>3</th>\n",
              "      <td>Honda</td>\n",
              "      <td>Fit</td>\n",
              "      <td>2015</td>\n",
              "      <td>110000</td>\n",
              "      <td>140000</td>\n",
              "    </tr>\n",
              "  </tbody>\n",
              "</table>\n",
              "</div>"
            ],
            "text/plain": [
              "        Marca subMarca  Modelo  kilometraje  precio MXP\n",
              "0       Honda    Civic    2015        67000      256000\n",
              "1  VolksWagen    Jetta    2009       148500      110000\n",
              "2     Toyota    Sienna    2011       140500      149900\n",
              "3       Honda      Fit    2015       110000      140000"
            ]
          },
          "metadata": {
            "tags": []
          },
          "execution_count": 16
        }
      ]
    },
    {
      "cell_type": "code",
      "metadata": {
        "id": "n9366Qm6QJUa"
      },
      "source": [
        "excel_autos = pd.concat([excel_autos,new_rows_df], ignore_index=True)"
      ],
      "execution_count": null,
      "outputs": []
    },
    {
      "cell_type": "code",
      "metadata": {
        "colab": {
          "base_uri": "https://localhost:8080/",
          "height": 269
        },
        "id": "m8R_l0b_QZqO",
        "outputId": "5eaea416-f4c6-4e8a-aa38-44a13fcb886f"
      },
      "source": [
        "excel_autos"
      ],
      "execution_count": null,
      "outputs": [
        {
          "output_type": "execute_result",
          "data": {
            "text/html": [
              "<div>\n",
              "<style scoped>\n",
              "    .dataframe tbody tr th:only-of-type {\n",
              "        vertical-align: middle;\n",
              "    }\n",
              "\n",
              "    .dataframe tbody tr th {\n",
              "        vertical-align: top;\n",
              "    }\n",
              "\n",
              "    .dataframe thead th {\n",
              "        text-align: right;\n",
              "    }\n",
              "</style>\n",
              "<table border=\"1\" class=\"dataframe\">\n",
              "  <thead>\n",
              "    <tr style=\"text-align: right;\">\n",
              "      <th></th>\n",
              "      <th>Marca</th>\n",
              "      <th>subMarca</th>\n",
              "      <th>Modelo</th>\n",
              "      <th>kilometraje</th>\n",
              "      <th>precio MXP</th>\n",
              "    </tr>\n",
              "  </thead>\n",
              "  <tbody>\n",
              "    <tr>\n",
              "      <th>0</th>\n",
              "      <td>Honda</td>\n",
              "      <td>Civic</td>\n",
              "      <td>2015</td>\n",
              "      <td>67000</td>\n",
              "      <td>256000</td>\n",
              "    </tr>\n",
              "    <tr>\n",
              "      <th>1</th>\n",
              "      <td>VolksWagen</td>\n",
              "      <td>Jetta</td>\n",
              "      <td>2009</td>\n",
              "      <td>148500</td>\n",
              "      <td>110000</td>\n",
              "    </tr>\n",
              "    <tr>\n",
              "      <th>2</th>\n",
              "      <td>Toyota</td>\n",
              "      <td>Sienna</td>\n",
              "      <td>2011</td>\n",
              "      <td>140500</td>\n",
              "      <td>149900</td>\n",
              "    </tr>\n",
              "    <tr>\n",
              "      <th>3</th>\n",
              "      <td>Honda</td>\n",
              "      <td>Fit</td>\n",
              "      <td>2015</td>\n",
              "      <td>110000</td>\n",
              "      <td>140000</td>\n",
              "    </tr>\n",
              "    <tr>\n",
              "      <th>4</th>\n",
              "      <td>Mazda</td>\n",
              "      <td>CX-5</td>\n",
              "      <td>2017</td>\n",
              "      <td>65000</td>\n",
              "      <td>265000</td>\n",
              "    </tr>\n",
              "    <tr>\n",
              "      <th>5</th>\n",
              "      <td>Susuki</td>\n",
              "      <td>Vitara</td>\n",
              "      <td>2016</td>\n",
              "      <td>85000</td>\n",
              "      <td>185000</td>\n",
              "    </tr>\n",
              "    <tr>\n",
              "      <th>6</th>\n",
              "      <td>Audi</td>\n",
              "      <td>A4</td>\n",
              "      <td>2010</td>\n",
              "      <td>185000</td>\n",
              "      <td>225000</td>\n",
              "    </tr>\n",
              "  </tbody>\n",
              "</table>\n",
              "</div>"
            ],
            "text/plain": [
              "        Marca subMarca Modelo kilometraje precio MXP\n",
              "0       Honda    Civic   2015       67000     256000\n",
              "1  VolksWagen    Jetta   2009      148500     110000\n",
              "2     Toyota    Sienna   2011      140500     149900\n",
              "3       Honda      Fit   2015      110000     140000\n",
              "4       Mazda     CX-5   2017       65000     265000\n",
              "5      Susuki   Vitara   2016       85000     185000\n",
              "6        Audi       A4   2010      185000     225000"
            ]
          },
          "metadata": {
            "tags": []
          },
          "execution_count": 18
        }
      ]
    },
    {
      "cell_type": "markdown",
      "metadata": {
        "id": "ktzCgok-C2_z"
      },
      "source": [
        "<h1>Select</h1>\n"
      ]
    },
    {
      "cell_type": "code",
      "metadata": {
        "colab": {
          "base_uri": "https://localhost:8080/",
          "height": 112
        },
        "id": "uxCk66OeDARO",
        "outputId": "413232bd-51b6-4047-be77-49e57d787c80"
      },
      "source": [
        "excel_autos.loc[excel_autos[\"Marca\"]==\"Honda\"]"
      ],
      "execution_count": null,
      "outputs": [
        {
          "output_type": "execute_result",
          "data": {
            "text/html": [
              "<div>\n",
              "<style scoped>\n",
              "    .dataframe tbody tr th:only-of-type {\n",
              "        vertical-align: middle;\n",
              "    }\n",
              "\n",
              "    .dataframe tbody tr th {\n",
              "        vertical-align: top;\n",
              "    }\n",
              "\n",
              "    .dataframe thead th {\n",
              "        text-align: right;\n",
              "    }\n",
              "</style>\n",
              "<table border=\"1\" class=\"dataframe\">\n",
              "  <thead>\n",
              "    <tr style=\"text-align: right;\">\n",
              "      <th></th>\n",
              "      <th>Marca</th>\n",
              "      <th>subMarca</th>\n",
              "      <th>Modelo</th>\n",
              "      <th>kilometraje</th>\n",
              "      <th>precio MXP</th>\n",
              "    </tr>\n",
              "  </thead>\n",
              "  <tbody>\n",
              "    <tr>\n",
              "      <th>0</th>\n",
              "      <td>Honda</td>\n",
              "      <td>Civic</td>\n",
              "      <td>2015</td>\n",
              "      <td>67000</td>\n",
              "      <td>256000</td>\n",
              "    </tr>\n",
              "    <tr>\n",
              "      <th>3</th>\n",
              "      <td>Honda</td>\n",
              "      <td>Fit</td>\n",
              "      <td>2015</td>\n",
              "      <td>110000</td>\n",
              "      <td>140000</td>\n",
              "    </tr>\n",
              "  </tbody>\n",
              "</table>\n",
              "</div>"
            ],
            "text/plain": [
              "   Marca subMarca  Modelo  kilometraje  precio MXP\n",
              "0  Honda    Civic    2015        67000      256000\n",
              "3  Honda      Fit    2015       110000      140000"
            ]
          },
          "metadata": {
            "tags": []
          },
          "execution_count": 17
        }
      ]
    },
    {
      "cell_type": "markdown",
      "metadata": {
        "id": "rww0s12BGYgD"
      },
      "source": [
        "**excel_autos[\"Marca\"]==\"Honda\"** nos regresa una serie de valores Booleanos, (True | False) y con base en ese valor, se decide si es que la fila forma parte del resultado"
      ]
    },
    {
      "cell_type": "code",
      "metadata": {
        "colab": {
          "base_uri": "https://localhost:8080/",
          "height": 269
        },
        "id": "42u-tGb8Fism",
        "outputId": "3025d4bb-0a6e-40d8-b344-c1744883e3c1"
      },
      "source": [
        "excel_autos[[\"subMarca\", \"Modelo\"]]"
      ],
      "execution_count": null,
      "outputs": [
        {
          "output_type": "execute_result",
          "data": {
            "text/html": [
              "<div>\n",
              "<style scoped>\n",
              "    .dataframe tbody tr th:only-of-type {\n",
              "        vertical-align: middle;\n",
              "    }\n",
              "\n",
              "    .dataframe tbody tr th {\n",
              "        vertical-align: top;\n",
              "    }\n",
              "\n",
              "    .dataframe thead th {\n",
              "        text-align: right;\n",
              "    }\n",
              "</style>\n",
              "<table border=\"1\" class=\"dataframe\">\n",
              "  <thead>\n",
              "    <tr style=\"text-align: right;\">\n",
              "      <th></th>\n",
              "      <th>subMarca</th>\n",
              "      <th>Modelo</th>\n",
              "    </tr>\n",
              "  </thead>\n",
              "  <tbody>\n",
              "    <tr>\n",
              "      <th>0</th>\n",
              "      <td>Civic</td>\n",
              "      <td>2015</td>\n",
              "    </tr>\n",
              "    <tr>\n",
              "      <th>1</th>\n",
              "      <td>Jetta</td>\n",
              "      <td>2009</td>\n",
              "    </tr>\n",
              "    <tr>\n",
              "      <th>2</th>\n",
              "      <td>Sienna</td>\n",
              "      <td>2011</td>\n",
              "    </tr>\n",
              "    <tr>\n",
              "      <th>3</th>\n",
              "      <td>Fit</td>\n",
              "      <td>2015</td>\n",
              "    </tr>\n",
              "    <tr>\n",
              "      <th>4</th>\n",
              "      <td>CX-5</td>\n",
              "      <td>2017</td>\n",
              "    </tr>\n",
              "    <tr>\n",
              "      <th>5</th>\n",
              "      <td>Vitara</td>\n",
              "      <td>2016</td>\n",
              "    </tr>\n",
              "    <tr>\n",
              "      <th>6</th>\n",
              "      <td>A4</td>\n",
              "      <td>2010</td>\n",
              "    </tr>\n",
              "  </tbody>\n",
              "</table>\n",
              "</div>"
            ],
            "text/plain": [
              "  subMarca Modelo\n",
              "0    Civic   2015\n",
              "1    Jetta   2009\n",
              "2   Sienna   2011\n",
              "3      Fit   2015\n",
              "4     CX-5   2017\n",
              "5   Vitara   2016\n",
              "6       A4   2010"
            ]
          },
          "metadata": {
            "tags": []
          },
          "execution_count": 36
        }
      ]
    },
    {
      "cell_type": "code",
      "metadata": {
        "colab": {
          "base_uri": "https://localhost:8080/",
          "height": 112
        },
        "id": "_7Z6HyEHFBq7",
        "outputId": "ea1c2fc7-5abb-40bd-9ef1-fa3556d66f91"
      },
      "source": [
        "excel_autos.loc[excel_autos[\"Marca\"]==\"Honda\"].loc[:,[\"subMarca\", \"Modelo\"]]"
      ],
      "execution_count": null,
      "outputs": [
        {
          "output_type": "execute_result",
          "data": {
            "text/html": [
              "<div>\n",
              "<style scoped>\n",
              "    .dataframe tbody tr th:only-of-type {\n",
              "        vertical-align: middle;\n",
              "    }\n",
              "\n",
              "    .dataframe tbody tr th {\n",
              "        vertical-align: top;\n",
              "    }\n",
              "\n",
              "    .dataframe thead th {\n",
              "        text-align: right;\n",
              "    }\n",
              "</style>\n",
              "<table border=\"1\" class=\"dataframe\">\n",
              "  <thead>\n",
              "    <tr style=\"text-align: right;\">\n",
              "      <th></th>\n",
              "      <th>subMarca</th>\n",
              "      <th>Modelo</th>\n",
              "    </tr>\n",
              "  </thead>\n",
              "  <tbody>\n",
              "    <tr>\n",
              "      <th>0</th>\n",
              "      <td>Civic</td>\n",
              "      <td>2015</td>\n",
              "    </tr>\n",
              "    <tr>\n",
              "      <th>3</th>\n",
              "      <td>Fit</td>\n",
              "      <td>2015</td>\n",
              "    </tr>\n",
              "  </tbody>\n",
              "</table>\n",
              "</div>"
            ],
            "text/plain": [
              "  subMarca Modelo\n",
              "0    Civic   2015\n",
              "3      Fit   2015"
            ]
          },
          "metadata": {
            "tags": []
          },
          "execution_count": 33
        }
      ]
    },
    {
      "cell_type": "code",
      "metadata": {
        "id": "bU-vxJTIFZZU"
      },
      "source": [
        ""
      ],
      "execution_count": null,
      "outputs": []
    },
    {
      "cell_type": "markdown",
      "metadata": {
        "id": "M5CZ-5zoG-Kd"
      },
      "source": [
        "Veamos un ejemplo de Autos Honda con menos de 100,000 kms"
      ]
    },
    {
      "cell_type": "code",
      "metadata": {
        "colab": {
          "base_uri": "https://localhost:8080/",
          "height": 80
        },
        "id": "8sLINQeqHCeR",
        "outputId": "22e76b27-887b-4b3e-9583-7facaa946bf1"
      },
      "source": [
        "excel_autos.loc[ (excel_autos[\"Marca\"]==\"Honda\") & (excel_autos[\"kilometraje\"] < 100000 ) ]"
      ],
      "execution_count": null,
      "outputs": [
        {
          "output_type": "execute_result",
          "data": {
            "text/html": [
              "<div>\n",
              "<style scoped>\n",
              "    .dataframe tbody tr th:only-of-type {\n",
              "        vertical-align: middle;\n",
              "    }\n",
              "\n",
              "    .dataframe tbody tr th {\n",
              "        vertical-align: top;\n",
              "    }\n",
              "\n",
              "    .dataframe thead th {\n",
              "        text-align: right;\n",
              "    }\n",
              "</style>\n",
              "<table border=\"1\" class=\"dataframe\">\n",
              "  <thead>\n",
              "    <tr style=\"text-align: right;\">\n",
              "      <th></th>\n",
              "      <th>Marca</th>\n",
              "      <th>subMarca</th>\n",
              "      <th>Modelo</th>\n",
              "      <th>kilometraje</th>\n",
              "      <th>precio MXP</th>\n",
              "    </tr>\n",
              "  </thead>\n",
              "  <tbody>\n",
              "    <tr>\n",
              "      <th>0</th>\n",
              "      <td>Honda</td>\n",
              "      <td>Civic</td>\n",
              "      <td>2015</td>\n",
              "      <td>67000</td>\n",
              "      <td>256000</td>\n",
              "    </tr>\n",
              "  </tbody>\n",
              "</table>\n",
              "</div>"
            ],
            "text/plain": [
              "   Marca subMarca Modelo kilometraje precio MXP\n",
              "0  Honda    Civic   2015       67000     256000"
            ]
          },
          "metadata": {
            "tags": []
          },
          "execution_count": 37
        }
      ]
    },
    {
      "cell_type": "markdown",
      "metadata": {
        "id": "tu0q-7n4L2kK"
      },
      "source": [
        "Una Consulta interesante: muestra los autos Honda que cuestan menos que el promedio de autos <h1>Pendiente, agregar al final, o probablemente en grupos</h1>"
      ]
    },
    {
      "cell_type": "code",
      "metadata": {
        "colab": {
          "base_uri": "https://localhost:8080/"
        },
        "id": "9SiUu7skMZW7",
        "outputId": "3eddedc5-c8c7-4717-a151-4e05b54ea63d"
      },
      "source": [
        "excel_autos[\"precio MXP\"].mean()"
      ],
      "execution_count": null,
      "outputs": [
        {
          "output_type": "execute_result",
          "data": {
            "text/plain": [
              "190128.57142857142"
            ]
          },
          "metadata": {
            "tags": []
          },
          "execution_count": 42
        }
      ]
    },
    {
      "cell_type": "code",
      "metadata": {
        "colab": {
          "base_uri": "https://localhost:8080/",
          "height": 175
        },
        "id": "lA0ZMZ3uL-6U",
        "outputId": "554b4016-bca4-4c23-fefe-906a7e04449c"
      },
      "source": [
        "excel_autos.loc[excel_autos[\"precio MXP\"] < excel_autos[\"precio MXP\"].mean()]"
      ],
      "execution_count": null,
      "outputs": [
        {
          "output_type": "execute_result",
          "data": {
            "text/html": [
              "<div>\n",
              "<style scoped>\n",
              "    .dataframe tbody tr th:only-of-type {\n",
              "        vertical-align: middle;\n",
              "    }\n",
              "\n",
              "    .dataframe tbody tr th {\n",
              "        vertical-align: top;\n",
              "    }\n",
              "\n",
              "    .dataframe thead th {\n",
              "        text-align: right;\n",
              "    }\n",
              "</style>\n",
              "<table border=\"1\" class=\"dataframe\">\n",
              "  <thead>\n",
              "    <tr style=\"text-align: right;\">\n",
              "      <th></th>\n",
              "      <th>Marca</th>\n",
              "      <th>subMarca</th>\n",
              "      <th>Modelo</th>\n",
              "      <th>kilometraje</th>\n",
              "      <th>precio MXP</th>\n",
              "    </tr>\n",
              "  </thead>\n",
              "  <tbody>\n",
              "    <tr>\n",
              "      <th>1</th>\n",
              "      <td>VolksWagen</td>\n",
              "      <td>Jetta</td>\n",
              "      <td>2009</td>\n",
              "      <td>148500</td>\n",
              "      <td>110000</td>\n",
              "    </tr>\n",
              "    <tr>\n",
              "      <th>2</th>\n",
              "      <td>Toyota</td>\n",
              "      <td>Sienna</td>\n",
              "      <td>2011</td>\n",
              "      <td>140500</td>\n",
              "      <td>149900</td>\n",
              "    </tr>\n",
              "    <tr>\n",
              "      <th>3</th>\n",
              "      <td>Honda</td>\n",
              "      <td>Fit</td>\n",
              "      <td>2015</td>\n",
              "      <td>110000</td>\n",
              "      <td>140000</td>\n",
              "    </tr>\n",
              "    <tr>\n",
              "      <th>5</th>\n",
              "      <td>Susuki</td>\n",
              "      <td>Vitara</td>\n",
              "      <td>2016</td>\n",
              "      <td>85000</td>\n",
              "      <td>185000</td>\n",
              "    </tr>\n",
              "  </tbody>\n",
              "</table>\n",
              "</div>"
            ],
            "text/plain": [
              "        Marca subMarca Modelo kilometraje precio MXP\n",
              "1  VolksWagen    Jetta   2009      148500     110000\n",
              "2     Toyota    Sienna   2011      140500     149900\n",
              "3       Honda      Fit   2015      110000     140000\n",
              "5      Susuki   Vitara   2016       85000     185000"
            ]
          },
          "metadata": {
            "tags": []
          },
          "execution_count": 41
        }
      ]
    },
    {
      "cell_type": "markdown",
      "metadata": {
        "id": "I28yKoTPLeLV"
      },
      "source": [
        "<h1>Grupos</h1>\n",
        "\n"
      ]
    },
    {
      "cell_type": "code",
      "metadata": {
        "colab": {
          "base_uri": "https://localhost:8080/"
        },
        "id": "_U9WVwRWLlII",
        "outputId": "ba55ec91-3861-4c7c-d23c-7bf469073bda"
      },
      "source": [
        "excel_autos.groupby(\"Marca\").size()\n"
      ],
      "execution_count": null,
      "outputs": [
        {
          "output_type": "execute_result",
          "data": {
            "text/plain": [
              "Marca\n",
              "Audi          1\n",
              "Honda         2\n",
              "Mazda         1\n",
              "Susuki        1\n",
              "Toyota        1\n",
              "VolksWagen    1\n",
              "dtype: int64"
            ]
          },
          "metadata": {
            "tags": []
          },
          "execution_count": 20
        }
      ]
    },
    {
      "cell_type": "markdown",
      "metadata": {
        "id": "L-IUWvf7MvGi"
      },
      "source": [
        "Suma de precios de autos por marca"
      ]
    },
    {
      "cell_type": "code",
      "metadata": {
        "colab": {
          "base_uri": "https://localhost:8080/",
          "height": 269
        },
        "id": "huPmYGZnMrzD",
        "outputId": "9b6e0df2-a2e3-4b68-fa78-bc8ce089caec"
      },
      "source": [
        "import numpy as np \n",
        "\n",
        "#excel_autos.groupby(by=[\"Marca\"]).agg({\"precio MXP\": np.sum, \"Marca\":np.size})\n",
        "\n",
        "#sumaPrecios = excel_autos.groupby(by=[\"Marca\"]).agg({\"precio MXP\": np.sum})\n",
        "\n",
        "sumaPrecios = excel_autos.groupby(by=[\"Marca\"]).agg({\"precio MXP\": np.sum, \"Marca\":np.size})\n",
        "\n",
        "sumaPrecios\n",
        "\n"
      ],
      "execution_count": null,
      "outputs": [
        {
          "output_type": "execute_result",
          "data": {
            "text/html": [
              "<div>\n",
              "<style scoped>\n",
              "    .dataframe tbody tr th:only-of-type {\n",
              "        vertical-align: middle;\n",
              "    }\n",
              "\n",
              "    .dataframe tbody tr th {\n",
              "        vertical-align: top;\n",
              "    }\n",
              "\n",
              "    .dataframe thead th {\n",
              "        text-align: right;\n",
              "    }\n",
              "</style>\n",
              "<table border=\"1\" class=\"dataframe\">\n",
              "  <thead>\n",
              "    <tr style=\"text-align: right;\">\n",
              "      <th></th>\n",
              "      <th>precio MXP</th>\n",
              "      <th>Marca</th>\n",
              "    </tr>\n",
              "    <tr>\n",
              "      <th>Marca</th>\n",
              "      <th></th>\n",
              "      <th></th>\n",
              "    </tr>\n",
              "  </thead>\n",
              "  <tbody>\n",
              "    <tr>\n",
              "      <th>Audi</th>\n",
              "      <td>225000</td>\n",
              "      <td>1</td>\n",
              "    </tr>\n",
              "    <tr>\n",
              "      <th>Honda</th>\n",
              "      <td>396000</td>\n",
              "      <td>2</td>\n",
              "    </tr>\n",
              "    <tr>\n",
              "      <th>Mazda</th>\n",
              "      <td>265000</td>\n",
              "      <td>1</td>\n",
              "    </tr>\n",
              "    <tr>\n",
              "      <th>Susuki</th>\n",
              "      <td>185000</td>\n",
              "      <td>1</td>\n",
              "    </tr>\n",
              "    <tr>\n",
              "      <th>Toyota</th>\n",
              "      <td>149900</td>\n",
              "      <td>1</td>\n",
              "    </tr>\n",
              "    <tr>\n",
              "      <th>VolksWagen</th>\n",
              "      <td>110000</td>\n",
              "      <td>1</td>\n",
              "    </tr>\n",
              "  </tbody>\n",
              "</table>\n",
              "</div>"
            ],
            "text/plain": [
              "            precio MXP  Marca\n",
              "Marca                        \n",
              "Audi            225000      1\n",
              "Honda           396000      2\n",
              "Mazda           265000      1\n",
              "Susuki          185000      1\n",
              "Toyota          149900      1\n",
              "VolksWagen      110000      1"
            ]
          },
          "metadata": {
            "tags": []
          },
          "execution_count": 29
        }
      ]
    },
    {
      "cell_type": "code",
      "metadata": {
        "colab": {
          "base_uri": "https://localhost:8080/",
          "height": 269
        },
        "id": "8iweM50to0yD",
        "outputId": "39344702-163b-46c8-db41-1f45e319c978"
      },
      "source": [
        "sumaPrecios = sumaPrecios.rename(columns={\"Marca\" : \"cuantos\"})\n",
        "#sumaPrecios.reset_index()\n",
        "sumaPrecios"
      ],
      "execution_count": null,
      "outputs": [
        {
          "output_type": "execute_result",
          "data": {
            "text/html": [
              "<div>\n",
              "<style scoped>\n",
              "    .dataframe tbody tr th:only-of-type {\n",
              "        vertical-align: middle;\n",
              "    }\n",
              "\n",
              "    .dataframe tbody tr th {\n",
              "        vertical-align: top;\n",
              "    }\n",
              "\n",
              "    .dataframe thead th {\n",
              "        text-align: right;\n",
              "    }\n",
              "</style>\n",
              "<table border=\"1\" class=\"dataframe\">\n",
              "  <thead>\n",
              "    <tr style=\"text-align: right;\">\n",
              "      <th></th>\n",
              "      <th>precio MXP</th>\n",
              "      <th>cuantos</th>\n",
              "    </tr>\n",
              "    <tr>\n",
              "      <th>Marca</th>\n",
              "      <th></th>\n",
              "      <th></th>\n",
              "    </tr>\n",
              "  </thead>\n",
              "  <tbody>\n",
              "    <tr>\n",
              "      <th>Audi</th>\n",
              "      <td>225000</td>\n",
              "      <td>1</td>\n",
              "    </tr>\n",
              "    <tr>\n",
              "      <th>Honda</th>\n",
              "      <td>396000</td>\n",
              "      <td>2</td>\n",
              "    </tr>\n",
              "    <tr>\n",
              "      <th>Mazda</th>\n",
              "      <td>265000</td>\n",
              "      <td>1</td>\n",
              "    </tr>\n",
              "    <tr>\n",
              "      <th>Susuki</th>\n",
              "      <td>185000</td>\n",
              "      <td>1</td>\n",
              "    </tr>\n",
              "    <tr>\n",
              "      <th>Toyota</th>\n",
              "      <td>149900</td>\n",
              "      <td>1</td>\n",
              "    </tr>\n",
              "    <tr>\n",
              "      <th>VolksWagen</th>\n",
              "      <td>110000</td>\n",
              "      <td>1</td>\n",
              "    </tr>\n",
              "  </tbody>\n",
              "</table>\n",
              "</div>"
            ],
            "text/plain": [
              "            precio MXP  cuantos\n",
              "Marca                          \n",
              "Audi            225000        1\n",
              "Honda           396000        2\n",
              "Mazda           265000        1\n",
              "Susuki          185000        1\n",
              "Toyota          149900        1\n",
              "VolksWagen      110000        1"
            ]
          },
          "metadata": {
            "tags": []
          },
          "execution_count": 30
        }
      ]
    },
    {
      "cell_type": "code",
      "metadata": {
        "colab": {
          "base_uri": "https://localhost:8080/",
          "height": 269
        },
        "id": "mDPf3OEIoOEO",
        "outputId": "34d9e403-bd90-40aa-ad6f-137fa8e0dfb4"
      },
      "source": [
        "#sumaPrecios = sumaPrecios.rename(columns={\"Marca\" : \"cuantos\"})\n",
        "#sumaPrecios.columnms = sumaPrecios.columns.droplevel()\n",
        "\n",
        "\n",
        "\n",
        "sumaPrecios\n"
      ],
      "execution_count": null,
      "outputs": [
        {
          "output_type": "execute_result",
          "data": {
            "text/html": [
              "<div>\n",
              "<style scoped>\n",
              "    .dataframe tbody tr th:only-of-type {\n",
              "        vertical-align: middle;\n",
              "    }\n",
              "\n",
              "    .dataframe tbody tr th {\n",
              "        vertical-align: top;\n",
              "    }\n",
              "\n",
              "    .dataframe thead th {\n",
              "        text-align: right;\n",
              "    }\n",
              "</style>\n",
              "<table border=\"1\" class=\"dataframe\">\n",
              "  <thead>\n",
              "    <tr style=\"text-align: right;\">\n",
              "      <th></th>\n",
              "      <th>precio MXP</th>\n",
              "      <th>cuantos</th>\n",
              "    </tr>\n",
              "    <tr>\n",
              "      <th>Marca</th>\n",
              "      <th></th>\n",
              "      <th></th>\n",
              "    </tr>\n",
              "  </thead>\n",
              "  <tbody>\n",
              "    <tr>\n",
              "      <th>Audi</th>\n",
              "      <td>225000</td>\n",
              "      <td>1</td>\n",
              "    </tr>\n",
              "    <tr>\n",
              "      <th>Honda</th>\n",
              "      <td>396000</td>\n",
              "      <td>2</td>\n",
              "    </tr>\n",
              "    <tr>\n",
              "      <th>Mazda</th>\n",
              "      <td>265000</td>\n",
              "      <td>1</td>\n",
              "    </tr>\n",
              "    <tr>\n",
              "      <th>Susuki</th>\n",
              "      <td>185000</td>\n",
              "      <td>1</td>\n",
              "    </tr>\n",
              "    <tr>\n",
              "      <th>Toyota</th>\n",
              "      <td>149900</td>\n",
              "      <td>1</td>\n",
              "    </tr>\n",
              "    <tr>\n",
              "      <th>VolksWagen</th>\n",
              "      <td>110000</td>\n",
              "      <td>1</td>\n",
              "    </tr>\n",
              "  </tbody>\n",
              "</table>\n",
              "</div>"
            ],
            "text/plain": [
              "            precio MXP  cuantos\n",
              "Marca                          \n",
              "Audi            225000        1\n",
              "Honda           396000        2\n",
              "Mazda           265000        1\n",
              "Susuki          185000        1\n",
              "Toyota          149900        1\n",
              "VolksWagen      110000        1"
            ]
          },
          "metadata": {
            "tags": []
          },
          "execution_count": 23
        }
      ]
    },
    {
      "cell_type": "markdown",
      "metadata": {
        "id": "-KsKWU86kXtu"
      },
      "source": [
        "Promedio de precio de autos por marca"
      ]
    },
    {
      "cell_type": "code",
      "metadata": {
        "colab": {
          "base_uri": "https://localhost:8080/",
          "height": 237
        },
        "id": "h93O2eRFzHh8",
        "outputId": "cbf09462-7a77-488a-fa3e-63b3637f3a58"
      },
      "source": [
        "sumaPreciosLimpio = sumaPrecios.reset_index()\n",
        "sumaPreciosLimpio"
      ],
      "execution_count": null,
      "outputs": [
        {
          "output_type": "execute_result",
          "data": {
            "text/html": [
              "<div>\n",
              "<style scoped>\n",
              "    .dataframe tbody tr th:only-of-type {\n",
              "        vertical-align: middle;\n",
              "    }\n",
              "\n",
              "    .dataframe tbody tr th {\n",
              "        vertical-align: top;\n",
              "    }\n",
              "\n",
              "    .dataframe thead th {\n",
              "        text-align: right;\n",
              "    }\n",
              "</style>\n",
              "<table border=\"1\" class=\"dataframe\">\n",
              "  <thead>\n",
              "    <tr style=\"text-align: right;\">\n",
              "      <th></th>\n",
              "      <th>Marca</th>\n",
              "      <th>precio MXP</th>\n",
              "      <th>cuantos</th>\n",
              "    </tr>\n",
              "  </thead>\n",
              "  <tbody>\n",
              "    <tr>\n",
              "      <th>0</th>\n",
              "      <td>Audi</td>\n",
              "      <td>225000</td>\n",
              "      <td>1</td>\n",
              "    </tr>\n",
              "    <tr>\n",
              "      <th>1</th>\n",
              "      <td>Honda</td>\n",
              "      <td>396000</td>\n",
              "      <td>2</td>\n",
              "    </tr>\n",
              "    <tr>\n",
              "      <th>2</th>\n",
              "      <td>Mazda</td>\n",
              "      <td>265000</td>\n",
              "      <td>1</td>\n",
              "    </tr>\n",
              "    <tr>\n",
              "      <th>3</th>\n",
              "      <td>Susuki</td>\n",
              "      <td>185000</td>\n",
              "      <td>1</td>\n",
              "    </tr>\n",
              "    <tr>\n",
              "      <th>4</th>\n",
              "      <td>Toyota</td>\n",
              "      <td>149900</td>\n",
              "      <td>1</td>\n",
              "    </tr>\n",
              "    <tr>\n",
              "      <th>5</th>\n",
              "      <td>VolksWagen</td>\n",
              "      <td>110000</td>\n",
              "      <td>1</td>\n",
              "    </tr>\n",
              "  </tbody>\n",
              "</table>\n",
              "</div>"
            ],
            "text/plain": [
              "        Marca  precio MXP  cuantos\n",
              "0        Audi      225000        1\n",
              "1       Honda      396000        2\n",
              "2       Mazda      265000        1\n",
              "3      Susuki      185000        1\n",
              "4     Toyota       149900        1\n",
              "5  VolksWagen      110000        1"
            ]
          },
          "metadata": {
            "tags": []
          },
          "execution_count": 31
        }
      ]
    },
    {
      "cell_type": "code",
      "metadata": {
        "colab": {
          "base_uri": "https://localhost:8080/",
          "height": 237
        },
        "id": "xdbEkhci4x34",
        "outputId": "78517c75-f990-4c9c-fde0-c1512b56bdfa"
      },
      "source": [
        "sumaPreciosLimpio[\"Promedio\"] = sumaPreciosLimpio[\"precio MXP\"] / sumaPreciosLimpio[\"cuantos\"]\n",
        "sumaPreciosLimpio"
      ],
      "execution_count": null,
      "outputs": [
        {
          "output_type": "execute_result",
          "data": {
            "text/html": [
              "<div>\n",
              "<style scoped>\n",
              "    .dataframe tbody tr th:only-of-type {\n",
              "        vertical-align: middle;\n",
              "    }\n",
              "\n",
              "    .dataframe tbody tr th {\n",
              "        vertical-align: top;\n",
              "    }\n",
              "\n",
              "    .dataframe thead th {\n",
              "        text-align: right;\n",
              "    }\n",
              "</style>\n",
              "<table border=\"1\" class=\"dataframe\">\n",
              "  <thead>\n",
              "    <tr style=\"text-align: right;\">\n",
              "      <th></th>\n",
              "      <th>Marca</th>\n",
              "      <th>precio MXP</th>\n",
              "      <th>cuantos</th>\n",
              "      <th>Promedio</th>\n",
              "    </tr>\n",
              "  </thead>\n",
              "  <tbody>\n",
              "    <tr>\n",
              "      <th>0</th>\n",
              "      <td>Audi</td>\n",
              "      <td>225000</td>\n",
              "      <td>1</td>\n",
              "      <td>225000.0</td>\n",
              "    </tr>\n",
              "    <tr>\n",
              "      <th>1</th>\n",
              "      <td>Honda</td>\n",
              "      <td>396000</td>\n",
              "      <td>2</td>\n",
              "      <td>198000.0</td>\n",
              "    </tr>\n",
              "    <tr>\n",
              "      <th>2</th>\n",
              "      <td>Mazda</td>\n",
              "      <td>265000</td>\n",
              "      <td>1</td>\n",
              "      <td>265000.0</td>\n",
              "    </tr>\n",
              "    <tr>\n",
              "      <th>3</th>\n",
              "      <td>Susuki</td>\n",
              "      <td>185000</td>\n",
              "      <td>1</td>\n",
              "      <td>185000.0</td>\n",
              "    </tr>\n",
              "    <tr>\n",
              "      <th>4</th>\n",
              "      <td>Toyota</td>\n",
              "      <td>149900</td>\n",
              "      <td>1</td>\n",
              "      <td>149900.0</td>\n",
              "    </tr>\n",
              "    <tr>\n",
              "      <th>5</th>\n",
              "      <td>VolksWagen</td>\n",
              "      <td>110000</td>\n",
              "      <td>1</td>\n",
              "      <td>110000.0</td>\n",
              "    </tr>\n",
              "  </tbody>\n",
              "</table>\n",
              "</div>"
            ],
            "text/plain": [
              "        Marca  precio MXP  cuantos  Promedio\n",
              "0        Audi      225000        1  225000.0\n",
              "1       Honda      396000        2  198000.0\n",
              "2       Mazda      265000        1  265000.0\n",
              "3      Susuki      185000        1  185000.0\n",
              "4     Toyota       149900        1  149900.0\n",
              "5  VolksWagen      110000        1  110000.0"
            ]
          },
          "metadata": {
            "tags": []
          },
          "execution_count": 33
        }
      ]
    },
    {
      "cell_type": "code",
      "metadata": {
        "colab": {
          "base_uri": "https://localhost:8080/",
          "height": 237
        },
        "id": "uf7pN_acDCSG",
        "outputId": "852d38e6-c226-436f-e503-9145f21a0a1b"
      },
      "source": [
        "sumaPreciosLimpio[[\"Marca\",\"Promedio\"]]"
      ],
      "execution_count": null,
      "outputs": [
        {
          "output_type": "execute_result",
          "data": {
            "text/html": [
              "<div>\n",
              "<style scoped>\n",
              "    .dataframe tbody tr th:only-of-type {\n",
              "        vertical-align: middle;\n",
              "    }\n",
              "\n",
              "    .dataframe tbody tr th {\n",
              "        vertical-align: top;\n",
              "    }\n",
              "\n",
              "    .dataframe thead th {\n",
              "        text-align: right;\n",
              "    }\n",
              "</style>\n",
              "<table border=\"1\" class=\"dataframe\">\n",
              "  <thead>\n",
              "    <tr style=\"text-align: right;\">\n",
              "      <th></th>\n",
              "      <th>Marca</th>\n",
              "      <th>Promedio</th>\n",
              "    </tr>\n",
              "  </thead>\n",
              "  <tbody>\n",
              "    <tr>\n",
              "      <th>0</th>\n",
              "      <td>Audi</td>\n",
              "      <td>225000.0</td>\n",
              "    </tr>\n",
              "    <tr>\n",
              "      <th>1</th>\n",
              "      <td>Honda</td>\n",
              "      <td>198000.0</td>\n",
              "    </tr>\n",
              "    <tr>\n",
              "      <th>2</th>\n",
              "      <td>Mazda</td>\n",
              "      <td>265000.0</td>\n",
              "    </tr>\n",
              "    <tr>\n",
              "      <th>3</th>\n",
              "      <td>Susuki</td>\n",
              "      <td>185000.0</td>\n",
              "    </tr>\n",
              "    <tr>\n",
              "      <th>4</th>\n",
              "      <td>Toyota</td>\n",
              "      <td>149900.0</td>\n",
              "    </tr>\n",
              "    <tr>\n",
              "      <th>5</th>\n",
              "      <td>VolksWagen</td>\n",
              "      <td>110000.0</td>\n",
              "    </tr>\n",
              "  </tbody>\n",
              "</table>\n",
              "</div>"
            ],
            "text/plain": [
              "        Marca  Promedio\n",
              "0        Audi  225000.0\n",
              "1       Honda  198000.0\n",
              "2       Mazda  265000.0\n",
              "3      Susuki  185000.0\n",
              "4     Toyota   149900.0\n",
              "5  VolksWagen  110000.0"
            ]
          },
          "metadata": {
            "tags": []
          },
          "execution_count": 35
        }
      ]
    },
    {
      "cell_type": "code",
      "metadata": {
        "colab": {
          "base_uri": "https://localhost:8080/",
          "height": 269
        },
        "id": "A9yIeBAngjRP",
        "outputId": "368e22b1-9c65-48b3-f488-0e64a0c1cdf2"
      },
      "source": [
        "promedio_por_marca = excel_autos.groupby(by=[\"Marca\"]).agg({\"precio MXP\": np.sum, \"Marca\":np.size})\n",
        "promedio_por_marca[\"Promedio\"] = promedio_por_marca[\"precio MXP\"] / promedio_por_marca[\"Marca\"]\n",
        "#promedio_por_marca[[\"Marca\", \"Promedio\"]]\n",
        "promedio_por_marca[[ \"Promedio\"]]"
      ],
      "execution_count": null,
      "outputs": [
        {
          "output_type": "execute_result",
          "data": {
            "text/html": [
              "<div>\n",
              "<style scoped>\n",
              "    .dataframe tbody tr th:only-of-type {\n",
              "        vertical-align: middle;\n",
              "    }\n",
              "\n",
              "    .dataframe tbody tr th {\n",
              "        vertical-align: top;\n",
              "    }\n",
              "\n",
              "    .dataframe thead th {\n",
              "        text-align: right;\n",
              "    }\n",
              "</style>\n",
              "<table border=\"1\" class=\"dataframe\">\n",
              "  <thead>\n",
              "    <tr style=\"text-align: right;\">\n",
              "      <th></th>\n",
              "      <th>Promedio</th>\n",
              "    </tr>\n",
              "    <tr>\n",
              "      <th>Marca</th>\n",
              "      <th></th>\n",
              "    </tr>\n",
              "  </thead>\n",
              "  <tbody>\n",
              "    <tr>\n",
              "      <th>Audi</th>\n",
              "      <td>225000.0</td>\n",
              "    </tr>\n",
              "    <tr>\n",
              "      <th>Honda</th>\n",
              "      <td>198000.0</td>\n",
              "    </tr>\n",
              "    <tr>\n",
              "      <th>Mazda</th>\n",
              "      <td>265000.0</td>\n",
              "    </tr>\n",
              "    <tr>\n",
              "      <th>Susuki</th>\n",
              "      <td>185000.0</td>\n",
              "    </tr>\n",
              "    <tr>\n",
              "      <th>Toyota</th>\n",
              "      <td>149900.0</td>\n",
              "    </tr>\n",
              "    <tr>\n",
              "      <th>VolksWagen</th>\n",
              "      <td>110000.0</td>\n",
              "    </tr>\n",
              "  </tbody>\n",
              "</table>\n",
              "</div>"
            ],
            "text/plain": [
              "            Promedio\n",
              "Marca               \n",
              "Audi        225000.0\n",
              "Honda       198000.0\n",
              "Mazda       265000.0\n",
              "Susuki      185000.0\n",
              "Toyota      149900.0\n",
              "VolksWagen  110000.0"
            ]
          },
          "metadata": {
            "tags": []
          },
          "execution_count": 26
        }
      ]
    },
    {
      "cell_type": "markdown",
      "metadata": {
        "id": "QfQ7tJ-qkbZs"
      },
      "source": [
        "Promedio de precio de autos Honda"
      ]
    },
    {
      "cell_type": "code",
      "metadata": {
        "colab": {
          "base_uri": "https://localhost:8080/",
          "height": 80
        },
        "id": "zJtuGhIUkhz7",
        "outputId": "d3bfc600-d7b2-4f89-9c3b-952c20d572f9"
      },
      "source": [
        "sumaPreciosLimpio[sumaPreciosLimpio[\"Marca\"] == \"Honda\"]"
      ],
      "execution_count": null,
      "outputs": [
        {
          "output_type": "execute_result",
          "data": {
            "text/html": [
              "<div>\n",
              "<style scoped>\n",
              "    .dataframe tbody tr th:only-of-type {\n",
              "        vertical-align: middle;\n",
              "    }\n",
              "\n",
              "    .dataframe tbody tr th {\n",
              "        vertical-align: top;\n",
              "    }\n",
              "\n",
              "    .dataframe thead th {\n",
              "        text-align: right;\n",
              "    }\n",
              "</style>\n",
              "<table border=\"1\" class=\"dataframe\">\n",
              "  <thead>\n",
              "    <tr style=\"text-align: right;\">\n",
              "      <th></th>\n",
              "      <th>Marca</th>\n",
              "      <th>precio MXP</th>\n",
              "      <th>cuantos</th>\n",
              "      <th>Promedio</th>\n",
              "    </tr>\n",
              "  </thead>\n",
              "  <tbody>\n",
              "    <tr>\n",
              "      <th>1</th>\n",
              "      <td>Honda</td>\n",
              "      <td>396000</td>\n",
              "      <td>2</td>\n",
              "      <td>198000.0</td>\n",
              "    </tr>\n",
              "  </tbody>\n",
              "</table>\n",
              "</div>"
            ],
            "text/plain": [
              "   Marca  precio MXP  cuantos  Promedio\n",
              "1  Honda      396000        2  198000.0"
            ]
          },
          "metadata": {
            "tags": []
          },
          "execution_count": 27
        }
      ]
    },
    {
      "cell_type": "markdown",
      "metadata": {
        "id": "u9gzwvjq6BnZ"
      },
      "source": [
        "Ahora, filtramos solo las columnas que necesitamos"
      ]
    },
    {
      "cell_type": "code",
      "metadata": {
        "colab": {
          "base_uri": "https://localhost:8080/",
          "height": 80
        },
        "id": "imvADH5m5qqo",
        "outputId": "991ac9e3-f32d-4623-c16e-78b0b177335f"
      },
      "source": [
        "sumaPreciosLimpio.loc[sumaPreciosLimpio[\"Marca\"] == \"Honda\",[\"Marca\",\"Promedio\"]]"
      ],
      "execution_count": null,
      "outputs": [
        {
          "output_type": "execute_result",
          "data": {
            "text/html": [
              "<div>\n",
              "<style scoped>\n",
              "    .dataframe tbody tr th:only-of-type {\n",
              "        vertical-align: middle;\n",
              "    }\n",
              "\n",
              "    .dataframe tbody tr th {\n",
              "        vertical-align: top;\n",
              "    }\n",
              "\n",
              "    .dataframe thead th {\n",
              "        text-align: right;\n",
              "    }\n",
              "</style>\n",
              "<table border=\"1\" class=\"dataframe\">\n",
              "  <thead>\n",
              "    <tr style=\"text-align: right;\">\n",
              "      <th></th>\n",
              "      <th>Marca</th>\n",
              "      <th>Promedio</th>\n",
              "    </tr>\n",
              "  </thead>\n",
              "  <tbody>\n",
              "    <tr>\n",
              "      <th>1</th>\n",
              "      <td>Honda</td>\n",
              "      <td>198000.0</td>\n",
              "    </tr>\n",
              "  </tbody>\n",
              "</table>\n",
              "</div>"
            ],
            "text/plain": [
              "   Marca  Promedio\n",
              "1  Honda  198000.0"
            ]
          },
          "metadata": {
            "tags": []
          },
          "execution_count": 28
        }
      ]
    },
    {
      "cell_type": "markdown",
      "metadata": {
        "id": "lNC-vMhr8qMf"
      },
      "source": [
        "<h1>Actualizar</h1>\n"
      ]
    },
    {
      "cell_type": "code",
      "metadata": {
        "colab": {
          "base_uri": "https://localhost:8080/",
          "height": 269
        },
        "id": "YTydqQiQ8-oT",
        "outputId": "2b78c3aa-71a2-446d-e57b-d8a931690476"
      },
      "source": [
        "excel_autos"
      ],
      "execution_count": null,
      "outputs": [
        {
          "output_type": "execute_result",
          "data": {
            "text/html": [
              "<div>\n",
              "<style scoped>\n",
              "    .dataframe tbody tr th:only-of-type {\n",
              "        vertical-align: middle;\n",
              "    }\n",
              "\n",
              "    .dataframe tbody tr th {\n",
              "        vertical-align: top;\n",
              "    }\n",
              "\n",
              "    .dataframe thead th {\n",
              "        text-align: right;\n",
              "    }\n",
              "</style>\n",
              "<table border=\"1\" class=\"dataframe\">\n",
              "  <thead>\n",
              "    <tr style=\"text-align: right;\">\n",
              "      <th></th>\n",
              "      <th>Marca</th>\n",
              "      <th>subMarca</th>\n",
              "      <th>Modelo</th>\n",
              "      <th>kilometraje</th>\n",
              "      <th>precio MXP</th>\n",
              "    </tr>\n",
              "  </thead>\n",
              "  <tbody>\n",
              "    <tr>\n",
              "      <th>0</th>\n",
              "      <td>Honda</td>\n",
              "      <td>Civic</td>\n",
              "      <td>2015</td>\n",
              "      <td>67000</td>\n",
              "      <td>256000</td>\n",
              "    </tr>\n",
              "    <tr>\n",
              "      <th>1</th>\n",
              "      <td>VolksWagen</td>\n",
              "      <td>Jetta</td>\n",
              "      <td>2009</td>\n",
              "      <td>148500</td>\n",
              "      <td>110000</td>\n",
              "    </tr>\n",
              "    <tr>\n",
              "      <th>2</th>\n",
              "      <td>Toyota</td>\n",
              "      <td>Sienna</td>\n",
              "      <td>2011</td>\n",
              "      <td>140500</td>\n",
              "      <td>149900</td>\n",
              "    </tr>\n",
              "    <tr>\n",
              "      <th>3</th>\n",
              "      <td>Honda</td>\n",
              "      <td>Fit</td>\n",
              "      <td>2015</td>\n",
              "      <td>110000</td>\n",
              "      <td>140000</td>\n",
              "    </tr>\n",
              "    <tr>\n",
              "      <th>4</th>\n",
              "      <td>Mazda</td>\n",
              "      <td>CX-5</td>\n",
              "      <td>2017</td>\n",
              "      <td>65000</td>\n",
              "      <td>265000</td>\n",
              "    </tr>\n",
              "    <tr>\n",
              "      <th>5</th>\n",
              "      <td>Susuki</td>\n",
              "      <td>Vitara</td>\n",
              "      <td>2016</td>\n",
              "      <td>85000</td>\n",
              "      <td>185000</td>\n",
              "    </tr>\n",
              "    <tr>\n",
              "      <th>6</th>\n",
              "      <td>Audi</td>\n",
              "      <td>A4</td>\n",
              "      <td>2010</td>\n",
              "      <td>185000</td>\n",
              "      <td>225000</td>\n",
              "    </tr>\n",
              "  </tbody>\n",
              "</table>\n",
              "</div>"
            ],
            "text/plain": [
              "        Marca subMarca Modelo kilometraje precio MXP\n",
              "0       Honda    Civic   2015       67000     256000\n",
              "1  VolksWagen    Jetta   2009      148500     110000\n",
              "2     Toyota    Sienna   2011      140500     149900\n",
              "3       Honda      Fit   2015      110000     140000\n",
              "4       Mazda     CX-5   2017       65000     265000\n",
              "5      Susuki   Vitara   2016       85000     185000\n",
              "6        Audi       A4   2010      185000     225000"
            ]
          },
          "metadata": {
            "tags": []
          },
          "execution_count": 142
        }
      ]
    },
    {
      "cell_type": "markdown",
      "metadata": {
        "id": "55D2xClX9D7H"
      },
      "source": [
        "actualicemos el kilometraje del audi a4 a 195000 kms\n"
      ]
    },
    {
      "cell_type": "code",
      "metadata": {
        "colab": {
          "base_uri": "https://localhost:8080/",
          "height": 269
        },
        "id": "UD9tSrjU9J8i",
        "outputId": "1e28572f-427b-4f24-b4f9-039378883a65"
      },
      "source": [
        "excel_autos.iloc[6][\"kilometraje\"] = 195000\n",
        "excel_autos"
      ],
      "execution_count": null,
      "outputs": [
        {
          "output_type": "execute_result",
          "data": {
            "text/html": [
              "<div>\n",
              "<style scoped>\n",
              "    .dataframe tbody tr th:only-of-type {\n",
              "        vertical-align: middle;\n",
              "    }\n",
              "\n",
              "    .dataframe tbody tr th {\n",
              "        vertical-align: top;\n",
              "    }\n",
              "\n",
              "    .dataframe thead th {\n",
              "        text-align: right;\n",
              "    }\n",
              "</style>\n",
              "<table border=\"1\" class=\"dataframe\">\n",
              "  <thead>\n",
              "    <tr style=\"text-align: right;\">\n",
              "      <th></th>\n",
              "      <th>Marca</th>\n",
              "      <th>subMarca</th>\n",
              "      <th>Modelo</th>\n",
              "      <th>kilometraje</th>\n",
              "      <th>precio MXP</th>\n",
              "    </tr>\n",
              "  </thead>\n",
              "  <tbody>\n",
              "    <tr>\n",
              "      <th>0</th>\n",
              "      <td>Honda</td>\n",
              "      <td>Civic</td>\n",
              "      <td>2015</td>\n",
              "      <td>67000</td>\n",
              "      <td>256000</td>\n",
              "    </tr>\n",
              "    <tr>\n",
              "      <th>1</th>\n",
              "      <td>VolksWagen</td>\n",
              "      <td>Jetta</td>\n",
              "      <td>2009</td>\n",
              "      <td>148500</td>\n",
              "      <td>110000</td>\n",
              "    </tr>\n",
              "    <tr>\n",
              "      <th>2</th>\n",
              "      <td>Toyota</td>\n",
              "      <td>Sienna</td>\n",
              "      <td>2011</td>\n",
              "      <td>140500</td>\n",
              "      <td>149900</td>\n",
              "    </tr>\n",
              "    <tr>\n",
              "      <th>3</th>\n",
              "      <td>Honda</td>\n",
              "      <td>Fit</td>\n",
              "      <td>2015</td>\n",
              "      <td>110000</td>\n",
              "      <td>140000</td>\n",
              "    </tr>\n",
              "    <tr>\n",
              "      <th>4</th>\n",
              "      <td>Mazda</td>\n",
              "      <td>CX-5</td>\n",
              "      <td>2017</td>\n",
              "      <td>65000</td>\n",
              "      <td>265000</td>\n",
              "    </tr>\n",
              "    <tr>\n",
              "      <th>5</th>\n",
              "      <td>Susuki</td>\n",
              "      <td>Vitara</td>\n",
              "      <td>2016</td>\n",
              "      <td>85000</td>\n",
              "      <td>185000</td>\n",
              "    </tr>\n",
              "    <tr>\n",
              "      <th>6</th>\n",
              "      <td>Audi</td>\n",
              "      <td>A4</td>\n",
              "      <td>2010</td>\n",
              "      <td>195000</td>\n",
              "      <td>225000</td>\n",
              "    </tr>\n",
              "  </tbody>\n",
              "</table>\n",
              "</div>"
            ],
            "text/plain": [
              "        Marca subMarca Modelo kilometraje precio MXP\n",
              "0       Honda    Civic   2015       67000     256000\n",
              "1  VolksWagen    Jetta   2009      148500     110000\n",
              "2     Toyota    Sienna   2011      140500     149900\n",
              "3       Honda      Fit   2015      110000     140000\n",
              "4       Mazda     CX-5   2017       65000     265000\n",
              "5      Susuki   Vitara   2016       85000     185000\n",
              "6        Audi       A4   2010      195000     225000"
            ]
          },
          "metadata": {
            "tags": []
          },
          "execution_count": 152
        }
      ]
    },
    {
      "cell_type": "markdown",
      "metadata": {
        "id": "xcZdeEIn9-Io"
      },
      "source": [
        "Otra forma utilizando caracteríísticas que no sena el índice o id\n"
      ]
    },
    {
      "cell_type": "code",
      "metadata": {
        "colab": {
          "base_uri": "https://localhost:8080/",
          "height": 269
        },
        "id": "1FKr4Xql-GGG",
        "outputId": "1b05275e-1471-42ee-ff76-851dc8f15657"
      },
      "source": [
        "excel_autos.loc[(excel_autos[\"Marca\"]== \"Audi\")&(excel_autos[\"subMarca\"]==\"A4\"),\"kilometraje\"] = 200000\n",
        "excel_autos"
      ],
      "execution_count": null,
      "outputs": [
        {
          "output_type": "execute_result",
          "data": {
            "text/html": [
              "<div>\n",
              "<style scoped>\n",
              "    .dataframe tbody tr th:only-of-type {\n",
              "        vertical-align: middle;\n",
              "    }\n",
              "\n",
              "    .dataframe tbody tr th {\n",
              "        vertical-align: top;\n",
              "    }\n",
              "\n",
              "    .dataframe thead th {\n",
              "        text-align: right;\n",
              "    }\n",
              "</style>\n",
              "<table border=\"1\" class=\"dataframe\">\n",
              "  <thead>\n",
              "    <tr style=\"text-align: right;\">\n",
              "      <th></th>\n",
              "      <th>Marca</th>\n",
              "      <th>subMarca</th>\n",
              "      <th>Modelo</th>\n",
              "      <th>kilometraje</th>\n",
              "      <th>precio MXP</th>\n",
              "    </tr>\n",
              "  </thead>\n",
              "  <tbody>\n",
              "    <tr>\n",
              "      <th>0</th>\n",
              "      <td>Honda</td>\n",
              "      <td>Civic</td>\n",
              "      <td>2015</td>\n",
              "      <td>67000</td>\n",
              "      <td>256000</td>\n",
              "    </tr>\n",
              "    <tr>\n",
              "      <th>1</th>\n",
              "      <td>VolksWagen</td>\n",
              "      <td>Jetta</td>\n",
              "      <td>2009</td>\n",
              "      <td>148500</td>\n",
              "      <td>110000</td>\n",
              "    </tr>\n",
              "    <tr>\n",
              "      <th>2</th>\n",
              "      <td>Toyota</td>\n",
              "      <td>Sienna</td>\n",
              "      <td>2011</td>\n",
              "      <td>140500</td>\n",
              "      <td>149900</td>\n",
              "    </tr>\n",
              "    <tr>\n",
              "      <th>3</th>\n",
              "      <td>Honda</td>\n",
              "      <td>Fit</td>\n",
              "      <td>2015</td>\n",
              "      <td>110000</td>\n",
              "      <td>140000</td>\n",
              "    </tr>\n",
              "    <tr>\n",
              "      <th>4</th>\n",
              "      <td>Mazda</td>\n",
              "      <td>CX-5</td>\n",
              "      <td>2017</td>\n",
              "      <td>65000</td>\n",
              "      <td>265000</td>\n",
              "    </tr>\n",
              "    <tr>\n",
              "      <th>5</th>\n",
              "      <td>Susuki</td>\n",
              "      <td>Vitara</td>\n",
              "      <td>2016</td>\n",
              "      <td>85000</td>\n",
              "      <td>185000</td>\n",
              "    </tr>\n",
              "    <tr>\n",
              "      <th>6</th>\n",
              "      <td>Audi</td>\n",
              "      <td>A4</td>\n",
              "      <td>2010</td>\n",
              "      <td>200000</td>\n",
              "      <td>225000</td>\n",
              "    </tr>\n",
              "  </tbody>\n",
              "</table>\n",
              "</div>"
            ],
            "text/plain": [
              "        Marca subMarca Modelo kilometraje precio MXP\n",
              "0       Honda    Civic   2015       67000     256000\n",
              "1  VolksWagen    Jetta   2009      148500     110000\n",
              "2     Toyota    Sienna   2011      140500     149900\n",
              "3       Honda      Fit   2015      110000     140000\n",
              "4       Mazda     CX-5   2017       65000     265000\n",
              "5      Susuki   Vitara   2016       85000     185000\n",
              "6        Audi       A4   2010      200000     225000"
            ]
          },
          "metadata": {
            "tags": []
          },
          "execution_count": 157
        }
      ]
    },
    {
      "cell_type": "code",
      "metadata": {
        "id": "PhF71hMZcC8m"
      },
      "source": [
        ""
      ],
      "execution_count": null,
      "outputs": []
    },
    {
      "cell_type": "markdown",
      "metadata": {
        "id": "NjtR_5H0-u81"
      },
      "source": [
        "<h1>ELIMINAR\n",
        "</h1>"
      ]
    },
    {
      "cell_type": "markdown",
      "metadata": {
        "id": "3GXvFvRw-0zk"
      },
      "source": [
        "Eliminemos primero a la Sienna usando su indice. En pandas no podemos eliminar datos, lo que podemos hacer es seleccionar los datos que prevalecen y guardarlos, ya sea en el mismo dataFrame o en otro"
      ]
    },
    {
      "cell_type": "code",
      "metadata": {
        "colab": {
          "base_uri": "https://localhost:8080/",
          "height": 237
        },
        "id": "6mI5D2l5__IP",
        "outputId": "4b4e9be0-2901-47fc-984e-c34fef3262cf"
      },
      "source": [
        "index_to_delete = 2;\n",
        "frames = [excel_autos.iloc[:index_to_delete], excel_autos.iloc[index_to_delete+1:]]\n",
        "result = pd.concat(frames)\n",
        "result"
      ],
      "execution_count": null,
      "outputs": [
        {
          "output_type": "execute_result",
          "data": {
            "text/html": [
              "<div>\n",
              "<style scoped>\n",
              "    .dataframe tbody tr th:only-of-type {\n",
              "        vertical-align: middle;\n",
              "    }\n",
              "\n",
              "    .dataframe tbody tr th {\n",
              "        vertical-align: top;\n",
              "    }\n",
              "\n",
              "    .dataframe thead th {\n",
              "        text-align: right;\n",
              "    }\n",
              "</style>\n",
              "<table border=\"1\" class=\"dataframe\">\n",
              "  <thead>\n",
              "    <tr style=\"text-align: right;\">\n",
              "      <th></th>\n",
              "      <th>Marca</th>\n",
              "      <th>subMarca</th>\n",
              "      <th>Modelo</th>\n",
              "      <th>kilometraje</th>\n",
              "      <th>precio MXP</th>\n",
              "    </tr>\n",
              "  </thead>\n",
              "  <tbody>\n",
              "    <tr>\n",
              "      <th>0</th>\n",
              "      <td>Honda</td>\n",
              "      <td>Civic</td>\n",
              "      <td>2015</td>\n",
              "      <td>67000</td>\n",
              "      <td>256000</td>\n",
              "    </tr>\n",
              "    <tr>\n",
              "      <th>1</th>\n",
              "      <td>VolksWagen</td>\n",
              "      <td>Jetta</td>\n",
              "      <td>2009</td>\n",
              "      <td>148500</td>\n",
              "      <td>110000</td>\n",
              "    </tr>\n",
              "    <tr>\n",
              "      <th>3</th>\n",
              "      <td>Honda</td>\n",
              "      <td>Fit</td>\n",
              "      <td>2015</td>\n",
              "      <td>110000</td>\n",
              "      <td>140000</td>\n",
              "    </tr>\n",
              "    <tr>\n",
              "      <th>4</th>\n",
              "      <td>Mazda</td>\n",
              "      <td>CX-5</td>\n",
              "      <td>2017</td>\n",
              "      <td>65000</td>\n",
              "      <td>265000</td>\n",
              "    </tr>\n",
              "    <tr>\n",
              "      <th>5</th>\n",
              "      <td>Susuki</td>\n",
              "      <td>Vitara</td>\n",
              "      <td>2016</td>\n",
              "      <td>85000</td>\n",
              "      <td>185000</td>\n",
              "    </tr>\n",
              "    <tr>\n",
              "      <th>6</th>\n",
              "      <td>Audi</td>\n",
              "      <td>A4</td>\n",
              "      <td>2010</td>\n",
              "      <td>200000</td>\n",
              "      <td>225000</td>\n",
              "    </tr>\n",
              "  </tbody>\n",
              "</table>\n",
              "</div>"
            ],
            "text/plain": [
              "        Marca subMarca Modelo kilometraje precio MXP\n",
              "0       Honda    Civic   2015       67000     256000\n",
              "1  VolksWagen    Jetta   2009      148500     110000\n",
              "3       Honda      Fit   2015      110000     140000\n",
              "4       Mazda     CX-5   2017       65000     265000\n",
              "5      Susuki   Vitara   2016       85000     185000\n",
              "6        Audi       A4   2010      200000     225000"
            ]
          },
          "metadata": {
            "tags": []
          },
          "execution_count": 165
        }
      ]
    },
    {
      "cell_type": "markdown",
      "metadata": {
        "id": "2-zY49daBRr0"
      },
      "source": [
        "Ahora supongamos que quiero eliminar los autos que cuesten más de 200000 mxp\n",
        "En lugar de eliminar los que cuestan máás de dicha cantidad, me quedo con los que cuesten igual o menos a esa cantidad."
      ]
    },
    {
      "cell_type": "code",
      "metadata": {
        "colab": {
          "base_uri": "https://localhost:8080/",
          "height": 175
        },
        "id": "fH5k0AzX-5PM",
        "outputId": "81c09707-7119-4087-b303-3e4f6e168f8a"
      },
      "source": [
        "excel_autos2 = excel_autos.loc[excel_autos[\"precio MXP\"] <= 200000]\n",
        "excel_autos2"
      ],
      "execution_count": null,
      "outputs": [
        {
          "output_type": "execute_result",
          "data": {
            "text/html": [
              "<div>\n",
              "<style scoped>\n",
              "    .dataframe tbody tr th:only-of-type {\n",
              "        vertical-align: middle;\n",
              "    }\n",
              "\n",
              "    .dataframe tbody tr th {\n",
              "        vertical-align: top;\n",
              "    }\n",
              "\n",
              "    .dataframe thead th {\n",
              "        text-align: right;\n",
              "    }\n",
              "</style>\n",
              "<table border=\"1\" class=\"dataframe\">\n",
              "  <thead>\n",
              "    <tr style=\"text-align: right;\">\n",
              "      <th></th>\n",
              "      <th>Marca</th>\n",
              "      <th>subMarca</th>\n",
              "      <th>Modelo</th>\n",
              "      <th>kilometraje</th>\n",
              "      <th>precio MXP</th>\n",
              "    </tr>\n",
              "  </thead>\n",
              "  <tbody>\n",
              "    <tr>\n",
              "      <th>1</th>\n",
              "      <td>VolksWagen</td>\n",
              "      <td>Jetta</td>\n",
              "      <td>2009</td>\n",
              "      <td>148500</td>\n",
              "      <td>110000</td>\n",
              "    </tr>\n",
              "    <tr>\n",
              "      <th>2</th>\n",
              "      <td>Toyota</td>\n",
              "      <td>Sienna</td>\n",
              "      <td>2011</td>\n",
              "      <td>140500</td>\n",
              "      <td>149900</td>\n",
              "    </tr>\n",
              "    <tr>\n",
              "      <th>3</th>\n",
              "      <td>Honda</td>\n",
              "      <td>Fit</td>\n",
              "      <td>2015</td>\n",
              "      <td>110000</td>\n",
              "      <td>140000</td>\n",
              "    </tr>\n",
              "    <tr>\n",
              "      <th>5</th>\n",
              "      <td>Susuki</td>\n",
              "      <td>Vitara</td>\n",
              "      <td>2016</td>\n",
              "      <td>85000</td>\n",
              "      <td>185000</td>\n",
              "    </tr>\n",
              "  </tbody>\n",
              "</table>\n",
              "</div>"
            ],
            "text/plain": [
              "        Marca subMarca Modelo kilometraje precio MXP\n",
              "1  VolksWagen    Jetta   2009      148500     110000\n",
              "2     Toyota    Sienna   2011      140500     149900\n",
              "3       Honda      Fit   2015      110000     140000\n",
              "5      Susuki   Vitara   2016       85000     185000"
            ]
          },
          "metadata": {
            "tags": []
          },
          "execution_count": 37
        }
      ]
    },
    {
      "cell_type": "code",
      "metadata": {
        "colab": {
          "base_uri": "https://localhost:8080/"
        },
        "id": "XAN-Z98NK9iD",
        "outputId": "7aad627f-c9da-4640-dbf6-68f9a8eada61"
      },
      "source": [
        "!pip install XlsxWriter\n",
        "import xlsxwriter\n",
        "excel_autos2.to_excel(\"/content/gdrive/MyDrive/Colab Notebooks/excelAutos2.xlsx\", sheet_name=\"autos\", engine=\"xlsxwriter\")"
      ],
      "execution_count": null,
      "outputs": [
        {
          "output_type": "stream",
          "text": [
            "Requirement already satisfied: XlsxWriter in /usr/local/lib/python3.6/dist-packages (1.3.7)\n"
          ],
          "name": "stdout"
        }
      ]
    },
    {
      "cell_type": "code",
      "metadata": {
        "id": "dTgzjXJ-cr9O"
      },
      "source": [
        "excel_autos.to_csv(\"/content/gdrive/MyDrive/Colab Notebooks/excelAutos.csv\")"
      ],
      "execution_count": null,
      "outputs": []
    }
  ]
}