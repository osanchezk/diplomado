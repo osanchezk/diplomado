{
  "nbformat": 4,
  "nbformat_minor": 0,
  "metadata": {
    "colab": {
      "name": "M4 - Enunciados Practica1.ipynb",
      "provenance": []
    },
    "kernelspec": {
      "display_name": "Python 3",
      "name": "python3"
    }
  },
  "cells": [
    {
      "cell_type": "markdown",
      "metadata": {
        "id": "4N0VOscUBiUc"
      },
      "source": [
        "**MÓDULO 4 - PLATAFORMAS DE VISUALIZACIÓN**\n",
        "\n",
        "---\n",
        "\n",
        "**SESIÓN: Prepárate para aplicar | Explorando el índice de felicidad**"
      ]
    },
    {
      "cell_type": "code",
      "metadata": {
        "id": "eOVDmi-44VMK"
      },
      "source": [
        "import pandas as pd\n",
        "import seaborn as sns\n",
        "import matplotlib.pyplot as plt"
      ],
      "execution_count": null,
      "outputs": []
    },
    {
      "cell_type": "code",
      "metadata": {
        "id": "2hJH5VAL2r85"
      },
      "source": [
        "happiness = pd.read_csv(\"/content/drive/MyDrive/Colab Notebooks/DS & AI - M4/M4 | Preparate para aplicar/happiness_report.csv\")\n",
        "countries = pd.read_csv(\"/content/drive/MyDrive/Colab Notebooks/DS & AI - M4/M4 | Preparate para aplicar/world_table_country.csv\")"
      ],
      "execution_count": null,
      "outputs": []
    },
    {
      "cell_type": "markdown",
      "metadata": {
        "id": "EBhUv4fMhQo3"
      },
      "source": [
        "# **Pregunta 1**\n",
        "Usa los atributos y funciones estudiadas para familiarizarte con la estructura y contenido del dataframe (`shape`, `columns`, `head()`, `tail()`, `isna()`)"
      ]
    },
    {
      "cell_type": "code",
      "metadata": {
        "id": "I-tI1jrN0Yn8"
      },
      "source": [
        ""
      ],
      "execution_count": null,
      "outputs": []
    },
    {
      "cell_type": "markdown",
      "metadata": {
        "id": "9rTNc9O0hdeJ"
      },
      "source": [
        "# **Pregunta 2**\n",
        "\n",
        "A través de la función `describe()` responde:\n",
        "*   ¿Cuál es el máximo valor de felicidad? ¿El mínimo?\n",
        "*   ¿El factor con mayor desviación estándar? ¿La menor? ¿Qué significa?\n",
        "*   ¿Cuál es el valor del 3er cuartil en la percepción de corrupción ¿Cómo se interpreta?"
      ]
    },
    {
      "cell_type": "code",
      "metadata": {
        "id": "suFco_4y0arC"
      },
      "source": [
        ""
      ],
      "execution_count": null,
      "outputs": []
    },
    {
      "cell_type": "markdown",
      "metadata": {
        "id": "mITjMq2JhmIQ"
      },
      "source": [
        "# **Pregunta 3**\n",
        "\n",
        "Filtra el dataframe para quedarte con 5 países (el más feliz, el menos feliz, México y dos más de tu interés) y visualiza en una misma gráfica los 6 factores"
      ]
    },
    {
      "cell_type": "code",
      "metadata": {
        "id": "k2wNqFsN0c3B"
      },
      "source": [
        ""
      ],
      "execution_count": null,
      "outputs": []
    },
    {
      "cell_type": "markdown",
      "metadata": {
        "id": "rgEMLJ8aywFY"
      },
      "source": [
        "# **Pregunta 4**\n",
        "Del dataframe original obtén:\n",
        "*   Histograma del puntaje (score) ¿Cuál es el rango de puntaje más frecuente?\n",
        "*   Box plot de la esperanza de vida (Healthy life expectancy) ¿Cómo se interpreta?\n",
        "*   Subplots de 2 x 3 con scatter plots del puntaje (score) versus los 6 factores\n",
        "*   ¿Qué factor influye más en la evaluación? ¿Cuál influye menos?\n",
        "*   Compruebe lo anterior con un heatmap"
      ]
    },
    {
      "cell_type": "code",
      "metadata": {
        "id": "QFXGE68Z0fhy"
      },
      "source": [
        ""
      ],
      "execution_count": null,
      "outputs": []
    },
    {
      "cell_type": "markdown",
      "metadata": {
        "id": "wyMgjIxn7n8w"
      },
      "source": [
        "# **Pregunta 5**\n",
        "\n",
        "Combina con el dataframe `countries` (world_table_country.csv) para graficar la felicidad promedio por continente"
      ]
    },
    {
      "cell_type": "code",
      "metadata": {
        "id": "ven8b0Oc0hvJ"
      },
      "source": [
        ""
      ],
      "execution_count": null,
      "outputs": []
    }
  ]
}